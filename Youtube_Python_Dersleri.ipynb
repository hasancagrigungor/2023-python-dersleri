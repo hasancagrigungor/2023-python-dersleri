{
  "nbformat": 4,
  "nbformat_minor": 0,
  "metadata": {
    "colab": {
      "provenance": []
    },
    "kernelspec": {
      "name": "python3",
      "display_name": "Python 3"
    },
    "language_info": {
      "name": "python"
    }
  },
  "cells": [
    {
      "cell_type": "markdown",
      "source": [
        "# Ders 1 - Python Colab Kurulumu\n",
        "\n",
        "Python kodlarını gmail hesabımızla oluşturduğumuz colab üzerinde verimli bir şekilde yazabiliriz."
      ],
      "metadata": {
        "id": "abX2NAP2hy51"
      }
    },
    {
      "cell_type": "code",
      "execution_count": null,
      "metadata": {
        "colab": {
          "base_uri": "https://localhost:8080/"
        },
        "id": "QSSrNOQThZga",
        "outputId": "1107e647-c081-4fd5-adbc-337b4271123b"
      },
      "outputs": [
        {
          "output_type": "stream",
          "name": "stdout",
          "text": [
            "Killa Hakan\n"
          ]
        }
      ],
      "source": [
        "print(\"Killa Hakan\")"
      ]
    },
    {
      "cell_type": "code",
      "source": [
        "print(\"Massaka\")"
      ],
      "metadata": {
        "colab": {
          "base_uri": "https://localhost:8080/"
        },
        "id": "BvFg1SQuhnuJ",
        "outputId": "566b7394-6562-40e1-d350-d6ef1e1e048f"
      },
      "execution_count": null,
      "outputs": [
        {
          "output_type": "stream",
          "name": "stdout",
          "text": [
            "Massaka\n"
          ]
        }
      ]
    },
    {
      "cell_type": "markdown",
      "source": [
        "# Ders 2 - Print Fonksiyonu"
      ],
      "metadata": {
        "id": "0s24WY1_iZsT"
      }
    },
    {
      "cell_type": "code",
      "source": [
        "print(\"Benim Adım\")"
      ],
      "metadata": {
        "colab": {
          "base_uri": "https://localhost:8080/"
        },
        "id": "aab9vukdhuJk",
        "outputId": "790e6bfc-cdd7-4d19-a986-1ad641f04ede"
      },
      "execution_count": null,
      "outputs": [
        {
          "output_type": "stream",
          "name": "stdout",
          "text": [
            "Benim Adım\n"
          ]
        }
      ]
    },
    {
      "cell_type": "code",
      "source": [
        "print(\"Benim Adım\",\"Ferhat Yılmaz\",\"Ben bir rapçiyim\",sep=\"=\")"
      ],
      "metadata": {
        "colab": {
          "base_uri": "https://localhost:8080/"
        },
        "id": "nBt5TdHpirSa",
        "outputId": "8cd76f45-aae8-40f3-89b5-d1920f47e246"
      },
      "execution_count": null,
      "outputs": [
        {
          "output_type": "stream",
          "name": "stdout",
          "text": [
            "Benim Adım=Ferhat Yılmaz=Ben bir rapçiyim\n"
          ]
        }
      ]
    },
    {
      "cell_type": "code",
      "source": [
        "print(\"Hasan\",end=\" \")\n",
        "print(\"Çağrı\",end=\" \")\n",
        "print(\"Güngör\",)"
      ],
      "metadata": {
        "colab": {
          "base_uri": "https://localhost:8080/"
        },
        "id": "qi12MaHEiwNB",
        "outputId": "d7b7ffcc-3729-4632-faf1-6da1965fe74c"
      },
      "execution_count": null,
      "outputs": [
        {
          "output_type": "stream",
          "name": "stdout",
          "text": [
            "Hasan Çağrı Güngör\n"
          ]
        }
      ]
    },
    {
      "cell_type": "markdown",
      "source": [
        "# Ders 3 - Temel Veri Tipleri"
      ],
      "metadata": {
        "id": "zbmSMOM4jYPX"
      }
    },
    {
      "cell_type": "code",
      "source": [
        "isim = \"İsmet inönü\" #string"
      ],
      "metadata": {
        "id": "of8PKegyjAoA"
      },
      "execution_count": null,
      "outputs": []
    },
    {
      "cell_type": "code",
      "source": [
        "print(isim)"
      ],
      "metadata": {
        "colab": {
          "base_uri": "https://localhost:8080/"
        },
        "id": "zEnweksblC1q",
        "outputId": "cdb18532-4911-45f5-ba48-341d5a05f794"
      },
      "execution_count": null,
      "outputs": [
        {
          "output_type": "stream",
          "name": "stdout",
          "text": [
            "İsmet inönü\n"
          ]
        }
      ]
    },
    {
      "cell_type": "code",
      "source": [
        "dogum = 1919 # integer"
      ],
      "metadata": {
        "id": "P_WDhLYglY8l"
      },
      "execution_count": null,
      "outputs": []
    },
    {
      "cell_type": "code",
      "source": [
        "pi = 3.14 # float"
      ],
      "metadata": {
        "id": "qdo8Ga00lhjE"
      },
      "execution_count": null,
      "outputs": []
    },
    {
      "cell_type": "code",
      "source": [
        "borc = None"
      ],
      "metadata": {
        "id": "KYE_yi9blzH_"
      },
      "execution_count": null,
      "outputs": []
    },
    {
      "cell_type": "code",
      "source": [
        "evli = True #booling"
      ],
      "metadata": {
        "id": "uWav3gJol9uh"
      },
      "execution_count": null,
      "outputs": []
    },
    {
      "cell_type": "code",
      "source": [
        "cocuk = False # booling"
      ],
      "metadata": {
        "id": "DS8tb7LXmBVM"
      },
      "execution_count": null,
      "outputs": []
    },
    {
      "cell_type": "code",
      "source": [
        "rapciler = [\"Ezhel\",\"Uzi\",\"Killa\",\"Ceza\",190,True] #list liste"
      ],
      "metadata": {
        "id": "d-99s5n0mEsy"
      },
      "execution_count": null,
      "outputs": []
    },
    {
      "cell_type": "code",
      "source": [
        "veriler= (\"admin\",1,\"289238923\") #tuple demet"
      ],
      "metadata": {
        "id": "c-7OI-WwmSFL"
      },
      "execution_count": null,
      "outputs": []
    },
    {
      "cell_type": "code",
      "source": [
        "sozluk={\n",
        "    \"ball\":\"top\",\n",
        "    \"music\":\"müzik\",\n",
        "    \"sea\":\"deniz\"\n",
        "} #sözlük dict"
      ],
      "metadata": {
        "id": "Rz7ZeXdwmYUJ"
      },
      "execution_count": null,
      "outputs": []
    },
    {
      "cell_type": "code",
      "source": [
        "kume={\"elma\",\"armut\",\"kiraz\"} #set küme"
      ],
      "metadata": {
        "id": "i5AeSnDDmlWQ"
      },
      "execution_count": null,
      "outputs": []
    },
    {
      "cell_type": "markdown",
      "source": [
        "# Ders 4 - String ve Metotları"
      ],
      "metadata": {
        "id": "KGDItjVDnFe8"
      }
    },
    {
      "cell_type": "code",
      "source": [
        "mesaj=\"Merhaba HOŞGELDİNİZ\" # Metinsel veri string str"
      ],
      "metadata": {
        "id": "zQY6mnSAnE1q"
      },
      "execution_count": null,
      "outputs": []
    },
    {
      "cell_type": "code",
      "source": [
        "mesaj"
      ],
      "metadata": {
        "colab": {
          "base_uri": "https://localhost:8080/",
          "height": 35
        },
        "id": "kMiftE3nmus9",
        "outputId": "d7f8a31a-351e-401c-b666-1d39c2bd5c4f"
      },
      "execution_count": null,
      "outputs": [
        {
          "output_type": "execute_result",
          "data": {
            "text/plain": [
              "'Merhaba HOŞGELDİNİZ'"
            ],
            "application/vnd.google.colaboratory.intrinsic+json": {
              "type": "string"
            }
          },
          "metadata": {},
          "execution_count": 34
        }
      ]
    },
    {
      "cell_type": "code",
      "source": [
        "print(mesaj)"
      ],
      "metadata": {
        "colab": {
          "base_uri": "https://localhost:8080/"
        },
        "id": "EjXGxY5FpZVj",
        "outputId": "58513530-6aa0-4b51-b4d4-af311b5ace65"
      },
      "execution_count": null,
      "outputs": [
        {
          "output_type": "stream",
          "name": "stdout",
          "text": [
            "Merhaba HOŞGELDİNİZ\n"
          ]
        }
      ]
    },
    {
      "cell_type": "code",
      "source": [
        "mesaj[0]"
      ],
      "metadata": {
        "colab": {
          "base_uri": "https://localhost:8080/",
          "height": 35
        },
        "id": "Bx7muixupaMs",
        "outputId": "b53b1880-b2c0-4608-e9a0-87264abd1814"
      },
      "execution_count": null,
      "outputs": [
        {
          "output_type": "execute_result",
          "data": {
            "text/plain": [
              "'M'"
            ],
            "application/vnd.google.colaboratory.intrinsic+json": {
              "type": "string"
            }
          },
          "metadata": {},
          "execution_count": 38
        }
      ]
    },
    {
      "cell_type": "code",
      "source": [
        "mesaj[1]"
      ],
      "metadata": {
        "colab": {
          "base_uri": "https://localhost:8080/",
          "height": 35
        },
        "id": "bjcOmNTRpjSy",
        "outputId": "ed3a1485-d607-4957-ce44-65c8422fe84d"
      },
      "execution_count": null,
      "outputs": [
        {
          "output_type": "execute_result",
          "data": {
            "text/plain": [
              "'e'"
            ],
            "application/vnd.google.colaboratory.intrinsic+json": {
              "type": "string"
            }
          },
          "metadata": {},
          "execution_count": 39
        }
      ]
    },
    {
      "cell_type": "code",
      "source": [
        "mesaj[0:5]"
      ],
      "metadata": {
        "colab": {
          "base_uri": "https://localhost:8080/",
          "height": 35
        },
        "id": "mpXRnuDJpm10",
        "outputId": "e49cadc5-21de-4f11-e1b8-cf9eecc8b2f9"
      },
      "execution_count": null,
      "outputs": [
        {
          "output_type": "execute_result",
          "data": {
            "text/plain": [
              "'Merha'"
            ],
            "application/vnd.google.colaboratory.intrinsic+json": {
              "type": "string"
            }
          },
          "metadata": {},
          "execution_count": 40
        }
      ]
    },
    {
      "cell_type": "code",
      "source": [
        "mesaj[0:7:2]"
      ],
      "metadata": {
        "colab": {
          "base_uri": "https://localhost:8080/",
          "height": 35
        },
        "id": "7nBQVEUqppFA",
        "outputId": "e50b4f29-50a3-4b45-8e68-e9f6222834df"
      },
      "execution_count": null,
      "outputs": [
        {
          "output_type": "execute_result",
          "data": {
            "text/plain": [
              "'Mraa'"
            ],
            "application/vnd.google.colaboratory.intrinsic+json": {
              "type": "string"
            }
          },
          "metadata": {},
          "execution_count": 44
        }
      ]
    },
    {
      "cell_type": "code",
      "source": [
        "sayi=1903"
      ],
      "metadata": {
        "id": "RaU7Evqxpu3i"
      },
      "execution_count": null,
      "outputs": []
    },
    {
      "cell_type": "code",
      "source": [
        "str(sayi)[-1]"
      ],
      "metadata": {
        "colab": {
          "base_uri": "https://localhost:8080/",
          "height": 35
        },
        "id": "Yom2T1AMp2Cw",
        "outputId": "429fb74c-54b1-4f86-a760-666f50efb1c0"
      },
      "execution_count": null,
      "outputs": [
        {
          "output_type": "execute_result",
          "data": {
            "text/plain": [
              "'3'"
            ],
            "application/vnd.google.colaboratory.intrinsic+json": {
              "type": "string"
            }
          },
          "metadata": {},
          "execution_count": 49
        }
      ]
    },
    {
      "cell_type": "code",
      "source": [
        "mesaj"
      ],
      "metadata": {
        "colab": {
          "base_uri": "https://localhost:8080/",
          "height": 35
        },
        "id": "J0ix5SlUp3FZ",
        "outputId": "90dec7c7-360f-44d6-999a-d88fdb8325d0"
      },
      "execution_count": null,
      "outputs": [
        {
          "output_type": "execute_result",
          "data": {
            "text/plain": [
              "'Merhaba HOŞGELDİNİZ'"
            ],
            "application/vnd.google.colaboratory.intrinsic+json": {
              "type": "string"
            }
          },
          "metadata": {},
          "execution_count": 50
        }
      ]
    },
    {
      "cell_type": "code",
      "source": [
        "mesaj.title()"
      ],
      "metadata": {
        "colab": {
          "base_uri": "https://localhost:8080/",
          "height": 35
        },
        "id": "bwvu9jqeqAwo",
        "outputId": "1090494c-8f6d-49e7-fc56-985223894c17"
      },
      "execution_count": null,
      "outputs": [
        {
          "output_type": "execute_result",
          "data": {
            "text/plain": [
              "'Merhaba Hoşgeldi̇ni̇z'"
            ],
            "application/vnd.google.colaboratory.intrinsic+json": {
              "type": "string"
            }
          },
          "metadata": {},
          "execution_count": 51
        }
      ]
    },
    {
      "cell_type": "code",
      "source": [
        "mesaj.upper()"
      ],
      "metadata": {
        "colab": {
          "base_uri": "https://localhost:8080/",
          "height": 35
        },
        "id": "R9dUW90SqC9c",
        "outputId": "cebd2a50-93ec-4220-d7e5-bd16996d417e"
      },
      "execution_count": null,
      "outputs": [
        {
          "output_type": "execute_result",
          "data": {
            "text/plain": [
              "'MERHABA HOŞGELDİNİZ'"
            ],
            "application/vnd.google.colaboratory.intrinsic+json": {
              "type": "string"
            }
          },
          "metadata": {},
          "execution_count": 52
        }
      ]
    },
    {
      "cell_type": "code",
      "source": [
        "mesaj.lower()"
      ],
      "metadata": {
        "colab": {
          "base_uri": "https://localhost:8080/",
          "height": 35
        },
        "id": "mgvqCjMoqFiF",
        "outputId": "2efdcfae-862c-4713-f9ca-12f94ccbc9f6"
      },
      "execution_count": null,
      "outputs": [
        {
          "output_type": "execute_result",
          "data": {
            "text/plain": [
              "'merhaba hoşgeldi̇ni̇z'"
            ],
            "application/vnd.google.colaboratory.intrinsic+json": {
              "type": "string"
            }
          },
          "metadata": {},
          "execution_count": 53
        }
      ]
    },
    {
      "cell_type": "code",
      "source": [
        "mesaj= mesaj.lower()"
      ],
      "metadata": {
        "id": "s95vnDWYqHAZ"
      },
      "execution_count": null,
      "outputs": []
    },
    {
      "cell_type": "code",
      "source": [
        "mesaj"
      ],
      "metadata": {
        "colab": {
          "base_uri": "https://localhost:8080/",
          "height": 35
        },
        "id": "e10k1oCzqIeo",
        "outputId": "a56e2db6-0a5b-49b7-f4b7-c9351c04454a"
      },
      "execution_count": null,
      "outputs": [
        {
          "output_type": "execute_result",
          "data": {
            "text/plain": [
              "'merhaba hoşgeldi̇ni̇z'"
            ],
            "application/vnd.google.colaboratory.intrinsic+json": {
              "type": "string"
            }
          },
          "metadata": {},
          "execution_count": 56
        }
      ]
    },
    {
      "cell_type": "code",
      "source": [
        "mesaj.replace(\"merhaba\",\"selam\")"
      ],
      "metadata": {
        "colab": {
          "base_uri": "https://localhost:8080/",
          "height": 35
        },
        "id": "KszwqtDBqLsq",
        "outputId": "a7dd809e-e873-4222-e1c6-9eb5bc095d1a"
      },
      "execution_count": null,
      "outputs": [
        {
          "output_type": "execute_result",
          "data": {
            "text/plain": [
              "'selam hoşgeldi̇ni̇z'"
            ],
            "application/vnd.google.colaboratory.intrinsic+json": {
              "type": "string"
            }
          },
          "metadata": {},
          "execution_count": 57
        }
      ]
    },
    {
      "cell_type": "code",
      "source": [
        "mesaj.split(\" \")"
      ],
      "metadata": {
        "colab": {
          "base_uri": "https://localhost:8080/"
        },
        "id": "qyvGlPQlqVUC",
        "outputId": "d5a9b02b-aa14-49d9-ffd8-9192909d896b"
      },
      "execution_count": null,
      "outputs": [
        {
          "output_type": "execute_result",
          "data": {
            "text/plain": [
              "['merhaba', 'hoşgeldi̇ni̇z']"
            ]
          },
          "metadata": {},
          "execution_count": 58
        }
      ]
    },
    {
      "cell_type": "code",
      "source": [
        "dir(str)"
      ],
      "metadata": {
        "id": "tbH3tY8Xqalq"
      },
      "execution_count": null,
      "outputs": []
    },
    {
      "cell_type": "code",
      "source": [
        "cumle=\"Ali gel Ali ata bak\""
      ],
      "metadata": {
        "id": "Ptr1U5rKqgNZ"
      },
      "execution_count": null,
      "outputs": []
    },
    {
      "cell_type": "code",
      "source": [
        "cumle.count(\"Ali\")"
      ],
      "metadata": {
        "colab": {
          "base_uri": "https://localhost:8080/"
        },
        "id": "8q7qmfKiqnxd",
        "outputId": "08be7c64-cfd5-4415-e8de-04beec9811c9"
      },
      "execution_count": null,
      "outputs": [
        {
          "output_type": "execute_result",
          "data": {
            "text/plain": [
              "2"
            ]
          },
          "metadata": {},
          "execution_count": 61
        }
      ]
    },
    {
      "cell_type": "code",
      "source": [
        "cumle.count(\"ata\")"
      ],
      "metadata": {
        "colab": {
          "base_uri": "https://localhost:8080/"
        },
        "id": "h08jIAaYqpZr",
        "outputId": "dbcb50c9-7858-4e6c-ec5e-cb0e9d89ee7a"
      },
      "execution_count": null,
      "outputs": [
        {
          "output_type": "execute_result",
          "data": {
            "text/plain": [
              "1"
            ]
          },
          "metadata": {},
          "execution_count": 62
        }
      ]
    },
    {
      "cell_type": "code",
      "source": [
        "cumle.index(\"Ali\")"
      ],
      "metadata": {
        "colab": {
          "base_uri": "https://localhost:8080/"
        },
        "id": "jd7_Lv85qsco",
        "outputId": "92da5a85-1d17-4f74-9bbd-be68c97de717"
      },
      "execution_count": null,
      "outputs": [
        {
          "output_type": "execute_result",
          "data": {
            "text/plain": [
              "0"
            ]
          },
          "metadata": {},
          "execution_count": 63
        }
      ]
    },
    {
      "cell_type": "markdown",
      "source": [
        "# Ders 5 - Numerik İfadeler ve Matematiksel İşlemler"
      ],
      "metadata": {
        "id": "jYhDgdJDsHAe"
      }
    },
    {
      "cell_type": "code",
      "source": [
        "cumhuriyet=1923 #int tam sayı\n",
        "pi=3.14 #float ondalık"
      ],
      "metadata": {
        "id": "ytWt7WQ_qugi"
      },
      "execution_count": null,
      "outputs": []
    },
    {
      "cell_type": "code",
      "source": [
        "int(pi)"
      ],
      "metadata": {
        "colab": {
          "base_uri": "https://localhost:8080/"
        },
        "id": "421lF4mzse5H",
        "outputId": "b8c2e82d-14d2-4d5c-b28a-901d03bdd231"
      },
      "execution_count": null,
      "outputs": [
        {
          "output_type": "execute_result",
          "data": {
            "text/plain": [
              "3"
            ]
          },
          "metadata": {},
          "execution_count": 67
        }
      ]
    },
    {
      "cell_type": "code",
      "source": [
        "int(\"10\")"
      ],
      "metadata": {
        "colab": {
          "base_uri": "https://localhost:8080/"
        },
        "id": "PMNmuHmNspks",
        "outputId": "214fffcb-caac-42b5-a09f-a1206792baf8"
      },
      "execution_count": null,
      "outputs": [
        {
          "output_type": "execute_result",
          "data": {
            "text/plain": [
              "10"
            ]
          },
          "metadata": {},
          "execution_count": 68
        }
      ]
    },
    {
      "cell_type": "code",
      "source": [
        "float(cumhuriyet)"
      ],
      "metadata": {
        "colab": {
          "base_uri": "https://localhost:8080/"
        },
        "id": "rQzieLSPssZa",
        "outputId": "f68c4351-b5f1-495c-9749-cb9b06ab3d6b"
      },
      "execution_count": null,
      "outputs": [
        {
          "output_type": "execute_result",
          "data": {
            "text/plain": [
              "1923.0"
            ]
          },
          "metadata": {},
          "execution_count": 69
        }
      ]
    },
    {
      "cell_type": "code",
      "source": [
        "sayi1=1903\n",
        "sayi2=13"
      ],
      "metadata": {
        "id": "9IXzmfMSsuHU"
      },
      "execution_count": null,
      "outputs": []
    },
    {
      "cell_type": "code",
      "source": [
        "toplam = sayi1 + sayi2"
      ],
      "metadata": {
        "id": "d5jP39ags0vA"
      },
      "execution_count": null,
      "outputs": []
    },
    {
      "cell_type": "code",
      "source": [
        "print(toplam)"
      ],
      "metadata": {
        "colab": {
          "base_uri": "https://localhost:8080/"
        },
        "id": "mseMmDhOs2F3",
        "outputId": "595714be-6309-4f19-975e-64cb047ebdac"
      },
      "execution_count": null,
      "outputs": [
        {
          "output_type": "stream",
          "name": "stdout",
          "text": [
            "1916\n"
          ]
        }
      ]
    },
    {
      "cell_type": "code",
      "source": [
        "print(sayi1,\"ve\",sayi2,\"Değerlerinin Toplamı:\",toplam)"
      ],
      "metadata": {
        "colab": {
          "base_uri": "https://localhost:8080/"
        },
        "id": "S4F6sHkCs6s0",
        "outputId": "b2a00e55-09f3-41fa-d7c1-99cffebae8b7"
      },
      "execution_count": null,
      "outputs": [
        {
          "output_type": "stream",
          "name": "stdout",
          "text": [
            "1903 ve 13 Değerlerinin Toplamı: 1916\n"
          ]
        }
      ]
    },
    {
      "cell_type": "code",
      "source": [
        "sayi1-sayi2"
      ],
      "metadata": {
        "colab": {
          "base_uri": "https://localhost:8080/"
        },
        "id": "D7srP_Dss_Tb",
        "outputId": "ad6c2f4e-5118-4dda-c75f-f730574a20c2"
      },
      "execution_count": null,
      "outputs": [
        {
          "output_type": "execute_result",
          "data": {
            "text/plain": [
              "1890"
            ]
          },
          "metadata": {},
          "execution_count": 76
        }
      ]
    },
    {
      "cell_type": "code",
      "source": [
        "sayi1 * sayi2"
      ],
      "metadata": {
        "colab": {
          "base_uri": "https://localhost:8080/"
        },
        "id": "7RBBwqX1tFeT",
        "outputId": "4369ace6-4186-40b9-c06e-649c55d9b932"
      },
      "execution_count": null,
      "outputs": [
        {
          "output_type": "execute_result",
          "data": {
            "text/plain": [
              "24739"
            ]
          },
          "metadata": {},
          "execution_count": 77
        }
      ]
    },
    {
      "cell_type": "code",
      "source": [
        "sayi2**2"
      ],
      "metadata": {
        "colab": {
          "base_uri": "https://localhost:8080/"
        },
        "id": "8vW-9-qUtHsb",
        "outputId": "625d1fa6-952b-490a-b358-503615ca0c9f"
      },
      "execution_count": null,
      "outputs": [
        {
          "output_type": "execute_result",
          "data": {
            "text/plain": [
              "169"
            ]
          },
          "metadata": {},
          "execution_count": 81
        }
      ]
    },
    {
      "cell_type": "code",
      "source": [
        "pow(sayi2,2)"
      ],
      "metadata": {
        "colab": {
          "base_uri": "https://localhost:8080/"
        },
        "id": "Y0ID5SX2tJJM",
        "outputId": "a9893ed8-373f-45e2-d855-9c77c5074529"
      },
      "execution_count": null,
      "outputs": [
        {
          "output_type": "execute_result",
          "data": {
            "text/plain": [
              "169"
            ]
          },
          "metadata": {},
          "execution_count": 82
        }
      ]
    },
    {
      "cell_type": "code",
      "source": [
        "199/19"
      ],
      "metadata": {
        "colab": {
          "base_uri": "https://localhost:8080/"
        },
        "id": "2hUuusBttOLE",
        "outputId": "d67d6117-bc7a-4fc3-a7f1-1682a2e924f2"
      },
      "execution_count": null,
      "outputs": [
        {
          "output_type": "execute_result",
          "data": {
            "text/plain": [
              "10.473684210526315"
            ]
          },
          "metadata": {},
          "execution_count": 83
        }
      ]
    },
    {
      "cell_type": "code",
      "source": [
        "sayi1/sayi2"
      ],
      "metadata": {
        "colab": {
          "base_uri": "https://localhost:8080/"
        },
        "id": "2d5B_XdftQlD",
        "outputId": "d4c4236f-bc2c-4f77-aed2-1a81d5942926"
      },
      "execution_count": null,
      "outputs": [
        {
          "output_type": "execute_result",
          "data": {
            "text/plain": [
              "146.3846153846154"
            ]
          },
          "metadata": {},
          "execution_count": 84
        }
      ]
    },
    {
      "cell_type": "code",
      "source": [
        "sayi1//sayi2"
      ],
      "metadata": {
        "colab": {
          "base_uri": "https://localhost:8080/"
        },
        "id": "ITbrwXuztSIc",
        "outputId": "faa2d539-5727-4c88-9d3f-f0bb27c267f9"
      },
      "execution_count": null,
      "outputs": [
        {
          "output_type": "execute_result",
          "data": {
            "text/plain": [
              "146"
            ]
          },
          "metadata": {},
          "execution_count": 85
        }
      ]
    },
    {
      "cell_type": "code",
      "source": [
        "sayi1%sayi2"
      ],
      "metadata": {
        "colab": {
          "base_uri": "https://localhost:8080/"
        },
        "id": "eQ-iNKvStUUx",
        "outputId": "14c704b5-fe21-4eba-adbf-9d9e41ae017b"
      },
      "execution_count": null,
      "outputs": [
        {
          "output_type": "execute_result",
          "data": {
            "text/plain": [
              "5"
            ]
          },
          "metadata": {},
          "execution_count": 86
        }
      ]
    },
    {
      "cell_type": "markdown",
      "source": [
        "# Ders6 - input() Fonksiyonu"
      ],
      "metadata": {
        "id": "uOJPYAaMxKbe"
      }
    },
    {
      "cell_type": "code",
      "source": [
        "isim = input(\"Buraya İsim Giriniz\")"
      ],
      "metadata": {
        "colab": {
          "base_uri": "https://localhost:8080/"
        },
        "id": "QmBuEm2TxJkB",
        "outputId": "3cca38a9-d698-497b-bebd-71818a62196e"
      },
      "execution_count": null,
      "outputs": [
        {
          "name": "stdout",
          "output_type": "stream",
          "text": [
            "Buraya İsim GirinizÇağrı\n"
          ]
        }
      ]
    },
    {
      "cell_type": "code",
      "source": [
        "print(isim)"
      ],
      "metadata": {
        "colab": {
          "base_uri": "https://localhost:8080/"
        },
        "id": "N91cUiGEtYq_",
        "outputId": "f37f6755-ed45-4783-b823-8c443f1dfd81"
      },
      "execution_count": null,
      "outputs": [
        {
          "output_type": "stream",
          "name": "stdout",
          "text": [
            "Çağrı\n"
          ]
        }
      ]
    },
    {
      "cell_type": "code",
      "source": [
        "sayi1=float(input(\"ilk sayıyı giriniz\"))\n",
        "sayi2=float(input(\"İkinci sayıyı giriniz\"))\n",
        "toplam=sayi1+sayi2\n",
        "print(toplam)"
      ],
      "metadata": {
        "colab": {
          "base_uri": "https://localhost:8080/"
        },
        "id": "8Ze0ET2kxlIX",
        "outputId": "65680db4-33ab-4211-aef4-5a972754dd51"
      },
      "execution_count": null,
      "outputs": [
        {
          "output_type": "stream",
          "name": "stdout",
          "text": [
            "ilk sayıyı giriniz19\n",
            "İkinci sayıyı giriniz20\n",
            "39.0\n"
          ]
        }
      ]
    },
    {
      "cell_type": "markdown",
      "source": [
        "#Ders-7 Liste ve Metotları"
      ],
      "metadata": {
        "id": "O7w9jKCryakq"
      }
    },
    {
      "cell_type": "code",
      "source": [
        "sayilar = [1,2,3,4,5,6]"
      ],
      "metadata": {
        "id": "A8dKhQ6kyaJG"
      },
      "execution_count": null,
      "outputs": []
    },
    {
      "cell_type": "code",
      "source": [
        "type(sayilar) #veri tipi veren fonksiyon"
      ],
      "metadata": {
        "colab": {
          "base_uri": "https://localhost:8080/"
        },
        "id": "gyo0lp4gxyu9",
        "outputId": "ce7c8305-6027-43c3-9d78-76c524284c92"
      },
      "execution_count": null,
      "outputs": [
        {
          "output_type": "execute_result",
          "data": {
            "text/plain": [
              "list"
            ]
          },
          "metadata": {},
          "execution_count": 97
        }
      ]
    },
    {
      "cell_type": "code",
      "source": [
        "sayilar=[1,2,4.8,\"sıfır\",[0,1,2]]"
      ],
      "metadata": {
        "id": "8AP4DzVcx8FJ"
      },
      "execution_count": null,
      "outputs": []
    },
    {
      "cell_type": "code",
      "source": [
        "len(sayilar) #eleman sayısı"
      ],
      "metadata": {
        "colab": {
          "base_uri": "https://localhost:8080/"
        },
        "id": "_ov8zn71y5Pa",
        "outputId": "60f3f067-3128-4139-9d62-1a6d0178cd79"
      },
      "execution_count": null,
      "outputs": [
        {
          "output_type": "execute_result",
          "data": {
            "text/plain": [
              "5"
            ]
          },
          "metadata": {},
          "execution_count": 105
        }
      ]
    },
    {
      "cell_type": "code",
      "source": [
        "isim=\"Çağrı\""
      ],
      "metadata": {
        "id": "WbsGxR8pzB21"
      },
      "execution_count": null,
      "outputs": []
    },
    {
      "cell_type": "code",
      "source": [
        "len(isim) # karakter sayısını sayar"
      ],
      "metadata": {
        "colab": {
          "base_uri": "https://localhost:8080/"
        },
        "id": "K_Xe_X4lzFoE",
        "outputId": "63628a96-33c9-4c79-9bfe-750cd6eae6a3"
      },
      "execution_count": null,
      "outputs": [
        {
          "output_type": "execute_result",
          "data": {
            "text/plain": [
              "5"
            ]
          },
          "metadata": {},
          "execution_count": 106
        }
      ]
    },
    {
      "cell_type": "code",
      "source": [
        "sayilar[4][0]"
      ],
      "metadata": {
        "colab": {
          "base_uri": "https://localhost:8080/"
        },
        "id": "9BXj-3c4zGfn",
        "outputId": "ce8f025d-75da-40a9-ae2b-7621421c4985"
      },
      "execution_count": null,
      "outputs": [
        {
          "output_type": "execute_result",
          "data": {
            "text/plain": [
              "0"
            ]
          },
          "metadata": {},
          "execution_count": 112
        }
      ]
    },
    {
      "cell_type": "code",
      "source": [
        "sayilar"
      ],
      "metadata": {
        "colab": {
          "base_uri": "https://localhost:8080/"
        },
        "id": "KBnjhGXwzLZ8",
        "outputId": "d0571e6d-7bdf-400d-8151-cb3498bc542a"
      },
      "execution_count": null,
      "outputs": [
        {
          "output_type": "execute_result",
          "data": {
            "text/plain": [
              "[1, 2, 4.8, 'sıfır', [0, 1, 2]]"
            ]
          },
          "metadata": {},
          "execution_count": 113
        }
      ]
    },
    {
      "cell_type": "code",
      "source": [
        "dir(sayilar)"
      ],
      "metadata": {
        "id": "MOj6EB1RzUNO"
      },
      "execution_count": null,
      "outputs": []
    },
    {
      "cell_type": "code",
      "source": [
        "sayilar.append(\"Çağrı\") #sona ekler"
      ],
      "metadata": {
        "id": "iVBJ677yzXd2"
      },
      "execution_count": null,
      "outputs": []
    },
    {
      "cell_type": "code",
      "source": [
        "sayilar"
      ],
      "metadata": {
        "colab": {
          "base_uri": "https://localhost:8080/"
        },
        "id": "eLlwXKROzdYe",
        "outputId": "0712f5bd-d536-468f-e2a5-86ca3578390f"
      },
      "execution_count": null,
      "outputs": [
        {
          "output_type": "execute_result",
          "data": {
            "text/plain": [
              "[1, 2, 4.8, 'sıfır', [0, 1, 2], 'Çağrı']"
            ]
          },
          "metadata": {},
          "execution_count": 116
        }
      ]
    },
    {
      "cell_type": "code",
      "source": [
        "sayilar.insert(3,\"Quaresma\") #istediğim yere değer ekler"
      ],
      "metadata": {
        "id": "a7ppPf4mzgGA"
      },
      "execution_count": null,
      "outputs": []
    },
    {
      "cell_type": "code",
      "source": [
        "sayilar"
      ],
      "metadata": {
        "colab": {
          "base_uri": "https://localhost:8080/"
        },
        "id": "sPuMAbWvzm7z",
        "outputId": "b09ccdb6-f25c-42fe-f632-043a01b7b90d"
      },
      "execution_count": null,
      "outputs": [
        {
          "output_type": "execute_result",
          "data": {
            "text/plain": [
              "[1, 2, 4.8, 'Quaresma', 'sıfır', [0, 1, 2], 'Çağrı', 'Çağrı']"
            ]
          },
          "metadata": {},
          "execution_count": 119
        }
      ]
    },
    {
      "cell_type": "code",
      "source": [
        "sayilar.remove(\"Çağrı\") # değeri siler"
      ],
      "metadata": {
        "id": "cQ28xMtPzn1_"
      },
      "execution_count": null,
      "outputs": []
    },
    {
      "cell_type": "code",
      "source": [
        "sayilar"
      ],
      "metadata": {
        "colab": {
          "base_uri": "https://localhost:8080/"
        },
        "id": "GIz2_Feyzvjw",
        "outputId": "a195ebef-fc4d-474f-dee6-9e287625cc61"
      },
      "execution_count": null,
      "outputs": [
        {
          "output_type": "execute_result",
          "data": {
            "text/plain": [
              "[1, 2, 4.8, 'Quaresma', 'Quaresma', 'sıfır', [0, 1, 2]]"
            ]
          },
          "metadata": {},
          "execution_count": 124
        }
      ]
    },
    {
      "cell_type": "code",
      "source": [
        "sayilar.pop() # son elemanı siler ve ekrana getirir"
      ],
      "metadata": {
        "colab": {
          "base_uri": "https://localhost:8080/",
          "height": 35
        },
        "id": "7t8S2DYHzwQM",
        "outputId": "b49be16c-d58b-4075-fc84-3c9e61841c73"
      },
      "execution_count": null,
      "outputs": [
        {
          "output_type": "execute_result",
          "data": {
            "text/plain": [
              "'sıfır'"
            ],
            "application/vnd.google.colaboratory.intrinsic+json": {
              "type": "string"
            }
          },
          "metadata": {},
          "execution_count": 127
        }
      ]
    },
    {
      "cell_type": "code",
      "source": [
        "sayilar"
      ],
      "metadata": {
        "colab": {
          "base_uri": "https://localhost:8080/"
        },
        "id": "ctrrjnP1z09-",
        "outputId": "c4897c76-cbdb-415c-e922-f97e4638d9c3"
      },
      "execution_count": null,
      "outputs": [
        {
          "output_type": "execute_result",
          "data": {
            "text/plain": [
              "[1, 2, 4.8, 'Quaresma', 'Quaresma']"
            ]
          },
          "metadata": {},
          "execution_count": 128
        }
      ]
    },
    {
      "cell_type": "code",
      "source": [
        "sayilar=[5,17,89,0,-20]"
      ],
      "metadata": {
        "id": "UOX8zB4vz23b"
      },
      "execution_count": null,
      "outputs": []
    },
    {
      "cell_type": "code",
      "source": [
        "sayilar.sort()"
      ],
      "metadata": {
        "id": "QTcvhY87z7av"
      },
      "execution_count": null,
      "outputs": []
    },
    {
      "cell_type": "code",
      "source": [
        "sayilar.reverse()"
      ],
      "metadata": {
        "id": "JUXHD51C0Icd"
      },
      "execution_count": null,
      "outputs": []
    },
    {
      "cell_type": "code",
      "source": [
        "sayilar"
      ],
      "metadata": {
        "colab": {
          "base_uri": "https://localhost:8080/"
        },
        "id": "Jx-S6k5r0JaM",
        "outputId": "33561cbd-6e1f-45f0-d6bc-7622b2ee3fcd"
      },
      "execution_count": null,
      "outputs": [
        {
          "output_type": "execute_result",
          "data": {
            "text/plain": [
              "[89, 17, 5, 0, -20]"
            ]
          },
          "metadata": {},
          "execution_count": 136
        }
      ]
    },
    {
      "cell_type": "code",
      "source": [
        "numbers=sayilar"
      ],
      "metadata": {
        "id": "9cYd-aq40MSB"
      },
      "execution_count": null,
      "outputs": []
    },
    {
      "cell_type": "code",
      "source": [
        "numbers"
      ],
      "metadata": {
        "colab": {
          "base_uri": "https://localhost:8080/"
        },
        "id": "QOdVcghF0QWF",
        "outputId": "b31f9d15-f19f-4d8f-fb93-620716996790"
      },
      "execution_count": null,
      "outputs": [
        {
          "output_type": "execute_result",
          "data": {
            "text/plain": [
              "[89, 17, 5, 0, -20]"
            ]
          },
          "metadata": {},
          "execution_count": 138
        }
      ]
    },
    {
      "cell_type": "code",
      "source": [
        "sayilar.append(1903)"
      ],
      "metadata": {
        "id": "rPQIsNWO0RD7"
      },
      "execution_count": null,
      "outputs": []
    },
    {
      "cell_type": "code",
      "source": [
        "numbers"
      ],
      "metadata": {
        "colab": {
          "base_uri": "https://localhost:8080/"
        },
        "id": "VS7Ge16S0Tay",
        "outputId": "36b0c054-0649-4ee0-face-f8ede9223c28"
      },
      "execution_count": null,
      "outputs": [
        {
          "output_type": "execute_result",
          "data": {
            "text/plain": [
              "[89, 17, 5, 0, -20, 1903]"
            ]
          },
          "metadata": {},
          "execution_count": 140
        }
      ]
    },
    {
      "cell_type": "code",
      "source": [
        "numbers=sayilar.copy()"
      ],
      "metadata": {
        "id": "XvqhQEIF0UYm"
      },
      "execution_count": null,
      "outputs": []
    },
    {
      "cell_type": "code",
      "source": [
        "sayilar.append(1919)"
      ],
      "metadata": {
        "id": "IS-s4HQT0Xgw"
      },
      "execution_count": null,
      "outputs": []
    },
    {
      "cell_type": "code",
      "source": [
        "sayilar"
      ],
      "metadata": {
        "colab": {
          "base_uri": "https://localhost:8080/"
        },
        "id": "sTJQtF9G0Y7z",
        "outputId": "637106d8-161c-4e84-8758-c1e0233ec689"
      },
      "execution_count": null,
      "outputs": [
        {
          "output_type": "execute_result",
          "data": {
            "text/plain": [
              "[89, 17, 5, 0, -20, 1903, 1919]"
            ]
          },
          "metadata": {},
          "execution_count": 143
        }
      ]
    },
    {
      "cell_type": "code",
      "source": [
        "numbers"
      ],
      "metadata": {
        "colab": {
          "base_uri": "https://localhost:8080/"
        },
        "id": "tfzjRXXV0Z0D",
        "outputId": "df7866cb-4162-4b3d-b9d9-ccb786a64e01"
      },
      "execution_count": null,
      "outputs": [
        {
          "output_type": "execute_result",
          "data": {
            "text/plain": [
              "[89, 17, 5, 0, -20, 1903]"
            ]
          },
          "metadata": {},
          "execution_count": 144
        }
      ]
    },
    {
      "cell_type": "code",
      "source": [
        "dir(sayilar)"
      ],
      "metadata": {
        "id": "IvMuLrWU0bDA"
      },
      "execution_count": null,
      "outputs": []
    },
    {
      "cell_type": "code",
      "source": [
        "numbers.clear()"
      ],
      "metadata": {
        "id": "94YFmktR0fQG"
      },
      "execution_count": null,
      "outputs": []
    },
    {
      "cell_type": "code",
      "source": [
        "numbers"
      ],
      "metadata": {
        "colab": {
          "base_uri": "https://localhost:8080/"
        },
        "id": "lPbmrd9v0kjC",
        "outputId": "e60158a5-7f5f-4f7f-900e-e7eef3da959b"
      },
      "execution_count": null,
      "outputs": [
        {
          "output_type": "execute_result",
          "data": {
            "text/plain": [
              "[]"
            ]
          },
          "metadata": {},
          "execution_count": 148
        }
      ]
    },
    {
      "cell_type": "code",
      "source": [
        "bosliste=[]"
      ],
      "metadata": {
        "id": "8pfL4qYx0mfc"
      },
      "execution_count": null,
      "outputs": []
    },
    {
      "cell_type": "code",
      "source": [
        "sayilar"
      ],
      "metadata": {
        "colab": {
          "base_uri": "https://localhost:8080/"
        },
        "id": "2UENgLJP0oWi",
        "outputId": "a35611aa-7d07-4b96-cfa7-710b096e60d2"
      },
      "execution_count": null,
      "outputs": [
        {
          "output_type": "execute_result",
          "data": {
            "text/plain": [
              "[89, 17, 5, 0, -20, 1903, 1919]"
            ]
          },
          "metadata": {},
          "execution_count": 150
        }
      ]
    },
    {
      "cell_type": "code",
      "source": [
        "sayilar.extend([5,5,5,5])"
      ],
      "metadata": {
        "id": "3Nc2GI0n0sEL"
      },
      "execution_count": null,
      "outputs": []
    },
    {
      "cell_type": "code",
      "source": [
        "sayilar"
      ],
      "metadata": {
        "colab": {
          "base_uri": "https://localhost:8080/"
        },
        "id": "2mYWAAld0v3N",
        "outputId": "2becd705-48ae-495b-a42b-6933128bd5db"
      },
      "execution_count": null,
      "outputs": [
        {
          "output_type": "execute_result",
          "data": {
            "text/plain": [
              "[89, 17, 5, 0, -20, 1903, 1919, 5, 5, 5, 5]"
            ]
          },
          "metadata": {},
          "execution_count": 152
        }
      ]
    },
    {
      "cell_type": "code",
      "source": [
        "sayilar.count(5)"
      ],
      "metadata": {
        "colab": {
          "base_uri": "https://localhost:8080/"
        },
        "id": "3KA5lZ570wkv",
        "outputId": "faa41db6-eb76-41b8-cdfa-28bab592a57b"
      },
      "execution_count": null,
      "outputs": [
        {
          "output_type": "execute_result",
          "data": {
            "text/plain": [
              "5"
            ]
          },
          "metadata": {},
          "execution_count": 153
        }
      ]
    },
    {
      "cell_type": "code",
      "source": [
        "sayilar.index(-20)"
      ],
      "metadata": {
        "colab": {
          "base_uri": "https://localhost:8080/"
        },
        "id": "AjoGtojz0z0W",
        "outputId": "41626f9b-fc3e-4c91-89fd-64d90a9a12eb"
      },
      "execution_count": null,
      "outputs": [
        {
          "output_type": "execute_result",
          "data": {
            "text/plain": [
              "4"
            ]
          },
          "metadata": {},
          "execution_count": 154
        }
      ]
    },
    {
      "cell_type": "markdown",
      "source": [
        "# Ders8 - Tuple Veri Tipi ve Metotları"
      ],
      "metadata": {
        "id": "cFtOK1-y2rHl"
      }
    },
    {
      "cell_type": "code",
      "source": [
        "veri=(\"admin\",\"123456\",1,0,True)"
      ],
      "metadata": {
        "id": "hgwO3IYV03YW"
      },
      "execution_count": null,
      "outputs": []
    },
    {
      "cell_type": "code",
      "source": [
        "veriler=[\"çağrı\",\"güngör\",\"@hasancagrigungor\"]"
      ],
      "metadata": {
        "id": "RsuCeghB3JCj"
      },
      "execution_count": null,
      "outputs": []
    },
    {
      "cell_type": "code",
      "source": [
        "type(veri)"
      ],
      "metadata": {
        "colab": {
          "base_uri": "https://localhost:8080/"
        },
        "id": "T05su8Bk3C1w",
        "outputId": "8ef21e7a-fccf-4103-b763-6ee081fcf676"
      },
      "execution_count": null,
      "outputs": [
        {
          "output_type": "execute_result",
          "data": {
            "text/plain": [
              "tuple"
            ]
          },
          "metadata": {},
          "execution_count": 161
        }
      ]
    },
    {
      "cell_type": "code",
      "source": [
        "type(veriler)"
      ],
      "metadata": {
        "colab": {
          "base_uri": "https://localhost:8080/"
        },
        "id": "YWjSqh9y3Eyz",
        "outputId": "603a9bab-54b4-4fba-bb51-070f1a208d79"
      },
      "execution_count": null,
      "outputs": [
        {
          "output_type": "execute_result",
          "data": {
            "text/plain": [
              "list"
            ]
          },
          "metadata": {},
          "execution_count": 162
        }
      ]
    },
    {
      "cell_type": "code",
      "source": [
        "dir(veri)"
      ],
      "metadata": {
        "colab": {
          "base_uri": "https://localhost:8080/"
        },
        "id": "qr6BwIxN3OMX",
        "outputId": "d83b8a3f-f442-413c-90bc-776f2b526da7"
      },
      "execution_count": null,
      "outputs": [
        {
          "output_type": "execute_result",
          "data": {
            "text/plain": [
              "['__add__',\n",
              " '__class__',\n",
              " '__contains__',\n",
              " '__delattr__',\n",
              " '__dir__',\n",
              " '__doc__',\n",
              " '__eq__',\n",
              " '__format__',\n",
              " '__ge__',\n",
              " '__getattribute__',\n",
              " '__getitem__',\n",
              " '__getnewargs__',\n",
              " '__gt__',\n",
              " '__hash__',\n",
              " '__init__',\n",
              " '__init_subclass__',\n",
              " '__iter__',\n",
              " '__le__',\n",
              " '__len__',\n",
              " '__lt__',\n",
              " '__mul__',\n",
              " '__ne__',\n",
              " '__new__',\n",
              " '__reduce__',\n",
              " '__reduce_ex__',\n",
              " '__repr__',\n",
              " '__rmul__',\n",
              " '__setattr__',\n",
              " '__sizeof__',\n",
              " '__str__',\n",
              " '__subclasshook__',\n",
              " 'count',\n",
              " 'index']"
            ]
          },
          "metadata": {},
          "execution_count": 163
        }
      ]
    },
    {
      "cell_type": "code",
      "source": [
        "dir(veriler)"
      ],
      "metadata": {
        "colab": {
          "base_uri": "https://localhost:8080/"
        },
        "id": "pbqgMH7r3TWQ",
        "outputId": "17c16d55-1dfb-450a-8129-2089ae522779"
      },
      "execution_count": null,
      "outputs": [
        {
          "output_type": "execute_result",
          "data": {
            "text/plain": [
              "['__add__',\n",
              " '__class__',\n",
              " '__contains__',\n",
              " '__delattr__',\n",
              " '__delitem__',\n",
              " '__dir__',\n",
              " '__doc__',\n",
              " '__eq__',\n",
              " '__format__',\n",
              " '__ge__',\n",
              " '__getattribute__',\n",
              " '__getitem__',\n",
              " '__gt__',\n",
              " '__hash__',\n",
              " '__iadd__',\n",
              " '__imul__',\n",
              " '__init__',\n",
              " '__init_subclass__',\n",
              " '__iter__',\n",
              " '__le__',\n",
              " '__len__',\n",
              " '__lt__',\n",
              " '__mul__',\n",
              " '__ne__',\n",
              " '__new__',\n",
              " '__reduce__',\n",
              " '__reduce_ex__',\n",
              " '__repr__',\n",
              " '__reversed__',\n",
              " '__rmul__',\n",
              " '__setattr__',\n",
              " '__setitem__',\n",
              " '__sizeof__',\n",
              " '__str__',\n",
              " '__subclasshook__',\n",
              " 'append',\n",
              " 'clear',\n",
              " 'copy',\n",
              " 'count',\n",
              " 'extend',\n",
              " 'index',\n",
              " 'insert',\n",
              " 'pop',\n",
              " 'remove',\n",
              " 'reverse',\n",
              " 'sort']"
            ]
          },
          "metadata": {},
          "execution_count": 164
        }
      ]
    },
    {
      "cell_type": "code",
      "source": [
        "veriler.append(\"Başarılı\")"
      ],
      "metadata": {
        "id": "jcXJgoS33W3q"
      },
      "execution_count": null,
      "outputs": []
    },
    {
      "cell_type": "code",
      "source": [
        "veriler"
      ],
      "metadata": {
        "colab": {
          "base_uri": "https://localhost:8080/"
        },
        "id": "IMmWzEbD3dKu",
        "outputId": "04433ea8-e355-40e0-8489-5e3fa7917f4b"
      },
      "execution_count": null,
      "outputs": [
        {
          "output_type": "execute_result",
          "data": {
            "text/plain": [
              "['çağrı', 'güngör', '@hasancagrigungor', 'Başarılı']"
            ]
          },
          "metadata": {},
          "execution_count": 166
        }
      ]
    },
    {
      "cell_type": "code",
      "source": [
        "veri.append(\"Başarılı\")"
      ],
      "metadata": {
        "id": "va_3_TOD3dsR"
      },
      "execution_count": null,
      "outputs": []
    },
    {
      "cell_type": "code",
      "source": [
        "tr=(\"ali\",)\n",
        "# tr=(\"ali\") bu tuple değil"
      ],
      "metadata": {
        "id": "D_UsGe5k3f-w"
      },
      "execution_count": null,
      "outputs": []
    },
    {
      "cell_type": "code",
      "source": [
        "type(tr)"
      ],
      "metadata": {
        "colab": {
          "base_uri": "https://localhost:8080/"
        },
        "id": "hzCtLvNW3n0Z",
        "outputId": "681bdaa4-3c78-4bf2-803c-67dd65a3c9f9"
      },
      "execution_count": null,
      "outputs": [
        {
          "output_type": "execute_result",
          "data": {
            "text/plain": [
              "tuple"
            ]
          },
          "metadata": {},
          "execution_count": 173
        }
      ]
    },
    {
      "cell_type": "code",
      "source": [
        "bostuple=tuple()"
      ],
      "metadata": {
        "id": "Tj_Q91mm3poA"
      },
      "execution_count": null,
      "outputs": []
    },
    {
      "cell_type": "code",
      "source": [
        "type(bostuple)"
      ],
      "metadata": {
        "colab": {
          "base_uri": "https://localhost:8080/"
        },
        "id": "SqZTlrgM30Fd",
        "outputId": "438b92d3-dfd5-4dc6-a158-da766ddabf7f"
      },
      "execution_count": null,
      "outputs": [
        {
          "output_type": "execute_result",
          "data": {
            "text/plain": [
              "tuple"
            ]
          },
          "metadata": {},
          "execution_count": 175
        }
      ]
    },
    {
      "cell_type": "code",
      "source": [
        "veri.count(\"admin\")"
      ],
      "metadata": {
        "colab": {
          "base_uri": "https://localhost:8080/"
        },
        "id": "hlTRlxRa32CJ",
        "outputId": "90f218c4-2e51-4e1e-caad-8f7df33c7d4a"
      },
      "execution_count": null,
      "outputs": [
        {
          "output_type": "execute_result",
          "data": {
            "text/plain": [
              "1"
            ]
          },
          "metadata": {},
          "execution_count": 176
        }
      ]
    },
    {
      "cell_type": "code",
      "source": [
        "veri.index(\"admin\")"
      ],
      "metadata": {
        "colab": {
          "base_uri": "https://localhost:8080/"
        },
        "id": "MrlaRhSu39qZ",
        "outputId": "0d984c6c-6f62-4d38-8941-88f74d3bc7b0"
      },
      "execution_count": null,
      "outputs": [
        {
          "output_type": "execute_result",
          "data": {
            "text/plain": [
              "0"
            ]
          },
          "metadata": {},
          "execution_count": 177
        }
      ]
    },
    {
      "cell_type": "markdown",
      "source": [
        "# Ders 9 - Python Kütüphaneleri Yükleme Silme Çağırma"
      ],
      "metadata": {
        "id": "f1GrOsCn51Zk"
      }
    },
    {
      "cell_type": "code",
      "source": [
        "import string"
      ],
      "metadata": {
        "id": "e3Y2IrBz50OH"
      },
      "execution_count": null,
      "outputs": []
    },
    {
      "cell_type": "code",
      "source": [
        "dir(string)"
      ],
      "metadata": {
        "id": "NRf-EOtP3_Iw"
      },
      "execution_count": null,
      "outputs": []
    },
    {
      "cell_type": "code",
      "source": [
        "string.ascii_lowercase"
      ],
      "metadata": {
        "colab": {
          "base_uri": "https://localhost:8080/",
          "height": 35
        },
        "id": "vQnvhLVm6c6h",
        "outputId": "ccc9e2bb-7ee0-47cc-a02c-5eb91626d16f"
      },
      "execution_count": null,
      "outputs": [
        {
          "output_type": "execute_result",
          "data": {
            "text/plain": [
              "'abcdefghijklmnopqrstuvwxyz'"
            ],
            "application/vnd.google.colaboratory.intrinsic+json": {
              "type": "string"
            }
          },
          "metadata": {},
          "execution_count": 181
        }
      ]
    },
    {
      "cell_type": "code",
      "source": [
        "string.digits"
      ],
      "metadata": {
        "colab": {
          "base_uri": "https://localhost:8080/",
          "height": 35
        },
        "id": "LuVy5ciM6hUM",
        "outputId": "84505d81-6f43-42a3-bc8c-1d505dffe288"
      },
      "execution_count": null,
      "outputs": [
        {
          "output_type": "execute_result",
          "data": {
            "text/plain": [
              "'0123456789'"
            ],
            "application/vnd.google.colaboratory.intrinsic+json": {
              "type": "string"
            }
          },
          "metadata": {},
          "execution_count": 182
        }
      ]
    },
    {
      "cell_type": "code",
      "source": [
        "string.punctuation"
      ],
      "metadata": {
        "colab": {
          "base_uri": "https://localhost:8080/",
          "height": 35
        },
        "id": "ovAIcDx-6j4V",
        "outputId": "ec1141fc-c317-444c-e025-1e688fc68b07"
      },
      "execution_count": null,
      "outputs": [
        {
          "output_type": "execute_result",
          "data": {
            "text/plain": [
              "'!\"#$%&\\'()*+,-./:;<=>?@[\\\\]^_`{|}~'"
            ],
            "application/vnd.google.colaboratory.intrinsic+json": {
              "type": "string"
            }
          },
          "metadata": {},
          "execution_count": 183
        }
      ]
    },
    {
      "cell_type": "code",
      "source": [
        "from string import digits,punctuation"
      ],
      "metadata": {
        "id": "zelUkFEZ6ld2"
      },
      "execution_count": null,
      "outputs": []
    },
    {
      "cell_type": "code",
      "source": [
        "digits"
      ],
      "metadata": {
        "colab": {
          "base_uri": "https://localhost:8080/",
          "height": 35
        },
        "id": "Qh87yaz56rrU",
        "outputId": "eaf714c5-c61e-4f95-b327-af587275758d"
      },
      "execution_count": null,
      "outputs": [
        {
          "output_type": "execute_result",
          "data": {
            "text/plain": [
              "'0123456789'"
            ],
            "application/vnd.google.colaboratory.intrinsic+json": {
              "type": "string"
            }
          },
          "metadata": {},
          "execution_count": 185
        }
      ]
    },
    {
      "cell_type": "code",
      "source": [
        "punctuation"
      ],
      "metadata": {
        "colab": {
          "base_uri": "https://localhost:8080/",
          "height": 35
        },
        "id": "QBLUTEzK6xvB",
        "outputId": "b2a8c994-3ceb-41f5-b380-28b51ce0081a"
      },
      "execution_count": null,
      "outputs": [
        {
          "output_type": "execute_result",
          "data": {
            "text/plain": [
              "'!\"#$%&\\'()*+,-./:;<=>?@[\\\\]^_`{|}~'"
            ],
            "application/vnd.google.colaboratory.intrinsic+json": {
              "type": "string"
            }
          },
          "metadata": {},
          "execution_count": 187
        }
      ]
    },
    {
      "cell_type": "code",
      "source": [
        "!pip install wikipedia"
      ],
      "metadata": {
        "colab": {
          "base_uri": "https://localhost:8080/"
        },
        "id": "EJfCLCVr62cr",
        "outputId": "7f4a33d7-cf57-4c40-86ad-550c38f99044"
      },
      "execution_count": null,
      "outputs": [
        {
          "output_type": "stream",
          "name": "stdout",
          "text": [
            "Looking in indexes: https://pypi.org/simple, https://us-python.pkg.dev/colab-wheels/public/simple/\n",
            "Collecting wikipedia\n",
            "  Downloading wikipedia-1.4.0.tar.gz (27 kB)\n",
            "Requirement already satisfied: beautifulsoup4 in /usr/local/lib/python3.8/dist-packages (from wikipedia) (4.6.3)\n",
            "Requirement already satisfied: requests<3.0.0,>=2.0.0 in /usr/local/lib/python3.8/dist-packages (from wikipedia) (2.23.0)\n",
            "Requirement already satisfied: urllib3!=1.25.0,!=1.25.1,<1.26,>=1.21.1 in /usr/local/lib/python3.8/dist-packages (from requests<3.0.0,>=2.0.0->wikipedia) (1.24.3)\n",
            "Requirement already satisfied: certifi>=2017.4.17 in /usr/local/lib/python3.8/dist-packages (from requests<3.0.0,>=2.0.0->wikipedia) (2022.12.7)\n",
            "Requirement already satisfied: idna<3,>=2.5 in /usr/local/lib/python3.8/dist-packages (from requests<3.0.0,>=2.0.0->wikipedia) (2.10)\n",
            "Requirement already satisfied: chardet<4,>=3.0.2 in /usr/local/lib/python3.8/dist-packages (from requests<3.0.0,>=2.0.0->wikipedia) (3.0.4)\n",
            "Building wheels for collected packages: wikipedia\n",
            "  Building wheel for wikipedia (setup.py) ... \u001b[?25l\u001b[?25hdone\n",
            "  Created wheel for wikipedia: filename=wikipedia-1.4.0-py3-none-any.whl size=11695 sha256=9db74fb9618bfeff27167a49f59bf5db90d4424b4a82429fad9aa979861a547c\n",
            "  Stored in directory: /root/.cache/pip/wheels/07/93/05/72c05349177dca2e0ba31a33ba4f7907606f7ddef303517c6a\n",
            "Successfully built wikipedia\n",
            "Installing collected packages: wikipedia\n",
            "Successfully installed wikipedia-1.4.0\n"
          ]
        }
      ]
    },
    {
      "cell_type": "code",
      "source": [
        "import wikipedia"
      ],
      "metadata": {
        "id": "vDQWX8ML7G8B"
      },
      "execution_count": null,
      "outputs": []
    },
    {
      "cell_type": "code",
      "source": [
        "wikipedia.set_lang(\"tr\")\n",
        "antalya=wikipedia.page(\"Antalya\")"
      ],
      "metadata": {
        "id": "kh_F7G8x7Kzc"
      },
      "execution_count": null,
      "outputs": []
    },
    {
      "cell_type": "code",
      "source": [
        "antalya.content"
      ],
      "metadata": {
        "colab": {
          "base_uri": "https://localhost:8080/",
          "height": 209
        },
        "id": "UNDiqUrL7PiN",
        "outputId": "2f6c3236-47ab-425a-89d9-3e4347affa28"
      },
      "execution_count": null,
      "outputs": [
        {
          "output_type": "execute_result",
          "data": {
            "text/plain": [
              "'Antalya, Türkiye\\'nin bir ili ve en kalabalık beşinci şehridir. 2021 sonu itibarıyla il nüfusu 2.619.832\\'dir. Türkiye\\'de \"turizmin başkenti\" olarak görülmektedir. Özellikle yaz aylarında turist sayısı artar. Şehrin yüzölçümü 20.177 km2dir. İlde km2ye 130 kişi düşmektedir. En kalabalık ilçesi 2021 yılı itibarıyla 591.895 kişiyle Kepez ilçesidir. Nüfus yoğunluğunun en fazla olduğu ilçe ise km2 başına 5429 kişi ile Muratpaşa\\'dır. 19 ilçe ve belediye, bu belediyelerde toplam 914 mahalle bulunmaktadır.\\nTamamı Akdeniz Bölgesi\\'nin batısında yer alır ve Antalya Körfezi\\'yle Batı Torosların arasında kurulmuştur. Yüzölçümü bakımından Türkiye\\'nin beşinci büyük ilidir. Güneyinde Akdeniz, batısında Muğla, kuzeyinde Burdur ve Isparta, kuzeydoğusunda Konya, doğusunda ise Karaman ve Mersin illeri vardır.\\nAntalya şehri, 1980 yılından sonra uygun iklim koşulları ve turizm etkinlikleri nedeniyle hızla gelişmiş ve buna paralel olarak il de günümüzde Türkiye\\'nin en kalabalık beşinci ili olmuştur. Antalya\\'da ekonomik hayat büyük oranda ticaret, tarım ve turizme dayalıdır.\\nAntalya ilinin kapsadığı bölge tarih öncesinden günümüze dek pek çok medeniyeti barındırmıştır ve Türkiye\\'de en çok antik kent bulunan ildir. Sırasıyla Likyalılar, Lidyalılar, Pamfilyalılar, Bergamalılar, Romalılar, Bizanslılar, Selçuklu Hanedanı, Osmanlılar ve son olarak da Türkiye Cumhuriyeti hakimiyetinde bulunan Antalya bu medeniyetlerin hiçbirine başkentlik yapmamıştır.İlin tamamı Akdeniz Bölgesi\\'nin Antalya Bölümü\\'nde yer alır ve Akdeniz ikliminin etki sahasındadır. Yerleşim yerleri haricindeki il topraklarının büyük kısmı tahıl tarlalarıyla kaplı platolardan oluşur.Türk Silahlı Kuvvetleri Kara Kuvvetleri Komutanlığına bağlı 3. Piyade Eğitim Tugayı Komutanlığı ve Hava Kuvvetleri Komutanlığına bağlı Hava Meydan Komutanlığı Antalya\\'da bulunmaktadır.Antalya 2015 yılı G20 Zirvesi\\'nin ve Expo 2016\\'nın ev sahibidir.\\n\\n\\n== Köken bilimi ==\\n\\nHelenistik dönemde Bergama Kralı II. Attalos (MÖ 159-138), askerlerine \"Gidin ve bana yeryüzündeki cenneti bulun\" der. Askerlerinin gösterdiği yeri (bugünkü Antalya) beğenen II. Attalos, bölgenin stratejik önemini dikkate alarak buraya bir liman şehri kurdurur ve kent, kurucusu Attalos\\'un adına binaen \"Ataleia\" olarak adlandırılır. Şehrin adı eski Arap kaynaklarında \"Antaliye\", Türk kaynaklarında ise \"Adalya\" olarak geçer. Yerleşme, 20. yüzyılın ilk çeyreğinden başlayarak \"Antalya\" olarak adlandırılmıştır.\\nAntalya adı, ayrıca biyolojide takson epiteti olarak antalyaensis, antalyensis, antalyanus, antalyana biçimlerinde geçer.\\n\\n\\n== Tarihçe ==\\n\\n\\n=== İlk Çağ öncesi ===\\n\\nAnadolu\\'da insana ait bilinen en eski yerleşim alanlarından bir tanesi Antalya kent merkezinden yaklaşık 30 km kuzeybatıda Korkuteli yolu üzerinde Toros Dağlarının Akdeniz\\'e bakan yamaçlarında bulunan Karain Mağarası\\'dır. Tarihlendirilmesi günümüzden yaklaşık 500 bin yıl kadar geriye, başka bir deyişle Eski Taş Çağının ilk dönemlerine rast gelmektedir. Bu dönem, günümüzden 2 milyon ila 140 bin yılları arasında kalan evresini içerir. Karain\\'de mağara adamlarına (homo sapiens neandertalensis) ilişkin kemik kalıntıları da ele geçmiştir. Bunlar, tüm Anadolu\\'da ele geçen en erken fosil kalıntılarıdır.Bölgenin en eski tarih öncesi dönem buluntularını içeren Karain Mağarası, Eski Taş Devri ve Cilalı Taş Devrinden, Beldibi Mağarası da Orta Taş Çağından veriler sunarken; Bademağacı Höyüğü\\'nde yapılan kazılarda Cilalı Taş Çağı yerleşimlerine, buluntularına ve insanın yerleşik hayata geçişinin ilk izlerine rastlanır. Bunlara Karataş, Semahöyük\\'te yapılan kazılarla elde edilen Erken Tunç Çağı bulguları da eklenince, bölgede Eski Taş Çağından zamanımıza kadar kesintisiz bir uygarlık vardır.\\n\\n\\n=== İlk Çağ dönemi ===\\nAntalya Bölgesi\\'nin yakın tarihi, bölgede 1946\\'dan önce yapılan kazılardan önce karanlıktı. Hititlerin çivi yazılı belgelerinde, adı geçen Ahhiyava ve Arzava ülkelerinin Pamfilya olduğu bilim çevrelerinde kabul görmektedir. Bu bölgedeki araştırmalar ve buluntuların ortaya çıkması ve eldeki verilerle bölgenin karanlık olan bu dönemi de aydınlanmaya başlamıştır.\\n\\n\\n==== Hititler dönemi ====\\nAnadolu\\'da ilk siyasi birliği sağlayan Hitit Devleti\\'nin  kurulduğu dönemde yazı, Anadolu\\'ya yakın zamanda gelmişti. Anadolu\\'nun ortasında kurulmuş olan Hitit devleti dönemi, başlangıçta Antalya için sessiz ve karanlık geçti. Bölgenin tarih sahnesine çıkışı Hitit krallarının Batı Anadolu seferleri düzenlemesiyle başlar. Bugünkü Antalya il sınırları içinde kalan Perge, Kesros, Patara gibi eski coğrafya adlarının Hitit çağından kalma olduğunu MÖ 1267-1237 yılları arasında hüküm sürmüş Hitit Kralı III. Hattuşili\\'nin yıllıklarından öğrenilmiştir. Konya\\'nın Yalburt\\'unda bir Hitit hiyeroglifinde Patara\\'nın \"Pataf\" biçiminde geçmesi, bu aydınlanmayı güçlendiren buluntulardır. Buradan anlaşılan Hititlerin \"Lukka ülkesi\" diye adlandırdıkları Akdeniz sahiline kadar uzanmış olmalarıdır.Hitit İmpratorluğu\\'nun yıkılmasının sebebi olan deniz kavimleri göçü sırasında bir kısım Akalıların bu bölgeye göç ettiklerinden Yunan mitolojisinde söz edilir. Truva Savaşları\\'ndan sonra bazı Aka boyları, Amphilokhos, Kalkhas ve Mopsos\\'un idaresinde Pamfilya\\'ya geldikleri; Perge, Sillyon, Aspendos ve Selge\\'yi kurdukları söylenmekle birlikte son bilimsel veriler bu kentleri yörenin yerli halkının kurduğunu göstermektedir. Bu Perge\\'nin Parha, Aspendos\\'un Estvedüs, Selge\\'nin Estlegiis, Silyon\\'un Selyuüs adlarından da bellidir.Bölgeye Pamfilyalılar yerleşmeden MÖ 7. yüzyılda önce kısa bir dönem Rodoslular ve Dorluların, Kumluca ve Phaselis\\'te (Çıralı) bölgesini kolonileştirdiğini Eski Yunan kaynaklarında geçmektedir. Kumluca yakınlarında bulunan Rhodiopolis kenti bunun bir kanıtı sayılmaktadır.\\n\\n\\n==== Likya ve Pamfilya dönemi ====\\n\\nAntalya ili, tarihteki antik bölgelerden batı Pamfilya\\'nın güneydoğu ucunu ve doğu Likya\\'yı içine almaktadır.\\nGünümüz Antalyası\\'nın batı sınırları içinde yerleşen Likyalılar\\'ın kökenleri tartışılmakla birlikte, Hitit ve Antik Mısır kaynaklarında (MÖ 2000) Lukki veya Lukka adlı bir kavimden bahsedilmektedir. Bu kavim, kendilerini Termili olarak adlandıran Akdeniz kıyılarımızdaki güçlü komşuları Luvilere akrabalıkları ile bilinen Likya ulusundan olması kuvvetli ihtimaldir.\\nSınırların nereleri olduğu üzerinde pek çok tartışma olan Pamfilya bölgesinin büyük bölümü günümüzdeki Antalya\\'nın içindedir. Kelime anlamı olarak “Tüm halklardan olan insanların yaşadığı memleket, Irkların ülkesi anlamlarına gelen Pamfilya\\'da isminden dolayı pek çok kavmin bir arada yaşadığı düşünülmektedir. Syedra kentinde ele geçen bir kehanet yazıtında “karışık milletlerin ülkesinde yaşayan siz Syedra Pamfuliyalıları...” denmektedir ki; bu yazıt da kentin toplumsal yapısı hakkında bilgi vermektedir.Pamfilya Helenleri, karşılaştırmalı dilbilim yöntemlerine göre, Anadolu’daki en eski Helen gruplarından birini oluşturmuşlardır. Bunların dilinde Mukenlerin ve Dorların dil özelliklerinden bazılarına rastlanmaktadır. Bu nedenle MÖ ilk bin yılın başlarında Anadolu’ya göç etmiş oldukları kabul edilmektedir. Bunlar Anadolu’da karşılaştıkları insanlarla iç içe geçmiş, onların inanç ve çeşitli kültürel özelliklerinden etkilenmişlerdir.\\nYalnızca bu Helenlerin değil, genel olarak Pamfilya’da yaşayan diğer halkların da erken dönem tarihi hakkında pek fazla belge bulunmamaktadır.Sonuç olarak, ilk çağlardan Roma İmparatorluğu çağına kadar temelde halklar ve kültürler çerçevesinde ele alınmış çalışmalarda, bölgedeki Eski Çağ incelemelerinin henüz bir doygunluğa ulaşmadığı bellidir. Özellikle Roma öncesi evre açısından yanıtlanması gereken pek çok sorun vardır. Bunların açığa kavuşmasında dil incelemeleri büyük bir yer tutmaktadır. Antalya kenti, tüm Anadolu\\'da en çok yazılı belgenin ele geçtiği kenttir. Bu niteliğiyle Antalya bölgesi tarih, dil ve arkeoloji incelemeleri için önemli bir merkezdir. Son yıllarda Köprüçayı yönünde daha önce örneklerine rastlanmamış olan yeni bir dile ilişkin yazılı kanıtlar bulunmuştur. Bu buluntular bölge incelemelerinin sanıldığından çok daha derin boyutları olduğunu göstermektedir.\\n\\n\\n=== Bergama, Roma ve Bizans dönemleri ===\\n\\nHıristiyanlığın Anadolu\\'da hızla yayıldığı MS 5.-7. yüzyıllar boyunca Pamfilya ve Likya, Doğu Roma eyaleti olarak önemlerini korumuşlar, hatta MS 2. yüzyıldaki parlak çağlarına yaklaşır derecede, imar görmüşlerdir. 7. yüzyılın ortalarında Arapların sürekli yağma ve saldırıları her iki bölgeyi büyük ölçüde zarara sokmuş, bu duruma engel olmak isteyen Doğu Romalılar, bölgeyi korumak amacıyla özel bir donanma kurmuşlardır. Roma İmparatorluğu\\'nun bölgeye egemen olmasından sonra, stratejik yerler veya kentlerin bazıları, ufak keşişlikler halinde Doğu Roma İmparatorluğu egemenliği sırasında yaşamalarını sürdürmüşlerdir.\\nAntalya\\'nın bugünkü bulunduğu yerde II. Attalos\\'un zamanında inşâ edilen ilk surların da bu dönemde dikildiği bilinmektedir. MS 130 yılında Roma imparatoru Hadriyanus, Antalya seferi sırasında Hadrian Kapısı\\'nı yaptırmış, surların doğu bölümünü de onartmıştır.\\nAyrıca, Rodos, Venedik, Ceneviz korsanlarının talanları, Kıbrıs Krallarının saldırıları ve Haçlı seferi sırasındaki yağmalar, depremler, bölgenin ekonomik gücü kadar kentleri de yıpratmıştır. Bu sırada özellikle Rodos ve Cenevizliler koruma ve saldırma için, uygun kıyılarda üsler kurmuşlardır. Antalya, Batı Akdeniz kıyısında stratejik konumuyla önemli bir liman olma özelliğinden dolayı, kurulduğu tarihten başlayarak sürekli istilalara maruz kalmıştır.\\n\\n\\n=== Selçuklu dönemi ===\\nKonumu bakımından savunma olanakları güçlü olan Antalya, 11. yüzyıl sonlarında Türklerin eline geçti. Kent, 1097\\'de I. Haçlı seferinin sonrasında yeniden Bizans eline geçmiş bulunuyordu. Türkler, 12. yüzyılın ilk yarısında Antalya önlerine kadar gelip, yörede etkili olmaya başladılar. 1148 yılındaki II. Haçlı seferi sırasında buraya gelen Haçlı yazarları, Türklerin şehrin yakınlarına kadar geldiklerini, halkın bu sebeple verimli tarlalarını ekemediklerini belirtir. Bu yüzden şehirdeki halk yiyecek ihtiyacını deniz yolu ile karşılamaktaydı.\\nTürkler, 1176 Miryokefalon Savaşı\\'ndan sonra Anadolu\\'yu yurt edinmeye başladılar. Bu dönemde II. Kılıç Arslan devletinin güçlü temellere sahip olması için çabalıyordu. II. Kılıç Arslan, bunun için oğullarını Anadolu\\'nun çeşitli yerlerine gönderdi. En küçük oğlu Gıyaseddin Keyhüsrev’i de 1180 yıllarında fethettiği Borgulu\\'daki (şimdiki Uluborlu) kaleye ve civarına melik olarak gönderildi. II. Kılıç Arslan 1182 yılında Antalya’yı kuşatmış, fakat şehri alamamıştı.\\n\\n5 Mart 1207 tarihinde Antalya Selçukluların eline geçti. Şehir teslim alındıktan hemen sonra düzenlemeleri yapılmış, tersane yaptırılmış ve kuzeyde Uluborlu’da olan teşkilatın merkezi Antalya\\'ya taşınmıştır.Ancak Antalya’daki ilk Selçuklu egemenliği oldukça kısa sürdü. Denizden yardım alabilecek bir şehirle ilgili deneyimleri olmayan Selçuklular, bir cuma namazı vakti Hristiyanların, Türklerin üzerine saldırıp büyük çoğunluğunu katletmesiyle şehri kaybettiler. Antalya\\'nın bu kaybının nedenlerine ilişkin iki görüş bulunmaktadır. Birincisi, Gıyaseddin Keyhüsrev’in ölmesinin (1211) ardından ve Selçuklu şehzadelerinin taht kavgası sırasında şehrin kaybedilmiş olabilecği; ikincisi 1214\\'te Antalya yöresinin kumandanı Ertokuş\\'un uç askeriyle Sinop fethine katılmak üzere gidip, şehir askeri bakımdan zayıf kalınca şehrin düşmüş olabileceği olasılığıdır.\\nSelçuklu sultanı olan İzzeddin Keykavus yeniden bir büyük sefere girişti. Şehir Türkler tarafından 22 Ocak 1216 tarihinde yeniden fethedildi. Türklerin güvenliklerini sağlamak üzere şehrin ikamet sahasını ikiye bölen bir koruyucu sur yaptırıldı. Üzerine de bu fethin sebeplerini ve nasıl gerçekleştiğini belirten kitabeler konuldu. Şehri ikiye bölen bu duvara göre batı kesimi Türk ve Müslümanların, doğu kesimi ise Hristiyan ve yerlilerin sahası olacaktı. Ancak on sene sonra Antalya, devrin kaynaklarına aksetmeyen bir büyük imar daha görmüştür. Eski surunun 100 metre kadar doğusundan yeni bir sur daha yapılmıştır. Üzerindeki kitabelere göre 1225 tarihindeki bu inşaatın ilk sebebi şehre yeni Türk yerleşmesini sağlamaktır. İkinci sebebinin limanı korumak amacı olduğunu sanılmaktadır.\\nBu yıllarda Alâeddin Keykubat, Alaiye\\'yi fethetmiş, orada önemli inşaatlar yapmıştır. Alaiye\\'nin de alınmasıyla Selçukluların Akdeniz’de bir deniz birliği, kurmaları gerekti. Antalya’da çalıştırılan veya oluşturulan tersane, ilk Türk deniz varlığının oluşmasını sağladı. Hemen ardından Alaiye’de de bir tersane inşaatına girişilerek Akdeniz’deki Türk deniz gücü oluşturuldu. Antalya tersanesinin güvenliğini tam olarak sağlamak amacıyla 1225 tarihinde şehir içinde yeni bir düzenlemeye geçildi. Alâeddin Keykubad, şehrin deniz tarafındaki savunmasını güçlendirmişti. 1243 Kösedağ Savaşı\\'nı kaybeden II. Gıyaseddin Keyhüsrev, bu defa kara tarafındaki savunmayı, yaptırdığı 1244 tarihli bir burç ile güçlendirdi. Antalya kalesinin içkalesi, Ahmedek’i, limanın doğu yakasında iken, Türk kesiminin de kuzeybatısına (bugünkü Tophane\\'ye) taşındı.\\nAntalya sonraki tarihlerde de Selçuklu Sultanlarının kışlık payitahtlarından birisi olmaya devam etti. Hatta bazen doğudan gelen Moğollar\\'a karşı bir güvenilir yer olarak tercih ediliyordu. Antalya, güneyde Mısır ve Doğu Akdeniz bölgeleriyle ticaret yapan bir yer olarak oldukça etkindi. Devrin kaynaklarından Saltukname\\'de de Adalya\\'dan söz edilmektedir. Mevlana, burada çok Hristiyan olduğundan söz ederse de, bu ifadeyi, öteki İç Anadolu şehirlerine göre fazla dediği düşünülmektedir. Çünkü şehrin içindeki ikamet sahalarına göre, Hristiyanlar hiç da aşırı birçoğunluğa sahip değillerdi. Bununla birlikte kentte Frenkler de bulunmakta ve Avrupa ülkeleriyle ticaret yapılmaktaydı.\\n\\n\\n=== Anadolu Türk Beylikleri dönemi ===\\nAnadolu Selçuklu Devleti\\'nin son senelerinde İlhanlılar\\'ın nüfuzu altına girmesiyle, batısındaki uç beyleri toplanarak beylik kurmaya başladılar. Bu sırada 13. yüzyıl başlarında Anadolu Selçukluları tarafından Yalvaç, Borlu ve Eğirdir taraflarına yerleştirilmiş olan Teke aşiretinin bir kolunu teşkil eden Türkmenler de 13. yüzyıl sonlarında, başlarında bulunan Hamid Bey’in torunu ve İlyas Bey’in oğlu Feleküddîn Dündar Bey’in liderliğinde hüküm sürdükleri göller havzasında bağımsızlıklarını ilân ederek Hamitoğulları Beyliği\\'ni kurmuş ve kendisine önce Uluborlu’yu, daha sonra Eğirdir’i merkez yapmıştır.Kuruluştan hemen sonra ülkesinin sınırlarını güneye doğru genişleten Dündar Bey, Gölhisar, Korkuteli ve daha sonra memleketin bazı yerlerini gezmeye çıkmış olan Antalya Beyi\\'nin esir düşmesi üzerine Antalya\\'yı 1301\\'de zapt etti. Dündar Bey, Hamitoğullan Beyliği\\'nin sınırlarını Germiyan ve Denizli’ye kadar genişletmiş ve Antalya\\'yı kardeşi Yunus Bey\\'in idaresine verdi. Böylece Hamitoğulları Beyliği, Eğirdir ve Antalya olmak üzere ikiye ayrıldı.\\nMemluk Sultanı Nasır Muhammed\\'le Hamitoğulları Beyi Dündar Bey’in oğlu İshak Bey\\'le yaptığı tartışmadan sonra tutuklanması üzerine, yerine Korkuteli Emiri olan kardeşi Sinânüddin Hızır Bey geçti. Hızır Bey\\'den ^  sonra yerine sırasıyla Dadı Bey ve Mübârizeddin Mehmet Bey, geçti.Mübârizeddin Mehmet Bey\\'in hükümdarlığı Kıbrıs Frankları ile mücadele içerisinde geçti. Antalya, 1216\\'daki Türk kontrolünden üzerinden sonra ilk kez işgale uğradı. Kıbrıs kralı Pierre I. de Lusignan 24 Ağustos 1361 günü Teke-eli\\'nin merkezi olan Antalya\\'yı hücumla zapt etti. Beyliğinin merkezini Korkuteli\\'ye taşıyan Mehmet Bey, Antalya\\'yı ele geçirebilmek için önce Kıbrıslılara yiyecek satılmasını yasakladı. Daha sonra Karamanoğlu Alâeddin Ali Bey ile ittifak kurup ertesi sene 45 bin kişi ve 8 kalyon ile Antalya önüne gelip çok şiddetli bir savaş yaptı ise de şehri alamadı.\\nAntalya\\'yı ele geçirmek isteyen Mehmet Bey\\'in çabaları yörede ona itibar kazandırdı ve Teke Bey adını aldı. O dönemde Anadolu\\'nun güneyinde Antalya, Finike, Kaş, Kalkanlı, Milli, Gömbe, Elmalı, Korkuteli ve Serik ile sahilde Antalya ve Alanya arasındaki bölge Teke-eli olarak tanınmaya başladı. Antalya\\'yı geri almak için çeşitli ittifaklar kuran Mehmet Bey, 1373 tarihinde Antalya’yı yeniden fethetti.\\nMehmet Bey\\'den sonra yerine geçen Osman Çelebi ve Mustafa Bey dönemlerinde Teke Beyliği eski önemini yitirdi. Osmanlı Sultanı Yıldırım Bayezid 1390\\'da, Antalya\\'yı ele geçirdi. Burayı önce oğlu İsa Çelebi’ye, sonra da diğer oğlu Mustafa Çelebi’ye sancak olarak verdi. 1397\\'de Antalya ile Alanya arasındaki bölge tamamen Osmanlı egemenliğine geçti.\\nAnkara Savaşı\\'ndan sonra, Sivrihisar’a gelen Timur’un 10 tümenle gönderdiği Şahruh ve kumandanlarının korkunç tahribi neticesinde Korkuteli ve Kitir dolaylarını, Emir Şah Melik de Antalya başta olmak üzere bütün Teke-eli’ni yağmaladılar.Timur, Kütahya\\'ya geldiğinde, Teke-eli\\'ni, Karamanoğlu Mehmed Bey\\'e verdi. Timur\\'a bağlılığını sunan Osman Çelebi Bey, Antalya hariç olmak üzere eski beyliğine yeniden sahip olarak Korkuteli\\'ni kendisine merkez yaptı.\\n\\n\\n=== Osmanlı dönemi ===\\n\\nBugünkü Antalya ili sınırlarıyla Osmanlı Devleti\\'nin 15. ve 16. yüzyılda bu bölge için hazırladığı idari düzen arasında farklılıklar vardır. Bu yüzyıllarda bu bölgede kabaca Alanya ve Teke sancakları yer almaktaydı.\\nTicaret yolları üzerinde bulunmasından dolayı sık sık el değiştiren Antalya, Selçuklu Hanedanı döneminde tersanesi ve limanıyla büyük öneme sahipti. Selçuklu egemenliğindeki Antalya, Kıbrıs ile arasında önemli ticari etkinlikler yaparak dönemin en önemli ticaret merkezlerinden birisi oldu. Tahminen 13. yüzyılın sonu ya da 14. yüzyılın başlarında burası Hamidoğulları\\'nın Antalya şubesinin eline veya Tekeoğulları\\'nın eline geçti. Tekeoğulları döneminde huzur ve gelişme devam etmiş, imar ve kültürel etkinlikler artmıştır.\\nBölge, Osmanlıların elindeyken Karamanoğulları\\'nın ve ara sıra da bazı Avrupalı devletlerin saldırılarına uğradı. Antalya, yeniden Osmanlıların eline geçtikten sonra Anadolu eyaletine bağlandı. Ayrıca, Antalya bir süre şehzade sancağı olarak Osmanlı sancaklarından bir tanesi oldu. Şehzade Korkut 1502\\'den 1511 yılına kadar sekiz sene burada valilik yaptı. Antalya\\'nın Korkuteli ilçesi de ismini Şehzade Korkut\\'un bu bölgedeki hükümdarlığından aldı.\\nBu bölgede, Osmanlı idaresi altındayken 1511 yılında ortaya çıkan Şahkulu İsyanı, 16. yüzyıldaki Celali isyanları ve Körbey isyanı hariç önemli bir olaya rastlanmaz. Ancak bu ayaklanmalar neticesinde yeni fethedilen Modon, Koron gibi adalara büyük sürgünler oldu, İran’a büyük miktarda göçler yaşandı. Bunlarla birlikte, bazı olumsuz davranışta bulunanlar daha sonraki yıllarda yani Kıbrıs\\'ın fethiyle birlikte buranın iskân ve imarı amacıyla sürgün edildiler. Bu tür olaylar bölgenin siyasi, sosyal, kültürel ve nüfus yapısını etkiledi.\\nTeke Sancağı\\'nın kuruluşunda özellikle coğrafi konumu ve tarihi şartlar önemli rol oynadı. Yine bu sancağın gelişmesinde eski çağlardan beri önemli ticaret yolları üzerinde bulunması da etkili oldu. Bölge Osmanlı egemenliğine geçince Anadolu eyaletine bağlandı ve 19. yüzyıla kadar bu şekilde devam etti. Tanzimat dönemiyle başlayan idari düzenleme sonucunda Teke Sancağı, Karaman eyaletine; 1865 yılında çıkarılan Vilayet Nizamnamesiyle de Konya vilayetine bağlandı. Bu dönemde Teke Sancağı\\'nın Antalya, Akseki, Alaiye ve Kızılkaya\\'yla birlikte beş kazası bulunmaktaydı. Bunun sonucunda daha önce sancak olan Alanya ve kazaları Teke Sancağı’na bağlandı. 1890 yılı kayıtlarına göre Teke Sancağı\\'nın, İstanos, Bucak, Kızılkaya, Beşkonak, Millü, İğdir ve Serik nahiyelerinin bağlı olduğu Antalya kazası, İbradı nahiyesinin bağlı olduğu Akseki kazası, Finike nahiyesinin bağlı olduğu Elmalı kazası ile Kaş kazasından oluştuğu görülmektedir. 1902 tarihinde Teke Sancağı, Antalya, Akseki, Alanya, Elmalı ve Kaş kazaları ile 11 nahiye ve 524 köyden meydana gelmekteydi. Antalya, Osmanlı Devleti\\'nin son dönemlerinde Konya\\'dan ayrılıp bağımsız bir sancak olma özelliği kazandı.\\n\\n\\n==== Şah Kulu Ayaklanması ====\\n\\n1511 yılında çıkan bu ayaklanmadaki neden, tarihi kaynaklarda adı “Karabıyıkoğlu”, “Şeyhoğlu” veya “Şeytankulu” olarak da tanıtılan ancak daha çok Şah Kulu veya Şah Kulu Baba Tekeli diye de tanınan kişidir. Şah Kulu, Şah İsmail\\'in babası Şeyh Haydar\\'ın halifelerinden Hasan Halife\\'nin oğludur ve Teke sancağındaki Istanos\\'a bağlı Yalınlı veya Kızılyaka köyündendir.^ \\n\\n\\n==== Körbey Ayaklanması ====\\nCelali isyanları zincirinin bir parçası olarak bilinen Körbey Ayaklanması, 17. yüzyılın ortalarında Antalya mutasarrıflığı yapmakta olan ve Körbey lakabı ile tanınan Mustafa Paşa tarafından 1659 yılında çıkartıldı.\\nMustafa Paşa, elindeki servetine ve Antalya kalesinin savunma açısından sağlamlığına da güvenerek, Osmanlı Devleti\\'nin kendisine karşı koyamayacağını düşünerek isyan etti. İsyan hareketi üzerine karadan ve denizden gönderilen kuvvetler sayesinde, Antalya kuşatılarak top ateşine tutuldu ve kale içerisinde mahsur kalan halk, en sonunda kaleyi  hükûmet  kuvvetlerine teslim etmek zorunda kaldığı gibi, Mustafa Paşa\\'yı da isyanı bastırmakla görevli Köse Ali Paşa’ya verdi. Mustafa Paşa donanma gemilerinde boğularak öldürüldü. Ona bağlı olanlar da idam edildiler.\\n\\n\\n=== Millî Mücadele dönemi ===\\n\\nI. Dünya Savaşı\\'ndan sonra yapılan Mondros Ateşkes Antlaşması\\'yla Antalya ve çevresi İtalya Krallığı\\'na verilmişti. Bu dönemde işgalciler istedikleri gibi Anadolu\\'yu istilâ etti. Anadolu limanları İtilaf Devletleri\\'nin gemileri ile doldu, askerî okulları boşaltıldı, askeri daireleri yıkıldı ya da yakıldı; ilçe ve köylerde kontrol yabancıların eline geçti. 28 Mart 1919 Cuma günü İtalyanlar tarafından Antalya işgal edilmiştir.\\nAntalya yöresinde Yörük Ali Efe\\'nin evinde kentin ileri gelenlerinden bir grup, Antalya Rumlarının dışarıdan ufak bir yardım gördükleri takdirde isyana kalkışarak memleketin İtilaf kuvvetlerine teslim olacağı tehlikesine karşı Antalya\\'yı korumak konusunda toplantı yapmaya karar verdiler. Ancak yapılan toplantılardan bir sonuç alınamadı. Bir müddet sonra Anadolu\\'nun çeşitli yerlerinden bölgesel savunma cemiyetlerinin kurulduğunun duyulması ve 19 Mayıs 1919 günü Samsun\\'dan gelen haberler Antalya\\'da bir savunma cemiyeti kurulması fikrini yeniden gündeme getirdi.\\n\\n\\n==== Antalya Müdafaa-i Heyeti Milliye Cemiyeti ====\\nBölgede yaşanabilecek olası bir işgale karşı direniş için aralarında müftü Yusuf Talat, belediye başkanı Hüsnü Karakaş\\'ın bulunduğu bir grup kurulacak derneğin şekli hakkında mutasarrıfla görüşmeleri gerekiyordu. Ancak Mutasarrıf Cemal Bey, bir türlü bu fikre yanaşmıyor ve görüşmek isteyen grubu reddediyordu. Uzun uğraşlar sonucunda grup hasta yatağındaki Cemal Bey\\'i ziyaret etti ve ne gibi tedbirler alınması gerektiği tartışıldı. Mutasarrıf Cemal Bey bir cemiyet kurulması konusunda ikna edildi ve heyet toplandı. Belediye Dairesi\\'nin bir odasında “Müdafaa-ı Heyeti Milliye Cemiyeti” unvanı ile çalışmaya başladı. Bu cemiyet 4 Eylül 1919\\'daki Sivas Kongresi\\'ndeki Anadolu ve Rumeli Müdafaa-i Hukuk Cemiyetleri kurulması kararı uyarınca bu cemiyetin bir kolu olarak Antalya Müdafaa-i Hukuk Cemiyeti adını aldı. Dernek 4 yıl 24 gün çalıştıktan sonra üzerine düşen vatani görevini tamamlamış olarak kapanış belgesini Anadolu ve Rumeli Müdafaa-i Hukuk Cemiyeti\\'ne sundu. Dernek başkanı Gazi Mustafa Kemal Paşa 11 Haziran 1923 tarihinde derneğin kapanış belgesini uygun bulup onayladı.\\n\\n\\n==== Büyük Taarruz\\'da Antalya ====\\n\\n26 Ağustos\\'ta Türk Ordusunun saldırıya başlamış olduğu ufak tefek haberlerle duyuldu. 29 Ağustos\\'ta Afyonkarahisar ilinin Türklerin eline geçmesi haberinin şehre gelmesi Antalya\\'daki Türkleri sevindirdi. 30 Ağustos Zaferi, Dumlupınar Yunan mevzilerinin düşmesi; sevinç dalgası ile Türkler kutlamalara başladılar. Ayrıca Türkler zaferi kutlarken, bir yandan da geceleri çiftliklerin civarında İtilaf kuvvetlerinin bir çıkartma yapması ihtimalini önlemek için hazırlıklar yapıldı.\\n7 Eylül günü zafer kutlanmak için Mavnacılar Cemiyeti iskelede tertip ettikleri gece deniz eğlencesine bütün alay subaylarını davet ettiler. Üç gün sonra Türk ordusunun 9 Eylül\\'de ve saat 10’da İzmir\\'e girildiği haberi alındı. Eğlencelere Rumlar da ayrıca bir şenlik düzenleyerek sokakları dolaştılar ve \"Yaşasın Türkler ve Ordu, Kahrolsun düşmanları\" diye bağırdılar. Merkez Kumandanlığı önünde büyük bir zafer kemeri kuruldu. Bütün halk ve asker tarafından resmi geçit yapıldı, nutuklar söylendi, şiirler okundu, sabaha kadar eğlenildi.11 Eylül\\'de Antalya\\'da zafer alayı tertip edildi. Gece fener alayları sabaha kadar devam ettirildi. O gün Balıkesir ve Bursa\\'nın ele geçirildiği haberleri de alındı. 12 Eylül\\'de dahi depo alayı ayrıca zaferi kutlamak için bir eğlence düzenledi. Bu eğlence, Şarampol\\'deki Talim Meydanı\\'nda yapıldı. Gece Şarampol\\'den başlayıp Fener\\'de sonuçlanan bir fener alayı yapıldı. Kutlamalar, askeri yürüyüşler ve müsamereler Kasım ayına kadar sürdü.\\n\\n\\n=== Türkiye Cumhuriyeti dönemi ===\\n\\n29 Ekim 1923\\'ten sonra ülkenin tamamında olduğu gibi Antalya\\'da da pek çok değişim göstermiştir. Osmanlı döneminde sancak olan bölge cumhuriyet dönemiyle birlikte il haline gelmiştir. 1923-50 döneminde küçük ölçeklerde gelişen ilin nüfusu özellikle de ilin merkezinin nüfusu 1950 yılından sonra yoğun göç almaya başlamıştır.\\nAntalya’da 1950-60 yılları arası dönem; sanayileşmenin başlamasıyla birlikte kırdan kente göçle gelen nüfus artışının görüldüğü, bunun sonucunda daha iyi iş, daha iyi çalışma, dinlenme ve barınma arzularıyla kente gelen kişilerin bu ihtiyaçlarına cevap verecek kenti kurma çabalarının görüldüğü bir zaman sürecidir. Kentte 1950\\'den sonra da artarak devam edecek olan göçün, mekânda yaratacağı sosyal, kültürel ve fiziksel değişimler de bu dönemde yavaş yavaş başlamıştır.\\nKentte 1960-70 yılları arası dönemde, kentleşme hareketlerinin mekânsal etkileri görülmeye başlanmıştır. Bu dönem, üretimde farklılaşmayı getiren, sosyo-ekonomik ve kültürel değişime yol açan yeni bir yerleşme biçimlenmesinin başladığı dönem olması açısından önem taşımaktadır. 1960-1965 yılları arasında Kalekapısı çarşısı oluşmuş, 1965-1970 yılları arasında, Kalekapısı ile Belediye işhanı arasında, caddenin güneyinde bugünde kullanımı devam eden ticaret fonksiyonları yerini almıştır. 1970 yıllarında Vakıf İşhanı yapılmıştır. \\nDoğal ve kültürel kaynak potansiyeli yüksek bir kent olan Antalya’nın 1969 yılında turizmde öncelikli alanlar olarak belirlenmesiyle planlama ve yatırım önceliği artmıştır. 1960-70 dönemi Antalya’nın hızlı nüfus artışı ve kentleşmeden doğan sosyal, kültürel ve mekansal değişimlere hazırlıksız yakalandığı bir süreçtir.1974 yılından itibaren Antalya’da, güney kısmının turizm alanı ilanı ve altyapı çalışmalarının başlaması, liman inşaatının tamamlanması, havalimanı kapasitesinin arttırılması, eski liman ve Kaleiçi projesinin uygulamaya konulması, Fethiye-Kaş yolunun yapılması, Antalya\\'nın ülke çapında çok önemli bir turistik merkez işlevi yüklenmesi sonucunda kent 1970\\'lerden 1990\\'lı yılların sonuna kadar düzensiz bir şekilde yapılaşmıştır. Antalya kent yapısı özellikle 1990\\'ların sonundan başlayarak önceki döneme göre daha fazla göç almış ve bu da şehirdeki doğal dokunun bozulmasına, konut talebinin artmasına ve kentin kalabalıklaşmasına sebep olmuştur.Antalya, 2 Eylül 1993\\'te çıkarılan 504 sayılı kanun hükmünde karaname ile büyükşehir unvanı kazandı. 2004 yılında çıkarılan 5216 sayılı kanun ile büyükşehir belediyesinin sınırları valilik binası merkez kabul edilerek yarıçapı 30 kilometre olan dairenin sınırlarına genişletildi. 2012 yılında çıkarılan 6360 sayılı kanun ile 2014 Türkiye yerel seçimlerinin ardından büyükşehir belediyesinin sınırları il mülki sınırları oldu.\\n\\n\\n==== Atatürk\\'ün Antalya ziyaretleri ====\\n\\nTürkiye Cumhuriyeti kurucusu ve ilk cumhurbaşkanı Mustafa Kemal Atatürk ilki 6 Mart 1930\\'da olmak üzere 3 kez Antalya\\'yı ziyaret etmiştir. Atatürk\\'ün ilk Antalya ziyareti Türkiye ile İtalya Krallığı arasında yakın zaman önce doğan politik sorunların sonucunda gerçekleşmiştir.\\nİtalya\\'da iktidarda bulunan ve Doğu Akdeniz\\'de kendine üsler arayan Benito Mussolini\\'nin Türkiye\\'ye atadığı büyükelçi, Mustafa Kemal\\'le yaptığı görüşmede ülkesinin Antalya ve Muğla çevresinde bazı hakları olduğuna sözü getirir. Bunun üzerine Mustafa Kemal büyükelçiden iki dakikalık izin isteyerek yan odaya geçer. Gazi Mustafa Kemal odaya döndüğünde üzerinde Kurtuluş Savaşı sonunda mareşal apoleti takılmış üniformasıyla içeri girer, makamına oturur ve büyükelçiye dönerek: \"Buyurun sayın büyükelçi, sizi dinliyorum.\" der. Bu olaydan kısa bir süre sonra Antalya\\'ya gelmek için yola çıkan Mustafa Kemal, uluslararası politika yönünden oldukça kritik dönemde şehre gelmiş ve ülkesinin güney kıyılarındaki kentlerine verdiği önemi göstermiştir.\\nAltı günlük ilk ziyareti sırasında Antalya\\'nın çeşitli yerlerini görmüş ve incelemelerde bulunmuştur. Antalya\\'yı ne kadar beğendiğini 8 Mart 1930 günü gezisi sırasında Lara\\'dan Beydağları\\'na bakarken \"Hiç şüphesiz ki Antalya, dünyanın en güzel yeridir.\" sözüyle ifade etmiştir. 11 Mart günü ilk ziyaretini tamamlayan Mustafa Kemal aynı günün akşamı Ankara\\'ya dönmüştür. Bu ziyaret sırasında Atatürk\\'ün kaldığı ev yol genişletme için yıkılmış, uygun yere aslına uygun olarak yeniden inşa edilmiştir. Günümüzde Antalya Atatürk Müzesi olarak hizmet vermektedir.\\nAtatürk\\'ün ikinci ziyareti 26 Ocak 1931 tarihinde başladığı yurt gezisinin bir parçası dahilinde gerçekleşmiştir. Seyahati, 1929 Dünya Ekonomik Bunalımı ve Serbest Cumhuriyet Fırkası\\'nın kapatılması sonuçlarını uzman bir heyet ile yerinde tetkik etmek ve yapılması gereken işleri tespit edilmek üzere yapılmıştı. Bu amaçla 8 Şubat 1931\\'de Ege Vapuru ile İzmir\\'den Antalya\\'ya yola çıkıp 10 Şubat 1931\\'de sabah Antalya’ya geldi. Deniz motoru ile iskeleye çıkan Atatürk buradan alay karargahına, hükûmet konağına, belediyeye ve Cumhuriyet Halk Fırkası\\'nı ziyarette bulunarak, memleket işleri üzerinde yetkililerle uzun uzun görüştü. Buradaki görüşmelerini tamamlayan Atatürk, Silifke\\'ye hareket etti.Mustafa Kemal Atatürk\\'ün Antalya\\'yı üçüncü ve son ziyareti 18 Şubat 1935 tarihinde gerçekleşti. İstanbul\\'dan Ege Vapuru ile hareket eden Atatürk, 16 Şubat 1935 tarihinde Çeşme önlerinde Zafer torpidosuna geçti. Aynı torpido ile Alanya\\'ya doğru hareket etti. 18 Şubat günü Alanya\\'da üç saat kadar kaldıktan sonra öğleye doğru Antalya’ya geldi. Atatürk Antalya\\'ya üçüncü kez adımını attığında, tıpkı ilk gelişinde olduğu olduğu gibi Türkiye ile İtalya Krallığı arasında yeni bir siyasi kriz yaşandı. İtalya liderliği devam eden Mussolini, savaş gemilerini bir süredir Antalya yakınlarına demirlemiş durumdaydı. İtalyan hava kuvvetleri de Antalya üzerinde uçuşlar yapmaktaydı. 18 Şubat gün boyunca şerefine çeşitli etkinlikler düzenlenen Atatürk, günün akşamında yemek masasında bu konuyu yetkililerle tartışırken, Türk Hava Kuvvetleri pilotlarından İtalyan deniz güçlerine intihar saldırısı düzenlenmesini istemişti. Bu istek kabul pilotlarca kabul edildi. Mustafa Kemal, ertesi gün (19 Şubat) Afet İnan ve beraberindeki heyetle birlikte Ege Vapuru\\'na binerek Antalya\\'dan ayrıldı. Atatürk ve pilotlar arasında geçen bu yazışmaların da ulusal ve uluslararası kamuoyuna ulaşmasına izin verildi. Kısa bir süre sonra İtalyan hava ve deniz kuvvetleri Akdeniz\\'in güneyine çekildiler.\\n\\n\\n== Coğrafya ==\\n\\n\\n=== Konumu ve sınırları ===\\n\\nAntalya ili Türkiye’nin güneybatısında 29° 20’-32°35’ doğu boylamları ile 36° 07’-37° 29’ kuzey enlemleri arasındadır. Güneyinde Akdeniz ve kuzeyinde denize paralel uzanan Toroslar ile çevrili olup, doğusunda Mersin, Konya ve Karaman, kuzeyinde Isparta ve Burdur, batısında Muğla illeri ile komşudur. İlin yüzölçümü 20.177 km2 kadardır. Bu Türkiye yüzölçümünün % 2.6’sı kadarına karşılık gelir. Akdeniz Bölgesi’nin batısında bulunan Antalya ili, bölge yüzölçümünün ise % 17.6’sını oluşturur.\\nİl arazisinin ortalama olarak %77.8\\'i dağlık, %10.2\\'si ova, %12\\'si ise engebeli bir yapıya sahiptir. İl alanının 3/4\\'ünü kaplayan Torosların birçok tepesi 2500-3000 metreyi aşar. Batıdaki Teke yöresinde geniş platolar ve havzalar yer alır. Çoğunlukla kireçtaşlarından oluşmuş bu dağlar ve platolar alanında, kireçtaşlarının erimesiyle oluşmuş mağaralar, düdenler, su çıkaranlar, dolinler, uvalalar ve daha geniş çukurluklar olan polyeler gibi büyüklü, küçüklü karst şekilleri çok yaygındır. İlin topoğrafik yönden gösterdiği değişkenlik gerek iklim, gerek tarımsal gerekse demografi ve yerleşme yönünden farklı ortamlar yaratmaktadır. Ayrı özellik gösteren bu alanlar sahil ve yayla bölgesi olarak tanımlanır.\\n\\n\\n=== İklim ===\\nAntalya ili iklimi genel olarak Akdeniz iklimine girmektedir. Yazları sıcak ve kurak, kışları ılık ve yağışlı olarak ifade edilen iklim tipi diğer bir deyişle “Mutedil Deniz ve Sıcak Deniz İklim Sınıfı”na girer, daha iç kesimlerde ise “Soğuk Yarı-Kara İklim” tipi görülmektedir.\\nYazın ortalama sıcaklık 28-36 ° derece arasındadır. Öğle saatlerinde termometrenin 40 ° derecenin üzerine kadar çıktığı görülür. Ocak ayında ise sıcaklık ortalama 10-20 ° derece arasında değişir. Kıyı kesiminde kar çok ender görülür, don ise ender olmakla beraber, kıyılarda her kış görülmez. Yağış olmadığı günler hava açık ve güneşlidir. İlde yıllık ortalama nispi nem %64 civarındadır.\\nAntalya’nın kıyı bölgesinde yazlar hem uzun hem de sıcaktır. Kışlar bile ılığa yakın serinlikte geçer. Yazın neredeyse hiç görülmeyen yağmur, en çok kış ayları ile  daha seyrek olarak ilk ve sonbahar aylarında sağanak halinde yağar. Yılın ancak 40-50 günü kapalı ve yağışlıdır. Antalya, yılda ortalama 300 güneşli günü, 18.7 derece yıllık sıcaklık ortalaması ile yılın 12 ayı turizm hareketlerine açık, ender bölgelerden birisidir. Yılın dokuz ayı denize girilebilir.Antalya\\'da ölçülmüş günlük en yüksek yağış miktarı: 232.8 kg/m2; günlük en hızlı rüzgâr: 155.5 km/sa ve en yüksek kar kalınlığı 5.0 cm\\'dir.\\n\\n\\n=== Depremsellik ===\\nAntalya, Türkiye Afet İşleri Genel Müdürlüğü Deprem Araştırma Dairesi\\'nin hazırladığı Deprem Riski Haritası\\'nda Antalya ikinci dereceden deprem bölgesidir. Antalya\\'nın batısındaki Elmalı ilçesinden geçen Helen Yayı\\'nın uzantısı bulunmaktadır. Bu hat Burdur-Isparta hattında çeşitli kırıklar oluşturmuştur. Buradaki deprem riski olan yerler Antalya çevresinde olduğu için Antalya ikinci dereceden deprem bölgesi sayılmaktadır. Ama Antalya merkezli bilinen çok büyük bir deprem yoktur. Yalnızca 11 Nisan 1977\\'de yerin 93 km derinliğinde meydana gelen 4.6 büyüklüğünde ve 28 Aralık 2013 günü saat 17.21\\'de 6.0 büyüklüğünde deprem olmuştur.\\n\\n\\n=== Yerbilim ===\\nAntalya\\'da değişik yaşta ve nitelikte kayaçlar vardır. Görünür temelde paleozoyik yaşlı, kristalen şist, fillat, mermer ve kireç taşları vardır. Alanya’nın kuzeyinde yaygın olarak yüzeyleyen bu kayaçlar şiddetli tektonik olayların etkisiyle kıvrılmış ve kırılmıştır.\\nDağlık kesimlerde mesozoyik ve tersiyere ait formasyonlar bulunur. İlin büyük bir kesiminde yayılım gösteren mesozoyik formasyonlar, kireç taşı, marn, filis ve serpantinden oluşmuştur. Üzerinde karstik şekillerin tipik olarak izlendiği kireçtaşları gri renkli, çok çatlaklı\\nve boşlukludur. Kuvaternere ait alüvyon ve pliyo kuvaterner traverten ise Antalya ovası’nda tipik olarak izlenir. Sahada deniz altında da devam eden travertenlerin toplam kalınlığı birkaç yüz metreyi geçer ve kireç taşlarında olduğu gibi karstiktir.\\n\\n\\n=== Bitki örtüsü ===\\n\\nKıyıdan 500–600 m. yüksekliğe kadar olan yerlerde aşırı yaz kuraklığına uyan, kışın da yeşil kalan makiler egemendir.\\nBoyları 3–5 m.yi geçmeyen bu bitkiler arasında delice, kocayemiş, sandal, yabani çilek ve zakkum en yaygın olanlarıdır. 600-1.200 metre arasında, kızılçam ve meşelerin egemen olduğu, karışık ormanlar ya da yamaç ormanları ortaya çıkar. Kızılçamların aralarında yer yer meşelikler, daha yükseklere doğru halep çamı ile karaçamlar görülür. 1.200-2.100 metre arasında ise yüksek ormanlar diye adlandırılan ve sedir, köknar, sarıçam, kayın ve çeşitli ardıç türlerinden oluşan orman kuşağı yer alır. Özellikle Batı Toroslar’da saf sedir ormanları vardır. 2.000 metrenin üstünde iğne yapraklı ağaçlar seyrekleşir ve bodurlaşır. Bu alan 2.100-2.300 metrede sona erer ve alp çayırları denen, renkli çiçeklerle bezenmiş, yazları kurumayan yüksek otluklara geçilir. Teke Yaylası’ndaki yüksek ovalarda meşe ormanlarının tahribi sonucu oluşmuş bozkır bitkileri yetişir. Genişliği 946.466 hektarı bulan Antalya ormanlarında köknar, meşe, dişbudak, karaağaç, kocayemiş, çınar, ahlat, ıhlamur, yabani ve aşılı zeytin, kermes meşesi, mazı meşesi, sandal, sakız ağacı, mersin, tespih ağacı, defne, akça kesme, hayıt, zakkum, Keçiboynuzu, kayacık, funda, ladin, çılbırdı, cehri, katırtırnağı, kekik, patlangaç, sütleğen, dikenli mersin, deve dikeni, ballı baba, alev doda, adaçayı, safran, kanada şifa otu, tokuz otu, çakır dikeni, çiriş otu, kuşkonmaz, krizantem gibi ağaç ve ot cinsleri bulunur.\\n\\n\\n=== Direy ===\\nAntalya bölgesinin ılıman iklim özelliklerine sahip olması ve bitki örtüsü çeşitliliği, yaban hayatının zenginliğini de beraberinde getirir. Geyik, tilki, sansar, sincap, alageyik, yaban keçisi, çakal, sırtlan, kurt, ayı, keklik, bıldırcın, üveyik, yaban güvercini, çulluk, turaç, karatavuk, sarıasma ve turna Antalya ilinin yaban hayatını oluşturan canlıların bir kısmıdır.\\n\\n\\n== Nüfus ==\\n\\nAntalya ili, Antalya güneyinin şehrinin turizm alanı ilan edilmesinden sonra hızla kalabalıklaşmıştır. Özel ve kamu sektörü yatırımları kent merkezi ve çevresinde yoğunlaşmış, bunun sonucu ortaya çıkan çalışma olanakları büyük bir nüfus akımına yol açmıştır. Turizm olanaklarının çeşitliliği buna göre tesisleşmenin gelişmişliği, her mevsim tarıma uygun toprakları, ulaşım sistemlerinin kullanışlılığı, denize kıyısı olması gibi nedenlerin göçü teşvik ediyor olması muhtemeldir. 1927 sayımında nüfusu 206.270 olan il nüfusu zamanla doğum oranı ve göçlerle katlanarak artmış ve bugün 2 milyonu geçmiştir. Göçe rağmen, 2008\\'de Antalya\\'da işsizlik oranı (%10,7) Türkiye genel işsizlik oranının (%11,9) altındaydı. İşe katılım bazındada (%57) TÜİK tarafından belirlenen 26 bölge içinde 2. konumundaydı. İstihdam edilenlerin %45\\'i hizmetler, %5\\'i sanayi, %50\\'si tarımda çalışır (bu oranlar Türkiye için sırasıyla %49, %27 ve %24\\'tür).\\n2013\\'ten önce nüfusun 1.000.081\\'i merkez il sınırları içinde 919.648\\'i ilçe sınırları içindeydi. Bu durumda il nüfusunun %52\\'si il ve ilçe merkezlerinde, %48\\'i ise köy ve beldelerde yaşamaktaydı. Antalya 2016 yılı itibarıyla nüfus bakımından 81 il arasında 5. sıradadır. 2.328.555 kişilik Antalya nüfusu bir önceki yıla göre 40.099 kişi artmış ve Türkiye nüfusunda Antalya payı 2,64\\'ten 2,92\\'ye yükselmiştir.Antalya il nüfusu Türkiye geneline göre daha yüksek bir eğitim düzeyine sahiptir. 2008 verilerine göre, 15 yaş üstü okuma yazma oranı toplam il nüfusunun %97\\'sini (erkeklerde %91, kadınlarda %86\\'sını) oluşturur, bu oran Türkiye için %83\\'tür (erkeklerde %88, kadınlarda %79). Bu farklılık özellikle nüfusun üniversite eğitimli kesiminde belirginleşir: üniversite ve yüksekokul mezunlarının toplam nüfusa oranı Antalya\\'da %7 dolaylarındadır Türkiye genelinde ise %5,4\\'tür.\\n\\n\\n=== Güncel nüfus verisi (2021) ===\\nTÜİK verilerine göre 2021 yılı sonunda Antalya ilinin nüfus bilgileri aşağıdaki gibidir.\\n\\n\\n== Konum ==\\n*Metropol ilçelerin merkeze uzaklıkları, kaymakamlık ile valilik arasındaki uzaklıktır.\\n\\n\\n== Ekonomi ==\\nAntalya şehrinin ekonomisinde turizm, ticaret ve tarım ön planda olup sanayi faaliyetleri de son dönemde gelişme gösteren faaliyetlerdendir. Bunun dışında Antalya\\'da hayvancılık, madencilik gibi diğerlerine göre daha az yönelinen kollarda iş faaliyetleri de sürdürülmektedir.\\n\\n\\n=== Ticaret ===\\n\\nAntalya\\'da 1970\\'li yıllara kadar belirli bir seviyede kalmış olan ticaret sektöründe bu tarihten sonra çeşitli hareketlenmeler olmuştur. 1980\\'lerde gelişen turizm hareketi ile birlikte de konaklama ve dinlenme tesisleriyle değişik türde lüks mağazalar açılmıştır. Teknolojinin de kullanımını yaygınlaşmasıyla tarım ve sanayide üretimi artırmış, ticari piyasa oldukça hareketlenmiştir.\\nAntalya\\'da ticaretteki en etkili kuruluş Antalya Ticaret ve Sanayi Odası\\'dır (ATSO). Üye sayısı 10.000\\'i geçen ATSO kadar önemli olan diğer kuruluşlar: Antalya Ticaret Borsası ve Antalya İhracatçılar Birliği\\'dir.Antalya\\'daki ticaret sektörü, toplam gelirlerin %34\\'ünü oluşturan önemli bir ağırlığa sahiptir. Antalya\\'da ihracatın %67\\'si ve ithalâtın %60\\'ı Avrupa Birliği üye ülkeleri ile gerçekleşmektedir.Antalya Serbest Ticaret Bölgesi, Türkiye\\'de serbest ticaret bölgesine olanak veren yasanın 1985 yılında çıkmasından bu yana Türkiye\\'de 21 serbest ticaret bölgesinden ikincisidir ve 14 Kasım 1987 tarihinde faaliyetlerine başladı. Şu an 607.130 m2\\'lik bir alanda etkinlik gösteren Antalya Serbest Ticaret Bölgesi, Antalya\\'nın Konyaaltı belediyesi sınırları içinde bulunmaktadır.\\nAntalya Serbest Ticaret Bölgesi, Bakanlar Kurulu kararınca işletmesi özel sektöre verilmiştir. Bu amaçla %36\\'sı kamuya geri kalan %64\\'lük kısmı ise ASBAŞ\\'a (Antalya Serbest Bölge İşleticisi A.Ş.) verilmiştir.\\n\\n\\n=== Sanayi ===\\nAntalya, Türkiye\\'nin gelişmişlik düzeyine göre 4. ili olmasına rağmen sanayi alanında Türkiye ortalamasının altında kalmaktadır. Bunun temel nedeni olarak Antalya\\'da turizmin ve tarımın ön planda olmasıdır. Ayrıca Antalya bu iki ekonomik faaliyetle sanayileşmenin yarattığı hava kirliliği gibi durumların yaşanmadığı bölgelerdendir.\\n1950\\'li yıllarda Sümerbank ve Antbirlik tesisleriyle başlayan sanayileşme girişimleri sonucunda Antalya\\'da yaklaşık 880 sanayi siciline sahip firma bulunmakta olup bunlardan yaklaşık 280\\'i Antalya Organize Sanayi Bölgesi\\'nin kontrolündedir. 1961 yılında kurulup Antalya\\'nın ilk sanayi kuruluşlarından olan ve kurulduğu bölgeye Dokuma ismini veren Antalya Pamuklu Dokuma Fabrikası ise 17 Kasım 2004 tarihinde faaliyetlerini durdurmuştur. Döşemealtı\\'ndaki Organize Sanayi Bölgesi ve Konyaaltı\\'nda bulunan Serbest Bölge dışında, Antalya şehir merkezinde üç sanayi sitesi bulunmaktadır. Bunlar: Akdeniz Sanayi Sitesi, Yeşil Antalya Sanayi Sitesi ve Antalya\\'daki en eski sanayi sitesi olan Sanayi Çarşısı\\'dır.\\nSanayi sektörünün gayrisafi hasıla içindeki payı Türkiye genelinde %28 iken, Antalya\\'da %7 düzeyindedir. Antalya ili ulusal geliri içerisindeki sanayi payı sadece %4,3 gibi bir oranda kalmaktadır.Antalya Organize Sanayi Bölgesi (AOSB), 1976 yılında Bakanlar Kurulu\\'nun verdiği onayla yapımına başlanan ve Antalya\\'da turizm sektörünü destekleyecek sanayi yatırımlarının da bulunması gerekliliğinden kuruldu. Tarıma ve turizme uygun olmayan arazilerde sanayi oluşumu için, gerekli her türlü altyapının hazırlanması ve bakımı, çalışanlar için gerekli sosyal etkinlik alan ve tesislerinin düzenlenmesi, tüm dönemlerde, hizmette kalite ve devamlılığın sağlanması amacı taşır.\\nAntalya Organize Sanayi Bölgesi, bir yıl iki aylık bir sürenin ardından tamamlanıp 370 hektarlık bir alanda etkinlik göstermeye başlamıştır. Kurulduktan 6 yıl sonra kurulduğu arsa üzerinde bir hata tespit edilmiş ve etkinlik alanı 310 hektar daraltılarak 60 hektara indirilmiş, ama 1998 yılında bu sorun aşılmış ve yeniden 370 hektarlık bir alanda etkinliklerine devam etmiştir. 2005 yılında çevresindeki 294 hektarı da bünyesine katarak 664 hektarlık bir alan yayılmıştır.Antalya - Burdur kara yolunun 26. kilometresinde bulunan Organize Sanayi Bölgesi 2 batıda ve 1 doğuda olmak üzere toplam üç giriş kapısına sahiptir. %84.86\\'lık bir doluluk oranına sahip Antalya Organize Sanayi Bölgesi\\'nde 179 firmaya ait 208 adet alan tahsis edilmiştir.\\n\\n\\n=== Tarım ===\\n\\nAntalya ili sahip olduğu Antalya Ovası ile tarımsal potansiyel ve ekolojik uygunluk açısından Türkiye tarımında önemli bir yere sahiptir. Antalya topraklarının beşte birinde tarım yapılan bir bölgedir.Antalya\\'da tarım yapılan yerleri kıyı kesimi ve kıyıdan uzak kesimler olarak ayırırsak kıyı kesiminde portakal, muz, avakado gibi tropikal bitkilerin yetiştirilebilmesinin yanında sera tarımına da uygundur. Ama kıyıdan uzak kesimlerde ise elma, armut, ayva gibi soğuğa dayanıklı meyve türleri yetiştirilebilir. En çok yetiştirilen tarım ürünlerinin başında domates, hıyar (salatalık) ve portakal gelir.\\nAntalya ili yıllık 3.368.357 ton sebze üretimiyle Türkiye\\'deki üretimin %13,4\\'ünü; 1.011.917 ton meyve üretimiyle Türkiye\\'deki üretimin %6,06\\' sını karşılar. Diğer bitkisel kalemler göz önüne alındığında Antalya, Türkiye\\'nin yıllık tarım ihtiyacının %4,41\\'ini karşılar.Kentin hızlı gelişmesine paralel bir süreç yaşayan tarım sektörü kendi yapısında da derin değişimlere uğramıştır. 1970 yılında nüfusun dörtte üçü tarımsal sektörlerden geçiniyorken 2000 yılında bu oran % 49\\' a düşmüştür.\\n\\n\\n=== Hayvancılık ===\\nAntalya şehrinde hayvancılık çok yaygın olmayan bir ekonomik faaliyettir. Merkeze bağlı köylerde daha çok küçükbaş hayvancılık yaygındır, çünkü arazi yapısı küçükbaş hayvancılığı için uygundur. Antalya\\'daki 509.335 küçükbaş hayvan ülkedeki hayvanların %1.7\\'sidir. Büyükbaş hayvancılık daha çok şehir merkezi dışındaki yüksek bölgelerde yapılmaktadır. Antalya\\'daki 120.016 büyükbaş hayvan Türkiye\\'deki hayvanların yüzde %1,1\\'dir. Antalya\\'daki kümes hayvancılığı hayvan sayısı olarak küçükbaş ve büyükbaş hayvancılıktan fazla olsa da Türkiye\\'deki kümes hayvancılığının %0,24\\'üne denk gelir.\\nAntalya\\'da arıcılık, gezginci arıcılık şeklinde yapılmaktadır. İldeki kovan sayısı Türkiye\\'nin %2,4\\'üne denk gelir. İpek böcekçiliği ise Antalya\\'nın ülke ekonomisine en çok katkıda bulunduğu hayvancılık kalemidir. Buna göre yıllık açılan 905 kutu, Türkiye üretiminin %16\\'sıdır.Balıkçılık etkinlikleri Antalya\\'nın kıyı kenti olmasına rağmen Türkiye ortalamasının altındadır. Yıllık alabalık, çipura ve levrek üretiminin toplamı ülke üretiminin %1.36\\'sıdır.\\nBunun yanında 2005 yılındaki bir genelgeyle uygulanan Türkiye İç sularını Balıklandırma Projesi kapsamında kent merkezinin kuzeyindeki Kepez Su Ürünleri Üretme İstasyonu\\'nda ise balık çeşitlerinin artırılması yönünde çalışmalar yapılmaktadır.\\n\\n\\n== Kültür ve sanat ==\\n\\n\\n=== Müzeler ===\\n\\nAntalya ilindeki müzelerin büyük çoğunluğu Antalya şehir merkezi ve Alanya sınırları içerisinde kalır. İlde çeşitli kurumlarca işletilen 11 müze bulunmaktadır.\\n\\nÖzellikle ilk çağdan olmak üzere ve Türkiye\\'de cumhuriyetin kuruluş yıllarına kadarki döneme ait önemli eşyaları Antalya\\'daki müzelerde bulmak mümkündür. Tarihsel süreçten bakılırsa Antalya Müzesi\\'nden başlayarak Alanya Atatürk Evi Müzesi\\'ne kadar süregelen müzeler Antalya\\'nın tarihini aydınlatacak eserleri barındırır. Bunların yanı sıra Kaleiçi Müzesi ve Alanya Kızılkule Etnografya Müzesi de birer etnografya müzesi olarak hizmet vermektedir.\\nİldeki Antalya Müzesi, Alanya Arkeoloji Müzesi ve Side Müzesi ilk çağ eserlerini, Alanya\\'daki İçkale Müzesi Selçuklu dönemi eserlerini, Antalya Atatürk Müzesi ve Alanya Atatürk Evi Müzesi de Türkiye Cumhuriyeti dönemi eserlerini ziyaretçilerine sunar.\\nİldeki bu müzeler dışında tematik bir müze olan Antalya Oyuncak Müzesi aynı zamanda Türkiye\\'deki ikinci büyük oyuncak müzesidir.Türkiye\\'de yakın zamanda yagınlaşmaya başlayan kent müzesi kurma planları da Antalya\\'da uygulanmaya başlanmıştır. Antalya Kent Müzesi şu an büyükşehir belediyesi binasında ve bir kısmı açıkhava müzesi olarak hizmet vermektedir.\\n\\n\\n=== Arkeolojik alanlar ve tarihi kalıntılar ===\\n\\nİlde sayısız arkeolojik alan vardır. Buralarda bazı keşfedilmiş kıymetli eserlerin bir kısmı Antalya Müzesi\\'nde sergilenmekte, yapılar da ziyarete açık tutulmaktadır.\\nAntalya\\'nın 30 km kuzeyindeki Karain Mağarası paleolitik, neololitik, kalkolitik, eski tunç gibi protohistorik çağlarda ve klasik çağda insanlar tarafından sürekli bir biçimde iskan edilmiştir. Karain Mağarası insanlık tarihinin en eski yerleşim yerlerinin başında gelir. Karain Mağarası Dünya Miras Geçici Listesinde yer almaktadır.\\n\\nAntalya Kalesi\\'nin, (şimdiki adıyla Kaleiçi) kapısı Romalılar zamanında Kral Hadrianus\\'un şehri ziyaretine hitaben inşa edilmiş ve sonraki yüzyıllar boyunca çeşitli medeniyetlerce kullanılmıştır.\\n\\nKuruluş tarihi tam olarak bilinmeyen Termessos kentinin tarih sahnesine çıkışı Büyük İskender\\'in MÖ 333\\'te kenti kuşatması ve Termesosluların güçlü bir savunma yaparak kenti teslim etmemesiyle olmuştur.\\nAntalya\\'da MÖ 12. yüzyılda Yunan göçleriyle kurulan Pamfilya\\'nın antik kentlerinden Perge\\'nin kalıntıları günümüze ulaşmıştır. MÖ 10. yüzyıldan kalan antik kent Aspendos ve bu kentte MS 2. yüzyılda kurulan Aspendos tiyatrosu ilin Serik ilçesindedir.\\n\\nDemre ilçesindeki Simena, Türkiye\\'nin sadece denizden ulaşılabilen nadir yerleşimlerinden biridir. Kekova Adası ve çevresindeki kıyılarda doğal, kültürel ve coğrafi değerlerin korunması amacıyla oluşturulmuştur, 260 km2 alanı kaplayan Kekova Özel Çevre Koruma Alanı\\'nın içerisinde yer alan Simena Antik Kenti, 1. Derece arkeolojik sit alanı olarak tescillidir.Demre\\'deki Myra, kaya mezarları, Likçe yazıtları ve sikkeler, kentin en azından MÖ 5. yüzyıldan itibaren varlığını sürdürdüğünü gösterirler.Side Antik kenti, MS 2. yüzyıla tarihlenen tiyatroda MS 3. yüzyılda orkestranın etrafı yüksek bir duvarla çevrilerek arena şekline dönüştürülmüş olmalıdır. Duvar üzerindeki su geçirmez sıva kalıntılarından havuz şekline de dönüştürülmüş olabileceğini düşünülse de bu teknik olarak mümkün görünmemektedir. MS 5. yüzyılda tiyatro içerisine Şapeller yapılarak Erken Hristiyanlık Dönemi\\'nde de kutsal bir mekan (açık hava kilisesi) olarak kullanıldığı bilinmektedir.MÖ 13. yüzyıla ait Hitit metinlerinde şehrin adı Patar olarak geçen Patara, Tepecik Akropolü\\'nde ele geçen seramik parçaları, Orta Tunç Çağı özelikleri içerirken, yine Tepecik\\'in doğu yamacı eteklerinde ortaya çıkarılan, Demir Çağı öncesine ait taş balta Patara\\'nın tarihinin ne kadar eskilere gittiğini göstermektedir.13 Antik kentten biri olan Olympos, kesin kuruluş tarihi bilinmemekle birlikte MÖ 167-168 yılarında basılan Likya Birlik sikkelerinde adı geçer. Likya Birliği\\'nde üç oy hakkına sahip 6 şehirden biridir.Alanya Kalesi ise denizden ve karadan zor ulaşılabilirliği ve doğal korunaklı oluşu nedeniyle tarih boyunca kesintisiz yerleşim görmüş olan Alanya Kalesi, Anadolu\\'yu süsleyen yüzlerce kaleden bugün ayakta kalabilmiş, en iyi korunmuş ortaçağ kalelerinden birisidir.\\n\\n\\n=== Müzik ===\\nAntalya yöresinin geleneksel halk müziğinin başlıca telli çalgısı bağlama ve cümbüş, başlıca nefesli çalgıları sipsi, zurna ve kaval tipleri, başlıca vurmalı çalgıları da davul ve defdir.\\nAntalya yöresi halk dansları, Antalya’nın komşu illeri Burdur, Isparta, Muğla ve Mersin yörelerinde oynanan halk dansları ile “Teke Folkloru” diye adlandırılan bölgesel bir özelliğe sahiptir. Bölgede müzik alanında olduğu gibi halk oyunlarında da yörüklerin etkisi ağır basar.\\nAntalya’nın doğusundaki ilçelerde ise Konya kaşık havası, Boğaz havaları, Serenler Zeybeği, Anamur Yolları, Silifke’nin Yoğurdu, Cezayir havaları çalınır. Bu oyunlar tek tek veya toplu olarak da oynanır.\\nTeke Zortlatması, oynayanlara ve adı geçen bölgede yaşayanlara göre, bu ad, teke adı verilen erkek keçinin hareketlerini yansıtmasından dolayı verilmiştir. Zortlatma; sıçrama, hoplama anlamına gelir. Oyunun sekme, arkaya hızla dönerek yürüyüp kaçma, direnme ve korku dolu ani sıçramalar gibi figürleri tekenin hareketleri ile büyük bir benzerlik gösterir. 9/8\\'lik usulün sanat müziğindeki aksak ve raks aksağı olarak bilinen şeklinin 9/16\\'lık türevi Teke Zortlatmasının en belirgin unsurudur.Yörede zeybek de yaygın bir oyundur. Kıvrağıyla da ağırıyla da oynanan zeybeğin Antalya civarında 9 farklı türü çalınır, oynanır.\\n\\n\\n=== Mutfak ===\\nSon sekiz yüzyıllık tarihsel süreçte Antalya mutfağı farklı kültürlerden etkilenerek kimi noktalarda süreklilik, kimi noktalarda ise değişiklik göstermiş. Antalya mutfağı hem yörük kültüründen hem de Akdenizin yemek kültüründen etkilenmiş.Antalya\\'nın yöresel yemek kültürüne özgü olan yemeklere aşağıdakiler dahildir:\\n\\nKadayıf tatlısı, kabak tatlısı, tarhana ve mercimek dondurmasi, karpuz kabuğu reçeli, bergamot reçeli gibi tatlılar da sayılabilir. Bu yöredeki tarhana, kekikli, göce, yarpızlı, yarma tarhana çorbaları;  aside, alafaşı, boranı (yöredeki adıyla borana), softalar aşı, labada aşı, palize, öküz helvası, kıvrım, fıtır, kirkitle, bestel tatlıları; kapama ve bastarya börekleri ile hilbeş, tarator ve kölle mezeleri çokça tüketilen çoğunluğu yöreye özgü olan yemeklerdir.\\n\\n\\n=== Şenlikler ve festivaller ===\\nAntalya\\'da çeşitli dönemlerde festivaller ve şenlikler düzenlenmektedir. Bu festivaller genelde Antalya\\'nın yüksek kesimlerinde yaylalardaki yaz şenlikleridir (Feslikan Yaylası Festivali, Söbüce Yaylası Şenliği, Alanya Şenlikleri gibi). Bunun yanında elmalı yöresinde Alevi-Bektaşi-Türkmen kültürü yaşayan halk da şenlikler düzenlerler (Abdal Musa Şenlikleri gibi).Antalya\\'da yerel ölçekte olduğu gibi ulusal ve uluslararası ölçekte fetivaller de düzenlenmektedir. Ulusal ölçekte en büyük festival 2010 yılında düzenlenmeye başlanan Antalya Televizyon Ödülleri\\'dir. Uluslararası ölçekte her yıl ekim ayında Antalya Altın Portakal Film Festivali düzenlenir.. Ayrıca Uluslararası Antalya Kum Heykel Festivali, gelenekselleşmiş Türkiye\\'nin tek, dünyanın ise en büyük kum heykel etkinlikleri arasında yer almaktadır.\\n\\nAntalya Film Festivali\\n\\nTemelleri 1953 yılında düzenlenen Belkıs Festivali\\'yle atılan ve o günden bugüne çok büyük değişim gösteren ayrıca 2005\\'ten bu yana uluslararası olarak düzenlenen Altın Portakal Film Festivali 1964 yılında dönemin Antalya Belediye başkanı Avni Tolunay\\'ın girişimleriyle ve Türk sinema sektörünü maddi manevi desteklemek, Türk film yapımcısını nitelikli yapıtlar üretmeye teşvik ederek; Türk sinemasının uluslararası platforma açılmasına zemin hazırlamak amacı taşıyarak başlatılmıştır. Antalya Film Şenliği adı altında başlayan festival ikinci yılında Antalya Tiyatro, Müzik ve Film Şenliği adında düzenlendi.\\nFestival daha sonra Antalya Kültür Sanat Vakfı\\'nın düzenlemesiyle sürmüş ve 2005 yılına kadar Antalya Altın Portakal Film Festivali adıyla düzenlendi. 2004\\'te festivale uluslararası kategoriler eklenince festival, Uluslararası Antalya Altın Portakal Film Festivali adıyla düzenlendi ve festivalde uluslararası dallarda da ödül verilmeye başlandı.Antalya Büyükşehir Belediyesi, 2015 yılında aldığı kararla Antalya adının daha çok öne çıkarılması amacıyla festivalin adında değişikliğe gitti ve isimden Altın Portakal kısmı çıkarıldı. 52. festival, Uluslararası Antalya Film Festivali adıyla ilk kez yapıldı.\\nAntalya Televizyon Ödülleri\\n2010 yılında İsmail Cem Televizyon Ödülleri adı altında Antalya Kültür ve Sanat Vakfı tarafından Altın Portakal Film Festivali\\'yle sinemada Türkiye\\'nin önde gelen kentlerinden Antalya\\'yı televizyonda da ilk akla gelen kentlerden biri yapmak ve Türkiye´de televizyon endüstrisinin gelişimine katkıda bulunmayı hedefleyen ve Türk yapımlarının uluslararası pazardaki temsil gücünü arttırma amacıyla düzenlenen bu organizasyon ilk yılında dönemin televizyon dizilerinin oyuncu ve yapımcılarını Antalya\\'da toplamayı başardı.İlk senesinde eski gazeteci ve eski TRT Genel Müdürü İsmail Cem\\'in adıyla düzenlenen organizsyonun adı, ilk yılındaki ödül töreni sırasındaki tartışmalar dolayısıyla İsmail Cem\\'in ailesinin isteği doğrultusunda İsmail Cem ismi çıkartılarak Antalya Televizyon Ödülleri adını aldı.\\nUluslararası Antalya Kum Heykel Festivali\\nİlk kez 2006\\'da düzenlenen Uluslararası Antalya Kum Heykel Festivali, her yıl farklı bir tema ile sanatseverlere Sanatın en doğal, en muhteşem ve en eğlenceli hali sloganıyla ulaşmaktadır. 2013 teması İmparatorluklar (Empires) olarak belirlenen etkinlik Mayıs-Kasım ayları arasında düzenlenmektedir. Uluslararası kum heykeltıraşların katıldığı festival, katılan sanatçı sayısı, kullanılan kum miktarı ve alan genişliği gibi özellikleriyle Dünyanın en büyük kum heykel organizasyonları arasında yer alır.\\n\\n\\n== Turizm ==\\n\\nTürk turizminde İstanbul ile birlikte en çok turist çeken Antalya\\'da yılın her döneminde turizm olanaklarının ve tesisler olsa da turizm bölgeleri yaz ayında daha yoğundur.\\nAntalya\\'da kültür turizmi başta olmak üzere deniz, spor, sağlık, kış, kongre, yayla, mağara, kamp ve inanç turizmi yapılabilmekte bu turizm seçenekleri için tesisler bulunmaktadır. 2017 yılı turizm istatistiklerine göre Antalya, dünyada en çok ziyaret edilen yirmidokuzuncu şehir durumundadır . Antalya iline 2017 yılında 10.486.191 turist gelmiştir. 2015 yılının son aylarında Türkiye ile Rusya arasında yaşanan uçak krizi sonrası Rusya\\'nın Türkiye\\'ye karşı yaptırımlar uygulaması, tatil için Türkiye\\'yi tercih eden Rusya vatandaşlarının sayısında büyük bir düşüşe neden olmuş ve Türkiye\\'deki turizm etkinliklerini daraltmıştır.Türkiye\\'de \"turizmin başkenti\" olarak nitelendirilen Antalya birbirinden farklı kategorilerde birçok otele ev sahipliği yapmaktadır. Şehirde özellikle 5 yıldızlı otellerin fazlalığı dikkat çekmektedir. 2017 verilerine göre, Antalya\\'da 405 adet 5 yıldızlı otel ve bu otellerde yaklaşık 352.000 adet yatak bulunuyor.\\n\\nAntalya\\'da kültür turizminin ağırlıklı olarak yapılacağı yerler Antalya\\'nın batıdaki Kaş\\'tan doğudaki Gazipaşa\\'ya kadar uzayan kıyı şeridinin çeşitli yerleridir. Bu bölgede onlarca antik kent, tarihi yapı, tarihi cami ve kiliseler bulunmaktadır. Antalya\\'da deniz turizmi de yine kıyı şeridi boyunca yapılmaktadır. Bu bölgede kıyı turizmiyle beraber deniz turları da yapılabilmektedir. Deniz turizminin en bilinen noktaları Kleopatra, Konyaaltı ve Lara plajlarıdır.Spor turizmi bakımından Antalya popüler sporlara ev sahipliği yapan bir ildir. Başta futbol, tenis ve golf olmak üzere her yıl yüzlerce sporcu ve takım Antalya\\'yı tercih etmektedir. Antalya, bu sporların tesislerine sahip olduğu gibi sporculara ve yetkililerine verilen seminerlere de ev sahipliği yapmaktadır. Antalya, 2009-2010 döneminde judo, halter, eskrim, voleybol, badminton ve benzeri pek çok alanda 39\\'u uluslararası, 66\\'sı ulusal, 27\\'si millî takım kampı ve 45’i kurs ve seminer olmak üzere toplam 177 etkinliğe ev sahipliği yapmıştır. Ayrıca Antalya 2003-2008 yılları arasında Dünya Ralli Şampiyonası\\'na ev sahipliği yapmıştır.Antalya yaz turizmiyle öne çıksa da kış turizminde de ülkenin önde gelen illerindendir. Antalya\\'daki Saklıkent Kayak Merkezi ve Alanya\\'daki Akdağ Kış Sporları Turizm Merkezi Antalya\\'yı kış turizminde önde tutan tesislerdir.Kongre turizmi bakımından Antalya ulaşımın kolaylığı ve ulaşım imkânlarının çeşitliliği pek çok turizm ve dinlenme imkânı sunması ve toplamda 106.000 koltuğu aşan bir kapasitesi ile dünyanın her tarafından gelecek konuklar için önemli toplantıların yapılabileceği olanağa da sahiptir.2016 yılında Antalya\\'da düzenlenen olan Çiçek ve Çocuk temalı Expo 2016 Antalya organizasyonuyla kent, fuar turizmiyle de tanışmıştır.\\n\\nDar bir alanda hem denize hem de büyük yükseklikteki dağlara sahip olan Antalya\\'da yayla turizmi de Finike\\'den başlayarak Alanya\\'ya kadar uzanan coğrafyanın yüksek yerlerinde yapılabilmektedir. Ayrıca Torosların eteğinde kurulan Antalya\\'nın dağları ana iskelet bakımından genellikle kireç taşlarından (kalkerlerden) oluşmuştur. İldeki mağaraların büyük çoğunluğu da bu kireç taşı formasyonları içinde gelişmiştir. Antalya’da yaklaşık 500 kadar mağara tespit edilmiştir. Antalya da mağara turizmi de yapılabilmektedir. Antalya\\'da turizme açılan 3, turizme açılmayı bekleyen ya da yerel olanaklarla açılmış olan 28 tane mağara vardır.Antalya\\'da inanç turizmi gelişme gösteren bir turizm koludur. Antalya\\'da özellikle Selçuklu döneminden pek çok cami vardır. Bunlardan Murat Paşa Camii ve Yivli Minare Camii en çok bilinen camilerdir. Antalya\\'nın batısındaki Demre\\'de Noel Baba Kilisesi; doğudaki Alanya\\'daysa 1400 yıllık Aya Yorgi Kilisesi bulunmaktadır. Bunun dışında Serik\\'e bağlı turizm merkezi Belek, Serik\\'te 2004\\'te özel bir girişimle Dinler Bahçesi isimli ibadethane açılmıştır. Kudüs\\'ten sonra üç dinin buluştuğu ikinci nokta olan bu bahçede üç semavi dinin (Hristiyanlık, İslam ve Musevilik) ibadethaneleri yan yana mevcuttur.\\n\\n\\n== Spor ==\\n\\nİl sınırları içinde 197 adet tescilli spor kulübü  ve 7.443\\'ü aktif 58.395 sporcu bulunmaktadır. Bu kulüplerde futbol, basketbol, hentbol, voleybol, atletizm, güreş, judo, karate, tekvando, tenis, masa tenisi, sutopu ve yüzme başta olmak üzere birçok spor dalında faaliyet yapılmaktadır.\\nFutbolda Akrepler takma ismini kullanan Antalyaspor, şehri Türk futbolunda en üst düzeyde temsil etmektedir. Antalyaspor, 2021-22 sezonu Süper Lig\\'deki 26. sezonu olan kırmızı beyazlı takım, karşılaşmalarını 33.032 kişilik Antalya Stadyumu\\'nda oynamaktadır.Antalyaspor, Süper Lig\\'de hiç şampiyon olamadı ve en iyi sezonunu 2016-17 yılında 58 puanla 5. olarak yaşadı. 1999-00 sezonunda Galatasaray ile 2020-21 sezonunda da Beşiktaş ile Türkiye Kupası finalleri oynadı ve oynadığı 2 finali de kaybetti. Türkiye Süper Kupası\\'nda ise tarihinde ilk kez 2021 Türkiye Süper Kupası oynadı ve rakibi Beşiktaş\\'a normal ve uzatma süreleri 1-1 biten maçta seri penaltılar sonucu 4-2 mağlup oldu ve kupayı kaybetti . Avrupa kupalarındaki en iyi başarısı ise 2000-01 sezonunda UEFA Kupası\\'nda 1. tur\\'dur.İlin diğer profesyonel futbol takımlarından Alanyaspor da 2015-16 yılını 1. Lig play-off şampiyonu olarak tamamlayıp 2016-17 sezonunda ilk kez Süper Lig\\'de mücadele etme hakkı kazanmasıyla Antalya ilk kez bir Süper Lig sezonunda iki takımla temsil edilmiştir.\\n2018-2019 Sezonu sonunda, Futbol süper ligde Antalyaspor 7. Alanyaspor 9.su oldular. Antalya\\'nın diğer profesyonel takımları Antalya Kemerspor ve Serik Belediyespor ise 3. Lig\\'de yer almaktadır. Ziraat Türkiye Kupası\\'nda Antalya Kemerspor ve Serik Belediyespor 3.turda elenmişlerdir. Son 16 turunda Antalyaspor, Göztepe\\'ye, Alanyaspor ise Kasımpaşa\\'ya elenmişlerdir.\\nBasketbolda Antalyaspor 2016-17 sezonu itibarı ile profesyonel liglere dönerek ve kenti Türkiye Basketbol 1. Ligi\\'nde temsil etmektedir. Ayrıca, Antalya Büyükşehir Belediyesi Basketbol Kulübü 2006/07 sezonunda Türkiye Basketbol 2. Ligi\\'ni şampiyon bitirip, Beko Basketbol Ligi\\'ne yükselmesiyle beraber kentte basketbola olan ilgi arttı. 2008-2010 yıllarında şehrin diğer takımı Kepez Belediyespor da Beko Basketbol Ligi\\'nde mücadele etti. Ancak 2009-10 sezonunda Kepez Belediyespor\\'un Antalya Büyükşehir Belediyespor\\'un da 2012-13 sezonunda ligden düşmüştü.\\nŞehrin tek tekerlekli sandalye basketbol takımı Antalya Büyükşehir Belediyesi Basketbol Kulübü\\'de Tekerlekli Sandalye Basketbol Süper Lig\\'de uzun seneler mücadele etmiş ve 2015 itibarı ile kapanmıştır.\\nAntalya merkezli hentbol kulüpleri Muratpaşa Belediyesi Kadın Hentbol Takımı ve Antalyaspor profesyonel liglerde kenti Süper Lig\\'de temsil etmektedirler.\\nMuratpaşa Belediye Kadın Hentbol Takımı, 2012 yılında ilk Süper Lig, Türkiye Kupası ve Süper Kupa şampiyonluğunu kazanmıştır. Mücadelesini Türkiye Kadınlar Hentbol Süper Ligi\\'nde sürdürmektedir. 2017-2018 Süper lig şampiyonu olmuştur. İlin diğer kadın hentbol takımı Gazi Gençlik Spor 2. Ligdedir.\\nAntalyaspor Hentbol Takımı, Antalyaspor\\'un Türkiye Erkekler Hentbol Süper Ligi\\'nde mücadele eden hentbol takımıdır. Kulüp yönetimi, 2012 Ağustos\\'unda erkek hentbol takımını bünyesinde açmaya karar verdi. Türkiye Hentbol Federasyonu\\'nun da daha önce almış olduğu \"profesyonel futbol takımı erkekler Süper Lig\\'inde mücadele etmiş takımlar doğrudan Türkiye Erkekler Hentbol Süper Ligi\\'nde mücadeleye hak kazanır\" maddesinden yararlanarak Türkiye Hentbol Federasyonu\\'na başvuru da bulundu Türkiye Erkekler Hentbol Süper Ligi\\'ne kabul edildi. Takım 2012-2013 sezonundan bu yana Hentbol Süper Ligi\\'nde mücadele etmektedir. Antalyaspor yönetimi, Antalyaspor futbol takımı maçlarını Akdeniz Üniversitesi Stadyumu\\'nda oynadığı dönemde Akdeniz Üniversitesi yönetimi ile bir dostluk köprüsü kurdu ve hentbol takımının maçlarını da Akdeniz Üniversitesi BESYO Spor Salonu\\'nda oynamasına dair karar alındı. 2011-2012 sezonunda Türkiye Erkekler Hentbol Süper Ligi\\'nden küme düşen Akdeniz Üniversitesi Erkek Hentbol Takımı da Antalyaspor\\'la birleşti.\\n2018-19 sezonu sonunda Basketbol Kadınlar 1. Liginde Akdeniz Üniversitesi lig 6.sı, Voleybol erkekler 1. Liginde Alanyaspor lig 5.si, Hentbol Kadınlar 1. Liginde Gazi Gençlik Spor lig 9.su olmuştur.\\nAntalyaspor kadın-erkek masa tenisi takımları ise Türkiye Masa Tenisi 1.Ligi\\'nde mücadelesini sürdürmektedirler.Sutopu dalında Antalyaspor erkek sutopu takımı Türkiye Sutopu Ligi\\'inde mücadele ediyor. Antalyaspor, 1970 ve 80\\'lerde mücadele ettiği sutopu branşına 2010 yılının yaz başında geri döndü. Yaş ortalaması 45 olmasına rağmen yeni kurulan tüm kulüpler gibi açık kümeden başlayan ve 24 yıl aradan sonra İzmir\\'deki lig elemesine katılıp 18 takım içerisinden 4. olan takım, 2011 yılında ise tekrar katıldığı açık kümede sırasıyla tüm rakiplerine karşı yenilgi alamdan Sutopu Büyük Erkekler 2. Ligi\\'ne yükseldi.\\nTakım, 2012 sezonunun yaz aylarında oynanan müsabakaları tek mağlubiyet alarak şampiyon olarak tamamlamış ve 2. Ligden, Türkiye Deplasmanlı Sutopu 1. Ligi\\'ne yükselmeyi başardı. Ancak Antalyaspor Sutopu Takımının antrenman ve sutopu karşılaşmaları için sahası bulunmuyor.\\n\\nTürkiye\\'de yağlı güreşin yarışma biçiminde düzenlenen en üst seviyesi Kırkpınar Yağlı Güreşleri\\'nde Antalyalı pehlivanlar özellikle Recep Gürbüz\\'ün 1988 yılındaki başpehlivanlığı kazanmasının ardından bu yana hemen her yıl ilk üçe girdiler. 1987\\'de Recep Gürbüz\\'ün üçüncülüğünden, 2016\\'daki turnuvaya kadar geçen 29 yılın 18\\'inde en az bir Antalyalı pehlivan ilk üçe girdi. Ayrıca bu süre zarfında 29 kez Antalyalı pehlivanlar podyumun ilk üç basamağından en az birinde kendine yer buldular.Kırkpınar Yağlı Güreşleri\\'ni 2002 yılında Hasan Tuna, 2006 yılında Osman Aynur(en kısa sürede biten Kırkpınar finali 6. Dakikada Recep Karayı yendi.), 2009 ve 2010 başpehlivanı Mehmet Yeşil Yeşil, 2011-2012 yıllarında altın kemeri alan Ali Gürbüz  2013 yılında İsmail Balaban ve 2015 yılında Orhan Okulu Antalya\\'ya şampiyonluk getirdiler.Kırkpınar\\'dan daha eski bir geçmişe sahip olan ve 2016 Eylül\\'ünde 664.\\'sü düzenlenen Tarihi Elmalı Yeşilyayla Yağlı Pehlivan Güreşleri de her sene Antalya\\'nın Elmalı ilçesinde düzenlenir.Bütün bunların yanında Antalya Gençlik ve Spor İl Müdürlüğü, il çapında çeşitli amatör spor faaliyetleri düzenler. Bunlar, atletizm, basketbol, voleybol, golf, güreş, futbol, judo, tekvando, hentbol, tenis, okçuluk, yüzme  gibi dallar için çeşitli tesisler çoğunlukla il merkezindedir. Saklıkent\\'te kayak tesisleri, diğer ilçelerde de çeşitli spor salonları ve tesisleri bulunmaktadır.Türkiye\\'nin 10. hipodromu olan Antalya Hipodromu \\u200bkentteki önemli yarışlara ev sahipliği yapmaktadır.\\n\\n\\n=== Antalya\\'da düzenlenmiş spor etkinlikleri ===\\nBugüne kadar Antalya\\'da ulusal ve uluslararası pek çok spor organizasyonunun karşılaşmaları düzenlenmiştir.\\n\\n2001 yılında 32. Avrupa Erkekler Basketbol Şampiyonası Türkiye\\'de düzenlendi. Türkiye organizasyona İstanbul, Ankara ve Antalya\\'daki spor salonlarıyla ev sahipliği yaptı. Turnuva boyunca yapılan 36 karşılaşmanın grup aşamasındaki 12; eleme aşamasındaki 2 karşılaşmaya Antalya\\'daki Anfaş Expo Center evsahipliği yaptı. Ayrıca turnuvanın açılış gösterisi de Antalya\\'daki tarihi Aspendos tiyatrosunda yapıldı.\\nTürkiye Futbol Federasyonu 11 Nisan 2003 tarihinde aldığı kararla 2002-03 sezonu Türkiye Kupası finalinin Antalya Atatürk Stadı\\'nda oynanmasına karar verdi. Kupa finaline çıkan Trabzonspor ile Gençlerbirliği arasında 23 Nisan 2003\\'te oynanan karşılaşmayı Trabzonspor 3-1 kazanarak, Türkiye Kupası\\'nı altıncı kez müzesine götürdü.\\nİlk olarak 2001-2002 sezonunda İsviçre\\'de gerçekleştirilen Avrupa 17 Yaş Altı Futbol Şampiyonası\\'na 4-16 Mayıs 2008 tarihleri arasında Antalya ev sahipliği yaptı. Turnuva boyunca 3 stadyumda oynanan 15 karşılaşma sonunda İspanya şampiyon olurken, ev sahibi ülke Türkiye yarı finalde elendi.\\n6 Haziran 2009\\'da Uluslararası Hentbol Federasyonu\\'nun aldığı kararla 2010 Dünya Plaj Hentbol Şampiyonası Antalya\\'da düzenlendi. Hem erkekler hem de bayanlarda düzenlenen dünya şampiyonalarının karşılaşmaları Lara plajında yapıldı. Erkeklerde Brezilya, bayanlarda Norveç turnuvalarını şampiyon tamamladılar. Ev sahibi ülke Türkiye erkeklerde bronz madalya; kadınlarda ise beşincilik elde etti.\\n1997-1998 sezonunda düzenlenmeye başlanan Avrupa Kadınlar 19 Yaş Altı Futbol Şampiyonası\\'nın onbeşinci turnuvası UEFA\\'nın Ekim 2010\\'da aldığı kararla 2-14 Haziran 2012\\'de Antalya\\'da düzenlendi. 8 takımın katıldığı turnuva boyunca 4 stadyumda 15 karşılaşma oynandı. İsveç, turnuvayı şampiyon tamamladı. Bu şampiyonaya ilk kez katılan ev sahibi ülke Türkiye ise grup aşamasında aldığı 1 puanla turnuvadan elendi.\\n1977 yılında FIFA Dünya Gençler Şampiyonası adı ile başlayan organizasyonun 19. ayağı olan ve 21 Haziran ile 13 Temmuz 2013 tarihleri arasında Türkiye\\'de düzenlenen 2013 FIFA 20 Yaş Altı Dünya Kupası\\'nda oynanan 52 karşılaşmanın 7\\'si Antalya Akdeniz Üniversitesi Stadyumu\\'nda oynandı. Turnuvayı Fransa şampiyon tamamlarken, Türkiye çeyrek finalde şampiyon Fransa\\'ya 4-1 kaybederek turnuvayı ilk 8 içinde tamamladı.\\nTürkiye Futbol Federasyonu 29 Temmuz 2015 tarihinde aldığı kararla 2015-16 sezonu Türkiye Kupası finalinin Antalya Stadyumu\\'nda oynanmasına karar verdi. Kupa finaline çıkan Galatasaray ile Fenerbahçe arasında 26 Mayıs 2016\\'da oynanan karşılaşmayı Galatasaray 1-0 kazanarak, Türkiye Kupası\\'nı on yedinci kez müzesine götürdü.\\n\\n\\n== Yönetim ==\\n2018\\'de Yüksek Seçim Kurulu, en son nüfus verilerine dayanarak 2018 seçimleri için Antalya\\'nın çıkaracağı milletvekili sayısını 14\\'ten 16\\'e yükseltmiştir.\\n\\n\\n=== TBMM\\'de Antalya ili ===\\n\\nAntalya\\'nın 2014 Türkiye genel seçimleri\\'nde 14 olan milletvekili sayısı 2018 Türkiye genel seçimleri öncesi Yüksek Seçim Kurulu tarafından 16\\'ya çıkarılmıştı. 2018 milletvekili seçimlerinde Antalya\\'da Adalet ve Kalkınma Partisi %34,96\\'lık oy oranıyla 6 milletvekili; Cumhuriyet Halk Partisi %29,16\\'lük oy oranıyla 5 milletvekili ve Milliyetçi Hareket Partisi %10,12\\'lik oy oranıyla 1 milletvekili, İYİ Parti %16,91 ile 3 milletvekili, Halkların Demokratik Partisi %7,33 ile 1 milletvekili çıkarmaya hak kazandı.\\n\\n\\n=== İdari bölünüş ===\\n\\n2013 yılında TBMM\\'de kabul edilen yeni Büyükşehir Belediyeleri kanunu ile Antalya iline bağlı 19 ilçe ve bu ilçe belediyeleri Antalya Büyükşehir Belediyesi\\'ne bağlanmış olup Antalya Büyükşehir Belediyesi\\'nin hizmet alanı tüm ilin mülki sınırlarını kapsamıştır. Aynı yasa  ile Antalya tüm belde belediyeleri kapatılmış tüm köyler gibi bağlı oldukları ilçe belediyelerine birer mahalle olarak katılmışlardır.2019 Türkiye yerel seçimleri\\'ne göre ildeki ilçeler beş değişik parti tarafından yönetilmektedir. Bu ilçelerden dokuzu Cumhuriyet Halk Partisi tarafından yönetilmektedir. Yine 2019 seçimlerine göre altı ilçe Adalet ve Kalkınma Partisi tarafından yönetilmektedir. Milliyetçi Hareket Partisi iki ilçe, İYİ Parti iki ilçe ve Demokratik Sol Parti bir ilçe yönetmektedir. Antalya Büyükşehir Belediyesi ise CHP\\'li başkan Muhittin Böcek tarafından yönetilmektedir.\\n\\n\\n=== Adalet ===\\nAntalya\\'da yakın döneme kadar adliye hizmetleri, hâlen depreme dayanıklı olmadığı gerekçesiyle boşaltılan Cumhuriyet Caddesi’ndeki eski Özel İdare binasında yürütülmüş, nüfusun turizmle birlikte hızla artması ile 1993 yılında idari yargı dışındaki tüm adliye birimleri şu andaki Antalyaspor Tesisleri’nin kuzey bitişiğinde bulunan binaya taşınmıştır. Bu adliye binasının da zamanla fiziki olarak hizmete cevap vermekte zorlanması ile yine Dumlupınar Bulvarı üzeri Meltem Mahallesi’nde bulunan (Akdeniz Üniversitesi\\'nin doğu karşısı) Karayolları arsası üzerine yapımına 2006 yılında başlanılıp 2008 yılında hizmete girmesi ile eski binanın yaklaşık 4 katı büyüklüğünde bir binaya geçiş yapılmıştır bu sebeple Antalya’nın uzun bir süre bina sıkıntısı yaşamaması beklenmektedir.\\nAntalya il sınırları içerisinde hâlen 4 tane Ağır Ceza Merkezi bulunmaktadır; \\n\\nAntalya Ağır Ceza Merkezine; Kemer ve Korkuteli ilçeleri,\\nAlanya Ağır Ceza Merkezine;, İbradı, Gündoğmuş ilçeleri,\\nElmalı Ağır Ceza Merkezine ise Kumluca, Finike, Kaş,\\nManavgat Ağır ceza Merkezine; Akseki, Serikilçeleri bağlı olarak hizmet verilmektedir.\\n\\nAntalya Ağır Ceza Merkezinde Cumhuriyet Başsavcılığı teşkilatında hâlen 1 Cumhuriyet Başsavcısı, 6 Cumhuriyet Başsavcı Vekili, 103 Cumhuriyet Savcısı görev yapmakta, Antalya Adalet Komisyon Başkanlığı bünyesinde ise; 11 Ağır Ceza Mahkemesi, 35 Asliye Ceza Mahkemesi, 6 Sulh Ceza Mahkemesi, 4 Asliye Ticaret Mahkemesi, 3 Tüketici Mahkemesi, 8 Asliye Hukuk Mahkemesi, 12 Aile Mahkemesi, 3 Sulh Hukuk Mahkemesi, 4 İcra Mahkemesi, 8 İş Mahkemesi, 1 Kadastro Mahkemesi bulunmakta, bu mahkemelerde toplam olarak 156 yargıç görev yapmaktadır.Antalya\\'nın en büyük cezaevi, Kepez ilçesinde Antalya E Tipi Kapalı Cezaevi ve Antalya Açık Cezaevi olarak hizmet vermeye devam etmektedir. Döşemealtı ilçe sınırları içerisinde yapılan L Tipi Cezaevi de 2007 yılı Eylül ayında hizmete girmiş bulunmaktadır.\\nAntalya Cumhuriyet Başsavcılığı bünyesinde 2018 yılında soruşturma konusu yapılan 107.807 adet başvuru yapıldığı, Antalya’nın sürekli göç alan ve hızla kentleşen yapısına turizm bölgesi olma özelliğinin de eklenmesi ile her sene suç oranlarında % 10’a yaklaşan bir artış meydana geldiği görülmektedir.\\n\\n\\n=== Maliye ===\\nMaliye Bakanlığı’nın gelir ve gideri ayrı birimler altında şekillendirmesi ile Antalya\\'da da maliye, özet olarak gelirle ilgili olarak Vergi Dairesi Başkanlığı, gider ve Hazine ilgili olarak da Defterdarlık adı ile yeniden teşkilatlanmış bulunmaktadır.\\n\\n\\n=== Merkezi Yönetim ===\\nBüyükşehir illerinde Merkezi yönetim Vali, İl Müdürleri ve İl Danışma Kurulundan oluşur. Büyükşehir yapılan illerde, İl Genel Meclisi, yetki ve görevlerini 2014\\'te Büyükşehir Belediye Meclisi\\'ne devretmiş ve kaldırılmıştır.\\nAntalya, bir ‘büyükşehir’dir. Bu özelliğine göre yönetimi belirlenmiştir. Protokolde ilk sırada yer alan Vali, merkezi yönetimi temsil eder ve Cumhurbaşkanı tarafından atanır. Antalya Valisi Ersin Yazıcı, 10 Haziran 2020 tarihinde Balıkesir Valisi iken atanmıştır Vali ve Kaymakamlara ait bilgiler Antalya\\'nın ilçeleri sayfasında gösterilmiştir.\\n\\n\\n=== Yerel yönetim ===\\n\\nBüyükşehir belediyelerinde yerel yönetim, Büyükşehir Belediye Başkanı, Büyükşehir Belediye Meclisi ve Büyükşehir Belediye Encümeni\\'nden oluşur.\\nYerel yönetimi temsil eden Büyükşehir Belediye Başkanı, ildeki tüm seçmenlerin oy çokluğu ile seçilir. Yerel seçimlerde İlçe Belediye Başkanı ve İlçe Belediye Meclisi için de oy kullanılarak ilçelerin belediye meclisleri oluşur. İlçe Belediye meclislerinden alınan üyelerle (başkan kontenjanı, ilçe nüfusu ve parti oy oranına göre) de Büyükşehir Belediye Meclisi oluşur. Bu mecliste ilçe belediye başkanları da yer alır. Meclisin başkanı Büyükşehir Belediye Başkanı\\'dır.\\nBüyükşehir belediye encümeni, belediye başkanının başkanlığında, belediye meclisinin kendi üyeleri arasından bir yıl için gizli oyla seçeceği beş üye ile biri genel sekreter, biri malî hizmetler birim amiri olmak üzere belediye başkanının her yıl birim amirleri arasından seçeceği beş üyeden oluşur.(5216 saylı kanun 16.madde)\\nBüyükşehir yapılan illerde, İl Genel Meclisi, yetki ve görevlerini Büyükşehir Belediye Meclisi’ne devretmiş ve kaldırılmıştır.Antalya Büyükşehir Belediye Başkanı, 1962-Konyaaltı doğumlu Muhittin Böcek (CHP), 31 Mart 2019 seçimlerinde %50,62 oy oranıyla seçilmiştir.Antalya Büyükşehir Belediye Meclisi üye sayısı 107’dir (Büyükşehir Belediye Başkanı, 19 ilçe belediye başkanı ve 87 üye). CHP 37, AK Parti 34, İYİ Parti 16, MHP 15, DSP 4 ve SP 1 üyeye sahiptir.Büyükşehir ve ilçe belediye başkanlarına ait bilgiler Antalya\\'nın ilçeleri sayfasında gösterilmiştir.\\n\\n\\n== Eğitim ==\\n\\nEğitim ve öğretim açısından Türkiye\\'nin önemli merkezlerinden biri olan Antalya\\'da 595 tane okul öncesi eğitim kurumu (21.921 öğrenci), 681 tane ilk (249.662 öğrenci), 190 tane orta dereceli (84.525 öğrenci) eğitim veren okul vardır. Ayrıca Antalya\\'da bir devlet üniversitesi Akdeniz Üniversitesi, bir özel üniversite Antalya Bilim Üniversitesi ve Kültürlerarası Diyalog Merkezi mevcuttur. Bu üniversitelerde il genelinden öğrencilere eğitim verildiği gibi, il dışından ve öğrenci değişim programları ile yurtdışından gelen öğrencilere de eğitim verilmektedir.2011 yılı üniversiteye yerleşme basamaları olan Yükseköğrenime Geçiş Sınavı (YGS) ile Lisans Yerleştirme Sınavı\\'na (LYS) başvuran 38618 kişiden 19803\\'si ya da diğer bir deyişle %51,27\\'si sınavda başarılı oldu. Bu kişilerden 9616\\'sı lisans programına, 4063\\'ü açık öğretim fakültelerine, 3549\\'u YGS\\'yle yerleşilebilen bölümlere, 2575 kişi de sınıvsız programalara gitme hakkı elde etti.Ayrıca Antalya\\'nın 15 yaş ve üzeri nüfusunun %6,73\\'ü üniversite mezunu, %2,8\\'si yüksek lisans mezunu, %0,06\\'sı ise doktora mezunudur.İldeki okullaşma oranı; okul öncesinde %23, ilköğretimde %99,8, ortaöğretimde %80, genel lisede %62, mesleki ve teknik lisede %38\\'dir.\\n\\n\\n=== Üniversiteler ===\\nAntalya\\'da yer alan ve eğitim veren üniversite sayısı 2015 sonu itibarıyla beştir.\\nAşağıda Antalya\\'da yer alan üniversiteler listelenmiştir.\\n\\n\\n=== Teknoloji ve bilim ===\\nAntalya, 2000\\'li yıllarla birlikte teknoloji alanında gelişme göstermiştir. Akdeniz Üniversitesi\\'ndeki, bilim parkı, TÜBİTAK\\'ın gözlemevi, çeşitli kurumların Ar-Ge birimleri ve pek çok konuda araştırma yapmaktadır. Antalya ili, 2011\\'de yapılan 54 patent başvurusu ile, bu alanda Türkiye\\'de 11. durumdadır.Antalya\\'da Akdeniz Üniversitesi\\'ne bağlı 1 tane bilim parkı vardır. 2008 yılında açılan bilim parkı kısa zamanda yaptığı anlaşmalarla uluslararası alanda pek çok ortak kazandı. Ayrıca 2011\\'de Akdeniz Üniversitesi Rektörü yönetim kuruluyla gerçekleştirilen toplantıda, çatı bir şirket olarak kurulan Antalya Sanayi Teknolojileri Yazılım Ar-Ge Danışmanlık Çevre ve Enerji Sanayi ve Ticaret Anonim Şirketi’nin kurulduktan kısa bir süre sonra yurt dışındaki irtibat ofisini Silikon Vadisi\\'nde açtı ve dünyanın en büyük teknoloji bölgesinin bir parçası oldu.Antalya\\'dan yapılan bilimsel yayın sayısı (1981-2006 dönemi için) tüm Türkiye\\'den yapılan yayın sayısının %1,66\\'sı ile (2 bin 978 yayın) Türkiye\\'de iller arasında onuncu sıradadır.\\n\\n\\n== Medya ==\\nAntalya ilinde gazetecilik faaliyetleri Osmanlı Devleti\\'nin son dönemine rastlar. 1920 yılında Haydar Rüştü Öktem\\'in, “Antalya’da Anadolu” isimli gazeteyi yayınlaması ile Antalya\\'da gazetecilik hayatı başlamıştır. Bu gazete, Millî Mücadele süresince önemli görevler yerine getirmiştir. Antalya’nın merkezinde, “Antalya’da Anadolu” gazetesini, daha birçok gazete ve derginin yayını takip etmiştir.\\nTelevizyon yayınları da ağırlıklı olarak yerel ölçektedir. Bugün ilde Kanal V ve Lider Haber sürekli yerel televizyon yayını yapmaktadır. Geçmişte yayın yapan TV kanalları arasında ETV, Kanal 07, Tim TV ve Akdeniz Radyo Televizyonu vardır.\\nAntalya ilinde yerel basın oldukça gelişmiştir, Antalya\\'da sürekli yayın yapan 36 yerel gazete vardır. Yerel gazetecilikle ilgili iki meslek kuruluşu vardır: Antalya Gazeteciler Cemiyeti, Antalya Gazeteciler Derneği.\\n\\n\\n== Altyapı ==\\n\\n\\n=== Ulaşım ===\\n\\nİl içinde karayolu, denizyolu ve havayolu ile ulaşım yapılmaktadır. Ayrıca Antalya\\'daki toplu taşımacılık sistemi şehir nüfusunun ulaşım ihtiyacını karşılar. Ayrıca, nüfus başına motorlu taşıt sayısında 100 kişiye 11,5 otomobil ile Türkiye\\'nin altıncı ilidir.\\nİl merkezinin doğusunda yer alan Antalya Havalimanı havayolu ile giriş çıkışı sağlayan en önemli noktadır. Antalya Havalimanı\\'ndan Türkiye\\'nin hemen her iline, ayrıca Avrupa ve Orta Doğu\\'nun çeşitli şehirlerine uçmak mümkündür. Antalya\\'da askeri amaçlı kullanılan 1 tane  havalimanı vardır.\\n\\n\\n==== Karayolu ulaşımı ====\\nAntalya\\'da otoyol yoktur. İl sınırları içinden merkeze gelen yollar tamamen devlet yollarıdır ve toplam uzunlukları 974 km\\'yi bulmaktadır. Bunlardan D 350 (Avrupa E-yolları sistemine göre E 87), Antalya\\'yı İzmir, Ege Bölgesi ve Trakya\\'ya bağlar, D 400 ise Antalya\\'nın güneyindeki Akdeniz\\'le paralel olarak ilerler Muğla ili sınırından Mersin ili sınırına kadar sürer.\\nİl içindeki diğer devlet yollarının hemen hepsi Antalya şehrine bağlıdır. Ankara şehrini diğer şehirlere bağlayan karayolları arasında D 650 yolu Karadeniz kıyısındaki Sakarya ilinin Karasu ilçesinden başlayarak Bursa ve Eskişehir sınırlarından geçerek Kütahya\\'ya oradan Afyonkarahisar\\'a, daha sonra da Burdur ilinden geçerek Antalya şehri\\'ne bağlanır. D 685 Antalya - Isparta bağlantısını sağlar.  D 687 Antalya - Konya arası ulaşımın Beyşehir\\'e kadar olan kısmını oluşturur. İl sınırı içindeki başka bir devlet yolu olan D 635 de kuzeyde Burdur ilinin beldesi Kızılkaya, Bucak\\'tan başlayıp Korkuteli ve Elmalı\\'dan geçerek Finike\\'de D 400 ile bağlanarak son bulur.\\nİl sınırları içinde, toplam uzunluğu 850 km\\'yi bulan il yolları;\\n\\nİl içinde ilçeler arası ulaşımı sağlayan birçok otobüs firması hizmet vermektedir. İl merkezinde bulunan Antalya Otobüs Terminali şehir merkeziyle il içinde ve dışındaki bağlantıların sağlandığı merkezdir. Otobüs Terminali\\'nin şehrin hafif raylı sistemi Antray\\'ın Otogar durağı ile bağlantısı vardır.\\n\\n\\n==== Kentlerde toplu taşımacılık ====\\n\\nİl merkezinde kent içi toplu ulaşımda yolcu bazında en çok karayolu tercih edilir. İlde bu hizmeti Antalya Büyükşehir Belediyesi\\'nin ulaşım birimi kırmızı otobüsler, halk otobüsleri ve minibüslerle sağlar.\\nAntalya merkezinde 1999\\'da Müze-Zerdalilik hattında hizmet veren Nostaljik Tramvay\\'la, 2009\\'da Fatih-Meydan hattında çalışmaya başlayan Antray şehir içindeki hafif bir raylı sistemlerdir. Aksu\\'da yapılan Expo 2016 nedeniyle Fatih-Meydan hattı, Antalya Havalimanı\\'nı da içine alacak şekilde uzatılarak Fatih-EXPO ve Fatih-Havalimanı hatları oluşturulmuş, toplam 16 olan durak sayısı 31\\'e yükselmiştir.Antalya\\'da 2012 yılında hizmete başlayan Antalya Deniz Otobüsü sistemiyle, Antalya Yat Limanı-Kemer Yat Limanı arasında haftasonları karşılıklı üçer seferle yolcu taşınır.Antalya\\'ya ilin ilçe ve beldelerinden, ayrıca Burdur ve Isparta merkez ve ilçelerinden karşılıklı günlük otobüs seferleri düzenlenir.\\n\\n\\n==== Demiryolu ====\\nAntalya, Bursa\\'dan sonra demiryolu hattı olmayan, nüfusu en yüksek ikinci büyükşehir\\'dir. Bu durumun temel sebebi, Antalya\\'nın iç kesimlerle bağlantısındaki coğrafi engellerdir. Antalya\\'nın kuzey ve batısını saran Toros dağları, hem karayolu hem de demiryolu çalışmalarını kısıtlamakla beraber, yapılan yatırımlar için gerekli maliyeti arttırmaktadır.\\nAntalya için düşünülen ilk demiryolu projesi Antalya - Afyon Demiryolu Projesi\\'dir. İlk olarak 1919 yılında bölgeyi işgal eden İtalyanların düşündüğü ve yapımı için Osmanlı Devleti\\'nden ayrıcalık edinmeye çalıştıkları Burdur-Antalya demiryolu projesini İngilizler de Afyonkarahisar-Antalya hattında gerçekleştirme planlarını yapıyorlardı. Ama bu girişimler sonuçsuz kaldı.\\nAfyon-Antalya Demiryolu hattı projesinin yeniden ele alınması ulusal mücadele hareketinin başarıya ulaşması ve Ankara’da kurulan TBMM Hükümeti\\'nin yönetimi ele almasından sonra 1923 yılında gündeme geldi. Ağustos 1923\\'te hazırlanan Türkiye Devleti Nafia Vekaleti, Umur-ı Nafia Programında öncelik demiryollarına verildi.\\n\\nBu programda 3. grupta 13 yola yer verildi. Bu yollardan biri Antalya-Aziziye-Bahadır-Karakuyu-Afyon hattının inşası ihtiyaç duyulan demiryolu hatları olarak belirlendi. Aynı zamanda limanlar demiryolu programının bir uzantısı olarak ele alındı ve programın ikinci aşamasında Antalya Limanı’nın yapılması planlandı. Ancak bu planlar yapıldığında Türkiye\\'de cumhuriyet henüz ilan edilmemişti ve yönetimin yasal gücü sınırlıydı. Bu yüzden konuyla ilgili çalışmalar 1927\\'ye kadar ertelendi. Bu dönemde işi üstlenmesi planlanan Aydın Demiryolu Şirketi projeyi kendi yararına bulmayınca Afyon-Antalya demiryolu projesinin çalışmaları 1933\\'e kaldı.\\nProje, TBMM’de 4 Mart 1933 tarihinde “Afyon Karahisar-Antalya demiryolunun inşası” konusu İcra Vekilleri Heyeti’nin toplantısında görüşülerek meclise sunulması kararlaştırıldı ve Başbakan İsmet İnönü tarafından Türkiye Büyük Millet Meclisi Başkanlığı’na arz sunuldu. Bu kanunla ilgili milletvekilleri de görüşlerini genel kurula sundular. 1 Nisan 1933 tarihinde TBMM Meclis Genel Kurulu’ndaki oylamaya katılan 195 vekilin oy birliğiyle kabul edildi ve kanun tasarısı yasalaştı.\\nKanun 4 Nisan 1933 tarihinde resmi gazetede yayınlandı. Kanunda Afyonkarahisar’dan başlayarak Antalya\\'ya ve en çok 4 senede tamamlanması istenilen demiryolu inşası için 25 milyon TL\\'nin harcanmasına ve gelecek seneler içinde resmi sözleşme yapılması için gerekli izin bu kanun tarafından verildi.\\nBu demiryolu hattının temel atma töreni 28 Ağustos 1934 günü Afyon, Burdur, Isparta ve Antalya halkı ve yetkililerinin kutlamalarıya yapıldı. Bayındırlık Müsteşarı Arif Bey\\'in başkanlık ettiği bu törene Antalya milletvekilleri Rasih, Numan ve Haydar Bey\\'ler de katıldılar.Çalışmaları başlanan hat çeşitli zorluklara ve bu zorlukları aşmak için çıkan kararnamelere birlikte Ekim 1936\\'da Burdur istasyonuna ulaştı ve böylece hattın 136 km\\'lik kısmı tamamlandı. Hattın Burdur\\'dan Korkuteli\\'ye doğru yapılacak olan 108 km\\'lik bölümü için 4 yıl süre ve 8 milyon TL kadar değer biçildi. Maliye Bakanlığı, Burdur-Korkuteli hattının inşası için yeni bir ödenek ayıramayacağını bildirdi ve kanun tasarısının TBMM’ne sevkinin ertelenmesinin zorunlu olduğunu açıkladı.Maliye Bakanlığı\\'nın bu yazısına karşılık Başbakanlık ve Genelkurmay Başkanlığı hattın Burdur-Korkuteli kısmının tamamlanmasını istediler. Yeniden bu konuda çalışmalar yapan Maliye Bakanlığı bir süre sonra yazdığı cevapta gerekli kaynağın bulunamadığını ve projenin ertelendiğini açıkladı.\\n1930\\'lı yılların sonundan, 2010\\'lu yıllara kadar Antalya\\'ya bir demir yolu hattının getirilmesi konusunda çalışma yapılmadı. İlk olarak 2011 yılında gündeme gelen konuyla ilgili 2012 yılında TCDD Genel Müdürü Süleyman Karaman, Antalya\\'nın Yüksek Hızlı Tren sistemiyle demiryolu ulaşımına bağlanacağını açıkladı. 2012\\'de Başbakan Recep Tayyip Erdoğan da Ulusa Sesleniş konuşmasında 10 yıl içinde Antalya, Kars, Diyarbakır ve Edirne\\'ye de hızlı tren hattının yapılacağını açıkladı.Antalya için düşünülen demiryolu projelerinin ilki Antalya - Eskişehir arasında yapılarak kentin İstanbul\\'la bağlantısının sağlanması amacını taşıyor. İkinci proje ise Antalya\\'nın Nevşehir\\'le olan bağlantısının yapılacak olan Manavgat-Konya hattı üzerinden sağlanmasını ve böylece bir turizm hattının oluşturulmasını hedefliyor.\\n\\n\\n=== Havayolu ===\\n\\n1960 yılında hizmete açılmış olan Antalya Havalimanı, Türkiye\\'nin Akdeniz kıyısındaki başlıca turizm ve tatil merkezi olan Antalya\\'nın şehir merkezinin 10 km. doğusunda yer almaktadır. Büyük ve modern havalimanı, özellikle yaz aylarında Türkiye\\'nin güney sahillerine gelen milyonlarca yerli ve yabancı turisti ağırlamaktadır. 2007 yılında Antalya Havalimanı dış hatlarda yolcu sayısı ilk kez İstanbul Atatürk Havalimanı ve Sabiha Gökçen Havalimanı toplam yolcu sayısını aşarak, resmî olarak \"Türk turizminin başkenti\" unvanını kazandı. Yolcu trafiğine göre Avrupa\\'nın en kalabalık havalimanları listesine göre Avrupa\\'nın 14. en yoğun havalimanıdır. 1 adet iç hatlar 2 adet dış hatlar terminaline sahip olan havalimanı, Türkiye\\'deki Havaalanları İstatistiklerine göre, toplam yolcu trafiği bakımından ikinci havalimanıdır. Şu anda yaklaşık 13.000.000 m2 araziye sahiptir.\\n\\n\\n=== Enerji ===\\nAntalya\\'nın nüfusu itibarıyla enerji tüketimindeki payı fazladır. Elektrikte günlük tüketim miktarı normal şartlarda 12 milyon kilowatt/saattir. Ancak yaz aylarında klima kullanımının da artmasıyla birlikte bu ihtiyaç 18 milyon kilowatt/saate yükselmektedir. Günlük üretim miktarı da 3-3,5 milyon kilowatt/saat civarındadır. 2009 yılı itibarıyla, toplam elektrik 198,4 milyar kwh üretiminin olan Antalya\\'nın bu üretimin %48.6’sı doğalgazdan, %21.7’si yerli kömürden, %18.5’i hidrolik kaynaklardan, %6.6’sı ithal kömürden, %3.4’ü sıvı yakıtlardan, %0.76’sı rüzgârdan ve %0.34’ü jeotermal ve biyogazdan sağlanmıştır. Bu enerjinin üretimi için ihtiyaç olan su Antalya\\'ya yağışlardan karşılanır. Antalya yıllık 1224,2 kg/m2 yağış düşmektedir. Bu yağıştan gelen su şehir şebeke suyunda kullanılır. Ancak Antalya\\'daki su kaynaklarının çoğu, karstik yapısından dolayı yer altı sularıdır.\\nAntalya\\'ya ilk doğalgaz hattı 2010 yılında Antalya Organize Sanayi Bölgesi\\'ne çekilmiş ve burada kullanılmıştır. 2011 yılında bu hat şehir merkezine ulaşmış ve ana hatlar şehre yerleştirilmiş ve bazı mahallelere hatlar çekilmiştir. Antalya\\'daki doğagazın kullanımı ev, sanayi ve sera olarak üç kolda kullanılması planlanmakta ve yıllık bazda tüketimin 2020 yılında 1 milyar metreküpü bulması düşünülmektedir.Antalya yılda 300 gün güneş gören bir kenttir. 2010 yılında il merkezinde kurulan Güneşev\\'le birlikte Antalya\\'da güneş ve rüzgâr enerjisinden de yararlanılmaktadır. Halka açık bir şekilde tasarlanan Güneşev\\'de enerjiyi sağlayan güneş ve rüzgâr panelleri dışında sera, AR-GE birimi, seminer salonu yürüyüş alanları gibi bölümler de vardır.\\n\\n\\n=== Sağlık ===\\nAntalya ilinde devlet, üniversite ve özel hastaneler tarafından sağlık hizmetleri verilir. İlde 2009 itibarıyla 37 tane Türkiye Cumhuriyeti Sağlık Bakanlığı\\'na bağlı, 1 üniversitelere bağlı, 16\\'sı özel hastane olmak üzere toplam 67 hastane ve 1 ağız ve diş sağlığı merkezi bulunmaktadır. En büyük hastaneler arasında Akdeniz Üniversitesi Tıp Fakültesi Hastanesi, Antalya Atatürk Devlet Hastanesi, Antalya Eğitim ve Araştırma Hastanesi\\'dir. (950 yataklı).\\nİlde sıcak su kaynakları sınırlıdır. Sağlık turizmine elverişli değildir.Günümüzde sağlık turizmi tanımı yer altı sıcak su kaynakları ile sınırlı olarak değerlendirilmemektedir. Bir ülkeden bir başka ülkeye tanı ve tedavi için seyahat etmeye verilen isim de sağlık turizmidir. Mevcut özel hastanelerin kalitesi ve devlete bağlı hastanelerin son yıllarda gerçekleştirdiği önemli operasyonlar sayesinde Antalya popüler sağlık turizm noktalarından biri haline gelmiş olup bu kapsam da turlar düzenlenmektedir \\n\\n\\n=== Yeşil alanlar, eğlence ve dinlenme alanları, mesire yerleri ===\\n\\nİlde kişilerin eğlenmeleri, dinlenmeleri ve doğaya yakınlaşabilmelerine olanak sağlayan kent parkları ve şehirlerin dışında bulunan, korunmaya alınmış doğal bölgeler bulunmaktadır. Bunların bir bölümü göl, gölet ve baraj gölleri etrafındaki yeşil alanlardır, bir bölümü ise yayla ve ormanlık bölgelerdir.\\nÖnemli kentsel yeşil alanlar arasında Antalya Kent Orman, Atatürk Parkı, Kepez Kent Orman sayılabilir.\\nEğlence parkı olarak Antalya\\'daki en büyük park özel bir işletmeyle yönetilen Aktur Park\\'tır. Diğer modern eğlence alanları arasında şehirdeki 3 adet aquapark, Konyaaltı, Lara sahilleri, Beachpark özellikle yaz tatili için kullanılırken bunun yanında Saklıkent de kış aylarında kayak yapma olanağı sağlayan tesislere sahiptir.\\nKorunmuş tabiat alanları arasında Antalya-Korkuteli karayolundaki Güllük Dağı Millî Parkı, Kemer\\'deki Olimpos Dağı Millî Parkı ve Düden ve Kurşunlu Şelalesi bulunmaktadır. Diğer korunan alanlar arasında Damlataş ve Karain Mağarası ile Güver Uçurumu vardır.\\nİlin çeşitli yerlerindeki mesire alanları, piknik ve dinlenme olanakları sunar. Manavgat\\'taki Köprülü Kanyon\\'da piknik alanları, rafting olanakları, Antalya\\'nın batısında Korkuteli-Antalya sınırının olduğu kısımdan güneydeki Kumluca\\'ya kadar olan kısım büyük ölçüde ormanlarla kaplıdır. Bu alanalarda da piknik alanları, çocuk parkı, restoran ve benzeri olanaklar temin edilmiştir. Kent merkezi\\'nin batısındaki Feslikan Yaylası\\'ndaki mesire yerinde göl ve orman manzaraları bulunur ve ziyaretçilerin doğa sporları, doğa yürüyüşleri yapması mümkündür. Yaz aylarında düzenlenen festivallerde yağlı güreş karşılaşmaları yapılmakta konserler verilmekte eğlenceler düzenlenmektedir. Yine kentin batısındaki Doyran beldesinin göleti kenarı mesire için, gölet de balıkçılık için uygundur.\\n\\nBugün, şehiriçi rekreasyon alanları parklar, korular ve sahillerden oluşmaktadır. Ancak bu ögeler de çarpık ve kaçak kentleşme nedeniyle Antalya\\'nın her yanına dengeli bir biçimde dağılım gösterememiş, daha çok sahil kenarında ya da sahile yakın yerlerde toplanmıştır.Açıkhava alanları dışında son yıllarda sayıları hızla artan alışveriş merkezleri de, sundukları olanaklarla dinlence alanı olarak sınıflandırılabilmektedirler. İldeki alışveriş merkezi olarak adlandırılacak yapılar şehir merkezinde toplanmıştır. İlin önde gelen alışveriş merkezleri arasında Antalya 5M Migros, Antalya Kipa, Laura, Shemall, Deepo, Özdilekpark Terracity 1 Kasım 2020 tarihinde Wayback Machine sitesinde arşivlendi. MarkAntalya ve Erasta gibi mekânlar yer almaktadır.\\n\\n\\n== Kardeş şehirler ==\\nAntalya\\'nın toplam on sekiz tane kardeş şehri vardır.\\n\\n\\n== Galeri ==\\n\\n\\t\\t\\n\\t\\t\\n\\t\\t\\n\\t\\t\\n\\t\\t\\n\\t\\t\\n\\t\\t\\n\\t\\t\\n\\t\\t\\n\\t\\t\\n\\t\\t\\n\\n\\n== Notlar ==\\n\\nII. ^  Antalya’nın Osmanlılar’u geçiş tarihi değişik şekillerde verilmektedir. Schiltberger, Memlûk Sultanı’nım nüfusu altındaki Antalya’yı 1. Beya¬zıd’ın alış tarihinin 1399 veya 1400 olduğunu; Gibbons ve Behişti 1391, Oruç bey ile Neşrî 1389 veya 1392’de Tekeeli’nin zaptedildiğini, S. F.Erten ise (Antalya Livası Tarihi, s. 63) Rumca tarihlerden naklen 794 H.I1392 M. olarak kaydetmektedir. Şu halde Antalya ve havalisi 1390-1391 veya 1392 senelerinden birinde alınmış olmaktadır. (İ.H. Uzunçarşılı, Osmanlı Tarihi, 1, 265)\\nIII. ^  Sümer, a.g.e., s. 171. Celal-zâde, Şah Kulu’nu Şeytan Kulu olarak da isimlendirmekte ve onu kötü bahtlı, bozgunculuk çıkartan bir sapık olarak nitelendirmektedir. Bkz, a.g.e., s. 297-298.\\nIV. ^  İbn-i Batûta, Antalya Sultanı olan Yunus Bey oğlu Hızır Beyi işaret ettiğim o sırada hasta olduğunu belirtiyor (İbn-i Batûta, Tuh/et un nuzzar fi garatbı’l-emsâr ve acâ’ibul- esfâr Seyâhatnâme-i Ibn-i Batûta mut. Muhammed Şerif, İstanbul, 1333-1335,1, s. 314\\n\\n\\n== Kaynakça ==\\n\\n\\n== Dış bağlantılar ==\\nT.C. Antalya Valiliği30 Nisan 2021 tarihinde Wayback Machine sitesinde arşivlendi.\\nAntalya Büyükşehir Belediyesi 3 Ağustos 2020 tarihinde Wayback Machine sitesinde arşivlendi.\\nAntalya İl Kültür ve Turizm Müdürlüğü6 Mayıs 2021 tarihinde Wayback Machine sitesinde arşivlendi.\\nAntalya İl Tarım ve Orman Müdürlüğü16 Şubat 2021 tarihinde Wayback Machine sitesinde arşivlendi.\\nAntalya Müftülüğü27 Ocak 2021 tarihinde Wayback Machine sitesinde arşivlendi.\\nAntalya İşkur1 Şubat 2021 tarihinde Wayback Machine sitesinde arşivlendi.\\nAntalya Gençlik ve Spor İl Müdürlüğü22 Ocak 2021 tarihinde Wayback Machine sitesinde arşivlendi.\\nAntalya İl Halk Kütüphanesi28 Ocak 2021 tarihinde Wayback Machine sitesinde arşivlendi.'"
            ],
            "application/vnd.google.colaboratory.intrinsic+json": {
              "type": "string"
            }
          },
          "metadata": {},
          "execution_count": 199
        }
      ]
    },
    {
      "cell_type": "code",
      "source": [
        "antalya.images"
      ],
      "metadata": {
        "colab": {
          "base_uri": "https://localhost:8080/"
        },
        "id": "3qUvt-NF7Svx",
        "outputId": "e9bd4b73-eb1a-483c-a4c1-12291ce03f49"
      },
      "execution_count": null,
      "outputs": [
        {
          "output_type": "execute_result",
          "data": {
            "text/plain": [
              "['https://upload.wikimedia.org/wikipedia/commons/c/ce/07-06-TUR.png',\n",
              " 'https://upload.wikimedia.org/wikipedia/commons/7/72/07-10-TUR.png',\n",
              " 'https://upload.wikimedia.org/wikipedia/commons/e/e6/07-29-TUR.png',\n",
              " 'https://upload.wikimedia.org/wikipedia/commons/7/75/07-30-TUR.png',\n",
              " 'https://upload.wikimedia.org/wikipedia/commons/c/c6/07-33-TUR.png',\n",
              " 'https://upload.wikimedia.org/wikipedia/commons/6/60/07-50-TUR.png',\n",
              " 'https://upload.wikimedia.org/wikipedia/commons/e/e8/07-52-TUR.png',\n",
              " 'https://upload.wikimedia.org/wikipedia/commons/b/b8/07-55-TUR.png',\n",
              " 'https://upload.wikimedia.org/wikipedia/commons/d/d0/Akduni.JPG',\n",
              " 'https://upload.wikimedia.org/wikipedia/commons/a/a2/Alanya-cave10-renemt.jpg',\n",
              " 'https://upload.wikimedia.org/wikipedia/commons/3/31/Alanya.jpg',\n",
              " 'https://upload.wikimedia.org/wikipedia/commons/a/a1/Antalija_pogled_iz_aviona.jpg',\n",
              " 'https://upload.wikimedia.org/wikipedia/commons/0/08/AntalyaKarpuzkaldiranWaterfall.jpg',\n",
              " 'https://upload.wikimedia.org/wikipedia/commons/d/d0/Antalya_%28tr%29.svg',\n",
              " 'https://upload.wikimedia.org/wikipedia/commons/0/04/Antalya_Adalet_Saray%C4%B1.jpg',\n",
              " 'https://upload.wikimedia.org/wikipedia/commons/3/38/Antalya_Airport_-_International_Terminal_2.JPG',\n",
              " 'https://upload.wikimedia.org/wikipedia/commons/3/3f/Antalya_Atat%C3%BCrk_M%C3%BCzesi.jpg',\n",
              " 'https://upload.wikimedia.org/wikipedia/commons/e/e6/Antalya_B%C3%BCy%C3%BCk%C5%9Fehir_Belediyesi_Binas%C4%B1.JPG',\n",
              " 'https://upload.wikimedia.org/wikipedia/commons/3/36/Antalya_Railway_Systems_Network_Map.svg',\n",
              " 'https://upload.wikimedia.org/wikipedia/commons/2/2a/Antalya_Side_Apollo.jpg',\n",
              " 'https://upload.wikimedia.org/wikipedia/commons/6/62/Antalya_and_Kemer_by_Piri_Reis.jpg',\n",
              " 'https://upload.wikimedia.org/wikipedia/commons/f/fc/Antalya_by_Piri_Reis.jpg',\n",
              " 'https://upload.wikimedia.org/wikipedia/commons/8/87/Antalya_city.jpg',\n",
              " 'https://upload.wikimedia.org/wikipedia/commons/c/cb/Antalya_dusk.JPG',\n",
              " 'https://upload.wikimedia.org/wikipedia/commons/c/ce/Antalya_falezler.jpg',\n",
              " 'https://upload.wikimedia.org/wikipedia/commons/7/7e/Antalya_from_birdeye.jpg',\n",
              " 'https://upload.wikimedia.org/wikipedia/commons/6/61/Antalya_in_Turkey.svg',\n",
              " 'https://upload.wikimedia.org/wikipedia/commons/0/0a/Antalya_marina.jpg',\n",
              " 'https://upload.wikimedia.org/wikipedia/commons/b/b4/Antalya_tram.jpg',\n",
              " 'https://upload.wikimedia.org/wikipedia/commons/7/77/Antalyaspor_Kav%C5%9Fa%C4%9F%C4%B1_-_23.6.15.JPG',\n",
              " 'https://upload.wikimedia.org/wikipedia/commons/e/ee/Apples.jpg',\n",
              " 'https://upload.wikimedia.org/wikipedia/commons/6/6f/Asia_laea_location_map.svg',\n",
              " 'https://upload.wikimedia.org/wikipedia/commons/f/f1/Aspendos-02619.jpg',\n",
              " 'https://upload.wikimedia.org/wikipedia/commons/d/d0/Attalos_II_Meret_%C3%96wazov_Antalya.jpg',\n",
              " 'https://upload.wikimedia.org/wikipedia/commons/7/73/Blue_pencil.svg',\n",
              " 'https://upload.wikimedia.org/wikipedia/commons/4/48/CMA_CGM_Alabama_20110711_Antalya.jpg',\n",
              " 'https://upload.wikimedia.org/wikipedia/commons/4/4a/Commons-logo.svg',\n",
              " 'https://upload.wikimedia.org/wikipedia/commons/c/c7/D350-TR.svg',\n",
              " 'https://upload.wikimedia.org/wikipedia/commons/0/02/D400-TR.svg',\n",
              " 'https://upload.wikimedia.org/wikipedia/commons/1/19/D635-TR.svg',\n",
              " 'https://upload.wikimedia.org/wikipedia/commons/4/49/D650-TR.svg',\n",
              " 'https://upload.wikimedia.org/wikipedia/commons/f/fb/D685-TR.svg',\n",
              " 'https://upload.wikimedia.org/wikipedia/commons/d/d7/D687-TR.svg',\n",
              " 'https://upload.wikimedia.org/wikipedia/commons/0/0b/D695-TR.svg',\n",
              " 'https://upload.wikimedia.org/wikipedia/commons/b/bd/Dark_Green_Arrow_Up.svg',\n",
              " 'https://upload.wikimedia.org/wikipedia/commons/8/88/Demre_mira.jpg',\n",
              " 'https://upload.wikimedia.org/wikipedia/commons/b/b6/D%C3%BCden_%C5%9Eelalesi.jpg',\n",
              " 'https://upload.wikimedia.org/wikipedia/commons/d/dd/E87-TR.svg',\n",
              " 'https://upload.wikimedia.org/wikipedia/commons/f/f2/Edit-clear.svg',\n",
              " 'https://upload.wikimedia.org/wikipedia/commons/b/b4/Europe_blank_laea_location_map.svg',\n",
              " 'https://upload.wikimedia.org/wikipedia/commons/8/85/Flag_of_Belarus.svg',\n",
              " 'https://upload.wikimedia.org/wikipedia/commons/b/bf/Flag_of_Bosnia_and_Herzegovina.svg',\n",
              " 'https://upload.wikimedia.org/wikipedia/commons/1/1b/Flag_of_Croatia.svg',\n",
              " 'https://upload.wikimedia.org/wikipedia/commons/b/ba/Flag_of_Germany.svg',\n",
              " 'https://upload.wikimedia.org/wikipedia/commons/d/d4/Flag_of_Israel.svg',\n",
              " 'https://upload.wikimedia.org/wikipedia/commons/d/d3/Flag_of_Kazakhstan.svg',\n",
              " 'https://upload.wikimedia.org/wikipedia/commons/f/f3/Flag_of_Russia.svg',\n",
              " 'https://upload.wikimedia.org/wikipedia/commons/4/4c/Flag_of_Sweden.svg',\n",
              " 'https://upload.wikimedia.org/wikipedia/commons/8/84/Flag_of_Uzbekistan.svg',\n",
              " 'https://upload.wikimedia.org/wikipedia/commons/f/fa/Flag_of_the_People%27s_Republic_of_China.svg',\n",
              " 'https://upload.wikimedia.org/wikipedia/commons/1/1e/Flag_of_the_Turkish_Republic_of_Northern_Cyprus.svg',\n",
              " 'https://upload.wikimedia.org/wikipedia/commons/a/a4/Flag_of_the_United_States.svg',\n",
              " 'https://upload.wikimedia.org/wikipedia/commons/5/50/Hadrianus_gate.jpg',\n",
              " 'https://upload.wikimedia.org/wikipedia/commons/9/93/Kalkan_skyline.JPG',\n",
              " 'https://upload.wikimedia.org/wikipedia/commons/1/12/Karain.JPG',\n",
              " 'https://upload.wikimedia.org/wikipedia/commons/5/57/Latrans-Turkey_location_Antalya.svg',\n",
              " 'https://upload.wikimedia.org/wikipedia/commons/3/3e/Map_Anatolia_ancient_regions-tr.svg',\n",
              " 'https://upload.wikimedia.org/wikipedia/commons/4/43/Myra.JPG',\n",
              " 'https://upload.wikimedia.org/wikipedia/commons/e/e3/Nuvola_apps_kweather.svg',\n",
              " 'https://upload.wikimedia.org/wikipedia/commons/f/fe/Olea_europaea_004.JPG',\n",
              " 'https://upload.wikimedia.org/wikipedia/commons/4/4b/Panoramio_-_henkiedenkie_-_Antalya_-_2010_%284%29.jpg',\n",
              " 'https://upload.wikimedia.org/wikipedia/commons/0/05/Perge_0022.jpg',\n",
              " 'https://upload.wikimedia.org/wikipedia/commons/0/0c/Red_pog.svg',\n",
              " 'https://upload.wikimedia.org/wikipedia/commons/8/81/SevresOttoman1927.JPG',\n",
              " 'https://upload.wikimedia.org/wikipedia/commons/1/1e/Simena_0230.jpg',\n",
              " 'https://upload.wikimedia.org/wikipedia/commons/5/5b/Termessos_theater_200603.jpg',\n",
              " 'https://upload.wikimedia.org/wikipedia/commons/0/0b/Theatre_Aspendos.jpg',\n",
              " 'https://upload.wikimedia.org/wikipedia/commons/6/6d/Tribunelangezijde.jpg',\n",
              " 'https://upload.wikimedia.org/wikipedia/commons/f/f4/Turkey-2624_%282217120576%29.jpg',\n",
              " 'https://upload.wikimedia.org/wikipedia/commons/e/e5/Turkey_adm_location_map.svg',\n",
              " 'https://upload.wikimedia.org/wikipedia/commons/2/25/Turkey_provinces_blank_gray.svg',\n",
              " 'https://upload.wikimedia.org/wikipedia/commons/1/18/Ven%C3%BCs_Heykeli.jpg',\n",
              " 'https://upload.wikimedia.org/wikipedia/commons/e/e7/Weather-rain-thunderstorm.svg',\n",
              " 'https://upload.wikimedia.org/wikipedia/commons/b/b0/World_location_map_%28equirectangular_180%29.svg',\n",
              " 'https://upload.wikimedia.org/wikipedia/commons/7/70/Yagli_gures1.jpg',\n",
              " 'https://upload.wikimedia.org/wikipedia/commons/4/48/Yeni_Antalya_Stadyumu_-_23.6.15.JPG',\n",
              " 'https://upload.wikimedia.org/wikipedia/commons/8/86/Yivli_Minare_Mosque.jpg',\n",
              " 'https://upload.wikimedia.org/wikipedia/commons/8/81/%C3%87ocuk_mezar_lahti_Antalya_m%C3%BCzesi.JPG',\n",
              " 'https://upload.wikimedia.org/wikipedia/tr/c/c8/Frans%C4%B1z_kuvvetleri_Antalya%27n%C4%B1n_130_km_g%C3%BCneybat%C4%B1s%C4%B1ndaki_Ka%C5%9F%27a_iniyor_%281916%29.jpeg']"
            ]
          },
          "metadata": {},
          "execution_count": 200
        }
      ]
    },
    {
      "cell_type": "code",
      "source": [
        "!pip uninstall wikipedia"
      ],
      "metadata": {
        "colab": {
          "base_uri": "https://localhost:8080/"
        },
        "id": "DVAxixs17bVe",
        "outputId": "836462e9-597c-4412-a90e-6b472001792f"
      },
      "execution_count": null,
      "outputs": [
        {
          "output_type": "stream",
          "name": "stdout",
          "text": [
            "\u001b[33mWARNING: Skipping wikipedia as it is not installed.\u001b[0m\n"
          ]
        }
      ]
    },
    {
      "cell_type": "code",
      "source": [
        "import wikipedia"
      ],
      "metadata": {
        "id": "uliHkXft7hdq"
      },
      "execution_count": null,
      "outputs": []
    },
    {
      "cell_type": "markdown",
      "source": [
        "# Ders 10 - Sözlük Dict"
      ],
      "metadata": {
        "id": "b8VjsD-m3iEk"
      }
    },
    {
      "cell_type": "code",
      "source": [
        "bossozluk={}"
      ],
      "metadata": {
        "id": "2SYQbuRw7rwG"
      },
      "execution_count": null,
      "outputs": []
    },
    {
      "cell_type": "code",
      "source": [
        "users={\n",
        "    \"admin\":\"123456\",\n",
        "    \"cagri\":\"1903\",\n",
        "    \"quaresma\":\"q7q7\",\n",
        "    \"editor\":\"1903\"\n",
        "}"
      ],
      "metadata": {
        "id": "-MoQQlnM3tXf"
      },
      "execution_count": null,
      "outputs": []
    },
    {
      "cell_type": "code",
      "source": [
        "len(users) # 4 adet item var"
      ],
      "metadata": {
        "colab": {
          "base_uri": "https://localhost:8080/"
        },
        "id": "4_K7HIHH39OU",
        "outputId": "ae67d3da-a4c2-4500-9c09-05d4b7b3b93c"
      },
      "execution_count": null,
      "outputs": [
        {
          "output_type": "execute_result",
          "data": {
            "text/plain": [
              "4"
            ]
          },
          "metadata": {},
          "execution_count": 4
        }
      ]
    },
    {
      "cell_type": "code",
      "source": [
        "dir(users)"
      ],
      "metadata": {
        "colab": {
          "base_uri": "https://localhost:8080/"
        },
        "id": "bz57N2yY4Ac_",
        "outputId": "c4611820-37f9-47c5-f236-d2cfee9c6de7"
      },
      "execution_count": null,
      "outputs": [
        {
          "output_type": "execute_result",
          "data": {
            "text/plain": [
              "['__class__',\n",
              " '__contains__',\n",
              " '__delattr__',\n",
              " '__delitem__',\n",
              " '__dir__',\n",
              " '__doc__',\n",
              " '__eq__',\n",
              " '__format__',\n",
              " '__ge__',\n",
              " '__getattribute__',\n",
              " '__getitem__',\n",
              " '__gt__',\n",
              " '__hash__',\n",
              " '__init__',\n",
              " '__init_subclass__',\n",
              " '__iter__',\n",
              " '__le__',\n",
              " '__len__',\n",
              " '__lt__',\n",
              " '__ne__',\n",
              " '__new__',\n",
              " '__reduce__',\n",
              " '__reduce_ex__',\n",
              " '__repr__',\n",
              " '__reversed__',\n",
              " '__setattr__',\n",
              " '__setitem__',\n",
              " '__sizeof__',\n",
              " '__str__',\n",
              " '__subclasshook__',\n",
              " 'clear',\n",
              " 'copy',\n",
              " 'fromkeys',\n",
              " 'get',\n",
              " 'items',\n",
              " 'keys',\n",
              " 'pop',\n",
              " 'popitem',\n",
              " 'setdefault',\n",
              " 'update',\n",
              " 'values']"
            ]
          },
          "metadata": {},
          "execution_count": 5
        }
      ]
    },
    {
      "cell_type": "code",
      "source": [
        "users"
      ],
      "metadata": {
        "colab": {
          "base_uri": "https://localhost:8080/"
        },
        "id": "3tAV0UEV4V15",
        "outputId": "e3936aea-aad3-4c42-d047-95e6b7719bdd"
      },
      "execution_count": null,
      "outputs": [
        {
          "output_type": "execute_result",
          "data": {
            "text/plain": [
              "{'admin': '123456', 'cagri': '1903', 'quaresma': 'q7q7', 'editor': '1903'}"
            ]
          },
          "metadata": {},
          "execution_count": 6
        }
      ]
    },
    {
      "cell_type": "code",
      "source": [
        "users.get(\"cagri\")"
      ],
      "metadata": {
        "colab": {
          "base_uri": "https://localhost:8080/",
          "height": 35
        },
        "id": "I63gY8ei4ZND",
        "outputId": "2444075c-e9fa-4fe5-ad90-169fa4b5531a"
      },
      "execution_count": null,
      "outputs": [
        {
          "output_type": "execute_result",
          "data": {
            "text/plain": [
              "'1903'"
            ],
            "application/vnd.google.colaboratory.intrinsic+json": {
              "type": "string"
            }
          },
          "metadata": {},
          "execution_count": 7
        }
      ]
    },
    {
      "cell_type": "code",
      "source": [
        "users['cagri']"
      ],
      "metadata": {
        "colab": {
          "base_uri": "https://localhost:8080/",
          "height": 35
        },
        "id": "ojFLW98I4b1F",
        "outputId": "24cc209b-3726-4f0f-fcc6-3ead31dd4dd9"
      },
      "execution_count": null,
      "outputs": [
        {
          "output_type": "execute_result",
          "data": {
            "text/plain": [
              "'1903'"
            ],
            "application/vnd.google.colaboratory.intrinsic+json": {
              "type": "string"
            }
          },
          "metadata": {},
          "execution_count": 8
        }
      ]
    },
    {
      "cell_type": "code",
      "source": [
        "users.get(\"mahmut\")"
      ],
      "metadata": {
        "id": "fdhIga9W4iTC"
      },
      "execution_count": null,
      "outputs": []
    },
    {
      "cell_type": "code",
      "source": [
        "users['mahmut'] #hata verir"
      ],
      "metadata": {
        "colab": {
          "base_uri": "https://localhost:8080/",
          "height": 166
        },
        "id": "ksRHrs7D4kTW",
        "outputId": "730abe44-a307-4743-f8eb-f8d896f6c886"
      },
      "execution_count": null,
      "outputs": [
        {
          "output_type": "error",
          "ename": "KeyError",
          "evalue": "ignored",
          "traceback": [
            "\u001b[0;31m---------------------------------------------------------------------------\u001b[0m",
            "\u001b[0;31mKeyError\u001b[0m                                  Traceback (most recent call last)",
            "\u001b[0;32m<ipython-input-11-11d91da1b38b>\u001b[0m in \u001b[0;36m<module>\u001b[0;34m\u001b[0m\n\u001b[0;32m----> 1\u001b[0;31m \u001b[0musers\u001b[0m\u001b[0;34m[\u001b[0m\u001b[0;34m'mahmut'\u001b[0m\u001b[0;34m]\u001b[0m \u001b[0;31m#hata verir\u001b[0m\u001b[0;34m\u001b[0m\u001b[0;34m\u001b[0m\u001b[0m\n\u001b[0m",
            "\u001b[0;31mKeyError\u001b[0m: 'mahmut'"
          ]
        }
      ]
    },
    {
      "cell_type": "code",
      "source": [
        "users['mahmut']=\"9999\""
      ],
      "metadata": {
        "id": "1tPoXGw54n4a"
      },
      "execution_count": null,
      "outputs": []
    },
    {
      "cell_type": "code",
      "source": [
        "users"
      ],
      "metadata": {
        "colab": {
          "base_uri": "https://localhost:8080/"
        },
        "id": "zb68feRQ4sss",
        "outputId": "86cb4692-baa3-498e-d476-5dc5c3998dfe"
      },
      "execution_count": null,
      "outputs": [
        {
          "output_type": "execute_result",
          "data": {
            "text/plain": [
              "{'admin': '123456',\n",
              " 'cagri': '1903',\n",
              " 'quaresma': 'q7q7',\n",
              " 'editor': '1903',\n",
              " 'mahmut': '9999'}"
            ]
          },
          "metadata": {},
          "execution_count": 13
        }
      ]
    },
    {
      "cell_type": "code",
      "source": [
        "sayilar=[10,1,2,3,4,5]"
      ],
      "metadata": {
        "id": "ievga9Ek4tQY"
      },
      "execution_count": null,
      "outputs": []
    },
    {
      "cell_type": "code",
      "source": [
        "sayilar[0]"
      ],
      "metadata": {
        "colab": {
          "base_uri": "https://localhost:8080/"
        },
        "id": "B5TPKgHz4zbj",
        "outputId": "86ba5edf-6b0f-4fb0-f7bd-adfcc4fe9e8a"
      },
      "execution_count": null,
      "outputs": [
        {
          "output_type": "execute_result",
          "data": {
            "text/plain": [
              "10"
            ]
          },
          "metadata": {},
          "execution_count": 16
        }
      ]
    },
    {
      "cell_type": "code",
      "source": [
        "users[0]"
      ],
      "metadata": {
        "id": "iTn-ZDlG41uz"
      },
      "execution_count": null,
      "outputs": []
    },
    {
      "cell_type": "code",
      "source": [
        "# keyler unique değerler tekrar kullanılamaz"
      ],
      "metadata": {
        "id": "mrP3XhEe445k"
      },
      "execution_count": null,
      "outputs": []
    },
    {
      "cell_type": "code",
      "source": [
        "users.pop(\"mahmut\")"
      ],
      "metadata": {
        "colab": {
          "base_uri": "https://localhost:8080/",
          "height": 35
        },
        "id": "KMM5zn3m4-g4",
        "outputId": "a4b84cab-9dc2-483b-cdcd-1cd2e7e7e966"
      },
      "execution_count": null,
      "outputs": [
        {
          "output_type": "execute_result",
          "data": {
            "text/plain": [
              "'9999'"
            ],
            "application/vnd.google.colaboratory.intrinsic+json": {
              "type": "string"
            }
          },
          "metadata": {},
          "execution_count": 20
        }
      ]
    },
    {
      "cell_type": "code",
      "source": [
        "users"
      ],
      "metadata": {
        "colab": {
          "base_uri": "https://localhost:8080/"
        },
        "id": "fQMsjXo85Fo-",
        "outputId": "fc58e136-61ae-4447-c75b-ead094a0e9d7"
      },
      "execution_count": null,
      "outputs": [
        {
          "output_type": "execute_result",
          "data": {
            "text/plain": [
              "{'admin': '123456', 'cagri': '1903', 'quaresma': 'q7q7', 'editor': '1903'}"
            ]
          },
          "metadata": {},
          "execution_count": 21
        }
      ]
    },
    {
      "cell_type": "code",
      "source": [
        "users.popitem()"
      ],
      "metadata": {
        "colab": {
          "base_uri": "https://localhost:8080/"
        },
        "id": "M5FKCLCG5NAJ",
        "outputId": "e0e16e4f-fcc6-4c8d-cbe4-f43c8051498c"
      },
      "execution_count": null,
      "outputs": [
        {
          "output_type": "execute_result",
          "data": {
            "text/plain": [
              "('editor', '1903')"
            ]
          },
          "metadata": {},
          "execution_count": 22
        }
      ]
    },
    {
      "cell_type": "code",
      "source": [
        "users"
      ],
      "metadata": {
        "colab": {
          "base_uri": "https://localhost:8080/"
        },
        "id": "r11J5J-t5Pt_",
        "outputId": "2228fcae-8ca8-4201-b2c2-5c23b092ec30"
      },
      "execution_count": null,
      "outputs": [
        {
          "output_type": "execute_result",
          "data": {
            "text/plain": [
              "{'admin': '123456', 'cagri': '1903', 'quaresma': 'q7q7'}"
            ]
          },
          "metadata": {},
          "execution_count": 23
        }
      ]
    },
    {
      "cell_type": "code",
      "source": [
        "users.items()"
      ],
      "metadata": {
        "colab": {
          "base_uri": "https://localhost:8080/"
        },
        "id": "QOfrddCB5RHJ",
        "outputId": "95c4de65-a186-4f78-8960-2082dfcd81f7"
      },
      "execution_count": null,
      "outputs": [
        {
          "output_type": "execute_result",
          "data": {
            "text/plain": [
              "dict_items([('admin', '123456'), ('cagri', '1903'), ('quaresma', 'q7q7')])"
            ]
          },
          "metadata": {},
          "execution_count": 25
        }
      ]
    },
    {
      "cell_type": "code",
      "source": [
        "users.keys()"
      ],
      "metadata": {
        "colab": {
          "base_uri": "https://localhost:8080/"
        },
        "id": "Xu8CAi395aHw",
        "outputId": "fc3c409d-6723-44ae-83fc-86fbcee8b316"
      },
      "execution_count": null,
      "outputs": [
        {
          "output_type": "execute_result",
          "data": {
            "text/plain": [
              "dict_keys(['admin', 'cagri', 'quaresma'])"
            ]
          },
          "metadata": {},
          "execution_count": 26
        }
      ]
    },
    {
      "cell_type": "code",
      "source": [
        "users.values()"
      ],
      "metadata": {
        "colab": {
          "base_uri": "https://localhost:8080/"
        },
        "id": "7YyBz65r5f6L",
        "outputId": "3fd86175-aed9-4b9e-a4bd-5b9bcd6c8659"
      },
      "execution_count": null,
      "outputs": [
        {
          "output_type": "execute_result",
          "data": {
            "text/plain": [
              "dict_values(['123456', '1903', 'q7q7'])"
            ]
          },
          "metadata": {},
          "execution_count": 27
        }
      ]
    },
    {
      "cell_type": "code",
      "source": [
        "kullanicilar=users.copy()"
      ],
      "metadata": {
        "id": "NUct1eoh5h7X"
      },
      "execution_count": null,
      "outputs": []
    },
    {
      "cell_type": "code",
      "source": [
        "kullanicilar[\"mahmut\"]=\"9999\""
      ],
      "metadata": {
        "id": "ka7Ox3Dl5nUL"
      },
      "execution_count": null,
      "outputs": []
    },
    {
      "cell_type": "code",
      "source": [
        "kullanicilar"
      ],
      "metadata": {
        "colab": {
          "base_uri": "https://localhost:8080/"
        },
        "id": "kz-kMmNd5oK9",
        "outputId": "977372db-2b3a-4b77-d2bb-a77f1040f1ed"
      },
      "execution_count": null,
      "outputs": [
        {
          "output_type": "execute_result",
          "data": {
            "text/plain": [
              "{'admin': '123456', 'cagri': '1903', 'quaresma': 'q7q7', 'mahmut': '9999'}"
            ]
          },
          "metadata": {},
          "execution_count": 32
        }
      ]
    },
    {
      "cell_type": "code",
      "source": [
        "users"
      ],
      "metadata": {
        "colab": {
          "base_uri": "https://localhost:8080/"
        },
        "id": "2-SE4HSw5ryQ",
        "outputId": "b1aed00a-7542-4478-ab62-6ae9de3c8662"
      },
      "execution_count": null,
      "outputs": [
        {
          "output_type": "execute_result",
          "data": {
            "text/plain": [
              "{'admin': '123456', 'cagri': '1903', 'quaresma': 'q7q7'}"
            ]
          },
          "metadata": {},
          "execution_count": 33
        }
      ]
    },
    {
      "cell_type": "code",
      "source": [
        "markalar=[\"Hyundia\",\"Kia\",\"Mazda\"]"
      ],
      "metadata": {
        "id": "IXqCufR55uOF"
      },
      "execution_count": null,
      "outputs": []
    },
    {
      "cell_type": "code",
      "source": [
        "users.fromkeys(markalar,0)"
      ],
      "metadata": {
        "colab": {
          "base_uri": "https://localhost:8080/"
        },
        "id": "eU6aKf5z5z0J",
        "outputId": "13717f4d-97d8-4e80-fe5d-9084503954ad"
      },
      "execution_count": null,
      "outputs": [
        {
          "output_type": "execute_result",
          "data": {
            "text/plain": [
              "{'Hyundia': 0, 'Kia': 0, 'Mazda': 0}"
            ]
          },
          "metadata": {},
          "execution_count": 39
        }
      ]
    },
    {
      "cell_type": "code",
      "source": [
        "users.fromkeys(markalar)"
      ],
      "metadata": {
        "colab": {
          "base_uri": "https://localhost:8080/"
        },
        "id": "JVEgMNQg584A",
        "outputId": "29f9a04f-8a94-40e6-c797-8c5ed30322de"
      },
      "execution_count": null,
      "outputs": [
        {
          "output_type": "execute_result",
          "data": {
            "text/plain": [
              "{'Hyundia': None, 'Kia': None, 'Mazda': None}"
            ]
          },
          "metadata": {},
          "execution_count": 41
        }
      ]
    },
    {
      "cell_type": "code",
      "source": [
        "users.clear()"
      ],
      "metadata": {
        "id": "5BHnZl8Q6E0Q"
      },
      "execution_count": null,
      "outputs": []
    },
    {
      "cell_type": "code",
      "source": [
        "users"
      ],
      "metadata": {
        "colab": {
          "base_uri": "https://localhost:8080/"
        },
        "id": "I0MLbvx96Xq-",
        "outputId": "96de7334-7b48-4771-eca5-b74d684b567a"
      },
      "execution_count": null,
      "outputs": [
        {
          "output_type": "execute_result",
          "data": {
            "text/plain": [
              "{}"
            ]
          },
          "metadata": {},
          "execution_count": 43
        }
      ]
    },
    {
      "cell_type": "code",
      "source": [
        "users.setdefault(\"admin\",\"1903\")"
      ],
      "metadata": {
        "colab": {
          "base_uri": "https://localhost:8080/",
          "height": 35
        },
        "id": "8PBZBKAv6YV3",
        "outputId": "d34601cd-3753-4672-8c9f-40c5533bfea6"
      },
      "execution_count": null,
      "outputs": [
        {
          "output_type": "execute_result",
          "data": {
            "text/plain": [
              "'1903'"
            ],
            "application/vnd.google.colaboratory.intrinsic+json": {
              "type": "string"
            }
          },
          "metadata": {},
          "execution_count": 44
        }
      ]
    },
    {
      "cell_type": "code",
      "source": [
        "users['cagri']=\"123445\""
      ],
      "metadata": {
        "id": "JHcv4lQf6iDj"
      },
      "execution_count": null,
      "outputs": []
    },
    {
      "cell_type": "code",
      "source": [
        "users"
      ],
      "metadata": {
        "colab": {
          "base_uri": "https://localhost:8080/"
        },
        "id": "Y98tYu6A6f1p",
        "outputId": "5ceff2a0-361d-4a54-da01-5cf0bbe64d59"
      },
      "execution_count": null,
      "outputs": [
        {
          "output_type": "execute_result",
          "data": {
            "text/plain": [
              "{'admin': '1903', 'cagri': '123445'}"
            ]
          },
          "metadata": {},
          "execution_count": 47
        }
      ]
    },
    {
      "cell_type": "code",
      "source": [
        "users.update({'cagri':'654'})"
      ],
      "metadata": {
        "id": "ssdHq_Kz6glf"
      },
      "execution_count": null,
      "outputs": []
    },
    {
      "cell_type": "code",
      "source": [
        "users"
      ],
      "metadata": {
        "colab": {
          "base_uri": "https://localhost:8080/"
        },
        "id": "AOB8V7pf6rFK",
        "outputId": "dc200291-5100-4809-c94d-f19c4b6e77b4"
      },
      "execution_count": null,
      "outputs": [
        {
          "output_type": "execute_result",
          "data": {
            "text/plain": [
              "{'admin': '1903', 'cagri': '654'}"
            ]
          },
          "metadata": {},
          "execution_count": 49
        }
      ]
    },
    {
      "cell_type": "code",
      "source": [
        "users=[\n",
        "    {\n",
        "        \"username\":\"admin\",\n",
        "        \"sifre\":\"1903\",\n",
        "        \"isim\":\"Çağrı\"\n",
        "    },\n",
        "    {\n",
        "        \"username\":\"cagri\",\n",
        "        \"sifre\":\"19031903\",\n",
        "        \"isim\":\"Hasan\"\n",
        "    }\n",
        "]"
      ],
      "metadata": {
        "id": "MV9ftX-66rrE"
      },
      "execution_count": null,
      "outputs": []
    },
    {
      "cell_type": "code",
      "source": [
        "users"
      ],
      "metadata": {
        "colab": {
          "base_uri": "https://localhost:8080/"
        },
        "id": "6pgmMYAd7AIK",
        "outputId": "84ca857f-f3f7-4a2c-b511-019b14358507"
      },
      "execution_count": null,
      "outputs": [
        {
          "output_type": "execute_result",
          "data": {
            "text/plain": [
              "[{'username': 'admin', 'sifre': '1903', 'isim': 'Çağrı'},\n",
              " {'username': 'cagri', 'sifre': '19031903', 'isim': 'Hasan'}]"
            ]
          },
          "metadata": {},
          "execution_count": 51
        }
      ]
    },
    {
      "cell_type": "code",
      "source": [
        "kullanicilar[\"Hasan\"]=[\"1903\",True,[1,2,3]]"
      ],
      "metadata": {
        "id": "RcRWjZxo7A2K"
      },
      "execution_count": null,
      "outputs": []
    },
    {
      "cell_type": "code",
      "source": [
        "kullanicilar"
      ],
      "metadata": {
        "colab": {
          "base_uri": "https://localhost:8080/"
        },
        "id": "I2y7sLDR7Fht",
        "outputId": "ec9b62f4-0abf-4476-d965-ac2c2aa8ba75"
      },
      "execution_count": null,
      "outputs": [
        {
          "output_type": "execute_result",
          "data": {
            "text/plain": [
              "{'admin': '123456',\n",
              " 'cagri': '1903',\n",
              " 'quaresma': 'q7q7',\n",
              " 'mahmut': '9999',\n",
              " 'Hasan': ['1903', True, [1, 2, 3]]}"
            ]
          },
          "metadata": {},
          "execution_count": 55
        }
      ]
    },
    {
      "cell_type": "markdown",
      "source": [
        "# Ders 11 - Set Kümeler"
      ],
      "metadata": {
        "id": "irRuvB2ZCqId"
      }
    },
    {
      "cell_type": "code",
      "source": [
        "kume1={\"web\",\"app\",\"server\",\"front\"}\n",
        "kume2={\"cloud\",\"dns\",\"web\",\"front\"}"
      ],
      "metadata": {
        "id": "bv0dFgJoBWGV"
      },
      "execution_count": null,
      "outputs": []
    },
    {
      "cell_type": "code",
      "source": [
        "dir(set)"
      ],
      "metadata": {
        "colab": {
          "base_uri": "https://localhost:8080/"
        },
        "id": "9cTGAlT3DAP5",
        "outputId": "979b5a29-2fd2-4723-c51e-77c8bc758a00"
      },
      "execution_count": null,
      "outputs": [
        {
          "output_type": "execute_result",
          "data": {
            "text/plain": [
              "['__and__',\n",
              " '__class__',\n",
              " '__contains__',\n",
              " '__delattr__',\n",
              " '__dir__',\n",
              " '__doc__',\n",
              " '__eq__',\n",
              " '__format__',\n",
              " '__ge__',\n",
              " '__getattribute__',\n",
              " '__gt__',\n",
              " '__hash__',\n",
              " '__iand__',\n",
              " '__init__',\n",
              " '__init_subclass__',\n",
              " '__ior__',\n",
              " '__isub__',\n",
              " '__iter__',\n",
              " '__ixor__',\n",
              " '__le__',\n",
              " '__len__',\n",
              " '__lt__',\n",
              " '__ne__',\n",
              " '__new__',\n",
              " '__or__',\n",
              " '__rand__',\n",
              " '__reduce__',\n",
              " '__reduce_ex__',\n",
              " '__repr__',\n",
              " '__ror__',\n",
              " '__rsub__',\n",
              " '__rxor__',\n",
              " '__setattr__',\n",
              " '__sizeof__',\n",
              " '__str__',\n",
              " '__sub__',\n",
              " '__subclasshook__',\n",
              " '__xor__',\n",
              " 'add',\n",
              " 'clear',\n",
              " 'copy',\n",
              " 'difference',\n",
              " 'difference_update',\n",
              " 'discard',\n",
              " 'intersection',\n",
              " 'intersection_update',\n",
              " 'isdisjoint',\n",
              " 'issubset',\n",
              " 'issuperset',\n",
              " 'pop',\n",
              " 'remove',\n",
              " 'symmetric_difference',\n",
              " 'symmetric_difference_update',\n",
              " 'union',\n",
              " 'update']"
            ]
          },
          "metadata": {},
          "execution_count": 3
        }
      ]
    },
    {
      "cell_type": "code",
      "source": [
        "kume1.add(\"machine learning\")"
      ],
      "metadata": {
        "id": "P6oMc5-JDCEU"
      },
      "execution_count": null,
      "outputs": []
    },
    {
      "cell_type": "code",
      "source": [
        "kume1"
      ],
      "metadata": {
        "colab": {
          "base_uri": "https://localhost:8080/"
        },
        "id": "h0GTUso6DJNd",
        "outputId": "f3e61a45-c5e2-40d2-8cd8-b2976d471459"
      },
      "execution_count": null,
      "outputs": [
        {
          "output_type": "execute_result",
          "data": {
            "text/plain": [
              "{'app', 'front', 'machine learning', 'server'}"
            ]
          },
          "metadata": {},
          "execution_count": 12
        }
      ]
    },
    {
      "cell_type": "code",
      "source": [
        "kume2"
      ],
      "metadata": {
        "colab": {
          "base_uri": "https://localhost:8080/"
        },
        "id": "84UmGbH6DJ5e",
        "outputId": "ef643c04-69bb-4812-ebb1-88f9bd539856"
      },
      "execution_count": null,
      "outputs": [
        {
          "output_type": "execute_result",
          "data": {
            "text/plain": [
              "{'cloud', 'dns', 'front', 'web'}"
            ]
          },
          "metadata": {},
          "execution_count": 6
        }
      ]
    },
    {
      "cell_type": "code",
      "source": [
        "kume1.pop()"
      ],
      "metadata": {
        "colab": {
          "base_uri": "https://localhost:8080/",
          "height": 35
        },
        "id": "tvRj5oT-DLW3",
        "outputId": "58036792-514d-481a-a21c-f84c2fcb9d1e"
      },
      "execution_count": null,
      "outputs": [
        {
          "output_type": "execute_result",
          "data": {
            "text/plain": [
              "'web'"
            ],
            "application/vnd.google.colaboratory.intrinsic+json": {
              "type": "string"
            }
          },
          "metadata": {},
          "execution_count": 8
        }
      ]
    },
    {
      "cell_type": "code",
      "source": [
        "kume1.intersection(kume2)"
      ],
      "metadata": {
        "colab": {
          "base_uri": "https://localhost:8080/"
        },
        "id": "TmiGo2xlDNkD",
        "outputId": "0f230974-82d0-41bc-f33a-0d0a16503fd4"
      },
      "execution_count": null,
      "outputs": [
        {
          "output_type": "execute_result",
          "data": {
            "text/plain": [
              "{'front'}"
            ]
          },
          "metadata": {},
          "execution_count": 9
        }
      ]
    },
    {
      "cell_type": "code",
      "source": [
        "kume1.difference(kume2)"
      ],
      "metadata": {
        "colab": {
          "base_uri": "https://localhost:8080/"
        },
        "id": "BMQ6ea4SDajI",
        "outputId": "85c898e0-bc3f-4793-b01a-653e9d138c19"
      },
      "execution_count": null,
      "outputs": [
        {
          "output_type": "execute_result",
          "data": {
            "text/plain": [
              "{'app', 'machine learning', 'server'}"
            ]
          },
          "metadata": {},
          "execution_count": 11
        }
      ]
    },
    {
      "cell_type": "code",
      "source": [
        "kume1.difference_update(kume2)"
      ],
      "metadata": {
        "id": "OZYbF_tmDiKq"
      },
      "execution_count": null,
      "outputs": []
    },
    {
      "cell_type": "code",
      "source": [
        "kume1"
      ],
      "metadata": {
        "colab": {
          "base_uri": "https://localhost:8080/"
        },
        "id": "1s8rzzGKDtSI",
        "outputId": "6bb1aba7-5f70-44cc-f7d9-3c6a817a4e97"
      },
      "execution_count": null,
      "outputs": [
        {
          "output_type": "execute_result",
          "data": {
            "text/plain": [
              "{'app', 'machine learning', 'server'}"
            ]
          },
          "metadata": {},
          "execution_count": 14
        }
      ]
    },
    {
      "cell_type": "code",
      "source": [
        "kume1={\"web\",\"app\",\"server\",\"front\"}\n",
        "kume2={\"cloud\",\"dns\",\"web\",\"front\"}\n",
        "kume3={\"web\",\"app\",\"server\",\"front\",\"API\"}\n"
      ],
      "metadata": {
        "id": "2OuRFgj7DuSO"
      },
      "execution_count": null,
      "outputs": []
    },
    {
      "cell_type": "code",
      "source": [
        "kume1.isdisjoint(kume2)"
      ],
      "metadata": {
        "colab": {
          "base_uri": "https://localhost:8080/"
        },
        "id": "hjDHUw5kDyYu",
        "outputId": "e1070748-1e28-4e66-d8cc-34cf76082f5f"
      },
      "execution_count": null,
      "outputs": [
        {
          "output_type": "execute_result",
          "data": {
            "text/plain": [
              "False"
            ]
          },
          "metadata": {},
          "execution_count": 16
        }
      ]
    },
    {
      "cell_type": "code",
      "source": [
        "kume1.issubset(kume2)"
      ],
      "metadata": {
        "colab": {
          "base_uri": "https://localhost:8080/"
        },
        "id": "sklhbG1SD3HB",
        "outputId": "a8f97849-74b7-4659-908e-f45e7b75c463"
      },
      "execution_count": null,
      "outputs": [
        {
          "output_type": "execute_result",
          "data": {
            "text/plain": [
              "False"
            ]
          },
          "metadata": {},
          "execution_count": 17
        }
      ]
    },
    {
      "cell_type": "code",
      "source": [
        "kume1.issuperset(kume2)"
      ],
      "metadata": {
        "colab": {
          "base_uri": "https://localhost:8080/"
        },
        "id": "amvw1P-9D7r9",
        "outputId": "8ec5f608-7419-4644-d667-1fdee71d49ff"
      },
      "execution_count": null,
      "outputs": [
        {
          "output_type": "execute_result",
          "data": {
            "text/plain": [
              "False"
            ]
          },
          "metadata": {},
          "execution_count": 18
        }
      ]
    },
    {
      "cell_type": "code",
      "source": [
        "kume3.issuperset(kume1)"
      ],
      "metadata": {
        "colab": {
          "base_uri": "https://localhost:8080/"
        },
        "id": "0BJJHApoD_EK",
        "outputId": "e3685fb8-df10-4728-94f5-dc102849cd41"
      },
      "execution_count": null,
      "outputs": [
        {
          "output_type": "execute_result",
          "data": {
            "text/plain": [
              "True"
            ]
          },
          "metadata": {},
          "execution_count": 20
        }
      ]
    },
    {
      "cell_type": "code",
      "source": [
        "kume1.issubset(kume3)"
      ],
      "metadata": {
        "colab": {
          "base_uri": "https://localhost:8080/"
        },
        "id": "ap8iMpX_EJCA",
        "outputId": "e9b84fa8-be67-441b-af63-06af067b9371"
      },
      "execution_count": null,
      "outputs": [
        {
          "output_type": "execute_result",
          "data": {
            "text/plain": [
              "True"
            ]
          },
          "metadata": {},
          "execution_count": 21
        }
      ]
    },
    {
      "cell_type": "code",
      "source": [
        "kume1.symmetric_difference(kume3)"
      ],
      "metadata": {
        "colab": {
          "base_uri": "https://localhost:8080/"
        },
        "id": "y-dvc8AzEPuI",
        "outputId": "d168a362-7a7d-4db2-ce77-66aa3b028e2f"
      },
      "execution_count": null,
      "outputs": [
        {
          "output_type": "execute_result",
          "data": {
            "text/plain": [
              "{'API'}"
            ]
          },
          "metadata": {},
          "execution_count": 22
        }
      ]
    },
    {
      "cell_type": "code",
      "source": [
        "kume1.symmetric_difference(kume2)"
      ],
      "metadata": {
        "colab": {
          "base_uri": "https://localhost:8080/"
        },
        "id": "5ycOyZ4xE3qJ",
        "outputId": "e74a583d-757f-415f-d507-7385a44cca9f"
      },
      "execution_count": null,
      "outputs": [
        {
          "output_type": "execute_result",
          "data": {
            "text/plain": [
              "{'app', 'cloud', 'dns', 'server'}"
            ]
          },
          "metadata": {},
          "execution_count": 23
        }
      ]
    },
    {
      "cell_type": "markdown",
      "source": [
        "# Ders 12 Mantıksal Operatörler ve Yapılar"
      ],
      "metadata": {
        "id": "tAkybb53FPeV"
      }
    },
    {
      "cell_type": "code",
      "source": [
        "True"
      ],
      "metadata": {
        "colab": {
          "base_uri": "https://localhost:8080/"
        },
        "id": "o55lU-sRE6vY",
        "outputId": "32a6977f-e313-4bef-84c6-7d6edcebc8fe"
      },
      "execution_count": null,
      "outputs": [
        {
          "output_type": "execute_result",
          "data": {
            "text/plain": [
              "True"
            ]
          },
          "metadata": {},
          "execution_count": 26
        }
      ]
    },
    {
      "cell_type": "code",
      "source": [
        "False"
      ],
      "metadata": {
        "colab": {
          "base_uri": "https://localhost:8080/"
        },
        "id": "MFnHlSh8E90r",
        "outputId": "93083a9c-2320-461c-fff9-b6463431df5f"
      },
      "execution_count": null,
      "outputs": [
        {
          "output_type": "execute_result",
          "data": {
            "text/plain": [
              "False"
            ]
          },
          "metadata": {},
          "execution_count": 27
        }
      ]
    },
    {
      "cell_type": "code",
      "source": [
        "x=20 # = atama operatörü"
      ],
      "metadata": {
        "id": "-V-VE0NUGAn0"
      },
      "execution_count": null,
      "outputs": []
    },
    {
      "cell_type": "code",
      "source": [
        "5==6"
      ],
      "metadata": {
        "colab": {
          "base_uri": "https://localhost:8080/"
        },
        "id": "D1F36fcvF5NL",
        "outputId": "3a578332-768c-4719-ee60-e0b28727aea4"
      },
      "execution_count": null,
      "outputs": [
        {
          "output_type": "execute_result",
          "data": {
            "text/plain": [
              "False"
            ]
          },
          "metadata": {},
          "execution_count": 29
        }
      ]
    },
    {
      "cell_type": "code",
      "source": [
        "5==5"
      ],
      "metadata": {
        "colab": {
          "base_uri": "https://localhost:8080/"
        },
        "id": "LFnUqPBrGDL8",
        "outputId": "8252dbee-6497-4a16-ba97-b1a05c909d21"
      },
      "execution_count": null,
      "outputs": [
        {
          "output_type": "execute_result",
          "data": {
            "text/plain": [
              "True"
            ]
          },
          "metadata": {},
          "execution_count": 30
        }
      ]
    },
    {
      "cell_type": "code",
      "source": [
        "5!=5"
      ],
      "metadata": {
        "colab": {
          "base_uri": "https://localhost:8080/"
        },
        "id": "WtAzbIIJGEGz",
        "outputId": "174101f2-2a98-46a5-a8eb-558b01dd4123"
      },
      "execution_count": null,
      "outputs": [
        {
          "output_type": "execute_result",
          "data": {
            "text/plain": [
              "False"
            ]
          },
          "metadata": {},
          "execution_count": 31
        }
      ]
    },
    {
      "cell_type": "code",
      "source": [
        "5>4"
      ],
      "metadata": {
        "colab": {
          "base_uri": "https://localhost:8080/"
        },
        "id": "pzzCo7OfGGKw",
        "outputId": "1ea59b50-05d2-477c-80ce-8701c71c5522"
      },
      "execution_count": null,
      "outputs": [
        {
          "output_type": "execute_result",
          "data": {
            "text/plain": [
              "True"
            ]
          },
          "metadata": {},
          "execution_count": 32
        }
      ]
    },
    {
      "cell_type": "code",
      "source": [
        "5>=0"
      ],
      "metadata": {
        "colab": {
          "base_uri": "https://localhost:8080/"
        },
        "id": "zyaDVe7UGIfI",
        "outputId": "f1dddf75-e144-40d1-c56a-cb792a284f6d"
      },
      "execution_count": null,
      "outputs": [
        {
          "output_type": "execute_result",
          "data": {
            "text/plain": [
              "True"
            ]
          },
          "metadata": {},
          "execution_count": 33
        }
      ]
    },
    {
      "cell_type": "code",
      "source": [
        "10<20"
      ],
      "metadata": {
        "colab": {
          "base_uri": "https://localhost:8080/"
        },
        "id": "LqzIFj53GJ4s",
        "outputId": "07e5953e-5b9c-4b56-d212-700a84ed106b"
      },
      "execution_count": null,
      "outputs": [
        {
          "output_type": "execute_result",
          "data": {
            "text/plain": [
              "True"
            ]
          },
          "metadata": {},
          "execution_count": 34
        }
      ]
    },
    {
      "cell_type": "code",
      "source": [
        "10<=-4"
      ],
      "metadata": {
        "colab": {
          "base_uri": "https://localhost:8080/"
        },
        "id": "DgUbHZ14GLRk",
        "outputId": "3cbc228a-9d4c-4954-8b0d-6ca1530b4fe5"
      },
      "execution_count": null,
      "outputs": [
        {
          "output_type": "execute_result",
          "data": {
            "text/plain": [
              "False"
            ]
          },
          "metadata": {},
          "execution_count": 36
        }
      ]
    },
    {
      "cell_type": "code",
      "source": [
        "\"a\" in \"çağrı\""
      ],
      "metadata": {
        "colab": {
          "base_uri": "https://localhost:8080/"
        },
        "id": "qigO5ODiGMl5",
        "outputId": "3b6c96fa-9258-4188-baaf-430033d6d9e4"
      },
      "execution_count": null,
      "outputs": [
        {
          "output_type": "execute_result",
          "data": {
            "text/plain": [
              "True"
            ]
          },
          "metadata": {},
          "execution_count": 37
        }
      ]
    },
    {
      "cell_type": "code",
      "source": [
        "\"k\" not in \"çağrı\""
      ],
      "metadata": {
        "colab": {
          "base_uri": "https://localhost:8080/"
        },
        "id": "YFX4dc-CGUJx",
        "outputId": "41e17072-4c10-4efb-e4c8-a16741116a93"
      },
      "execution_count": null,
      "outputs": [
        {
          "output_type": "execute_result",
          "data": {
            "text/plain": [
              "True"
            ]
          },
          "metadata": {},
          "execution_count": 38
        }
      ]
    },
    {
      "cell_type": "code",
      "source": [
        "sayı=\"5\""
      ],
      "metadata": {
        "id": "QACNVlOmGWzt"
      },
      "execution_count": null,
      "outputs": []
    },
    {
      "cell_type": "code",
      "source": [
        "sayı.isnumeric()"
      ],
      "metadata": {
        "colab": {
          "base_uri": "https://localhost:8080/"
        },
        "id": "bltZNVA4GknI",
        "outputId": "95e183a6-da79-45d9-deda-716553e73172"
      },
      "execution_count": null,
      "outputs": [
        {
          "output_type": "execute_result",
          "data": {
            "text/plain": [
              "True"
            ]
          },
          "metadata": {},
          "execution_count": 40
        }
      ]
    },
    {
      "cell_type": "markdown",
      "source": [
        "# Ders 13 IF ELSE *ELIF* Koşul Yapıları"
      ],
      "metadata": {
        "id": "UIHKoDJK0g-n"
      }
    },
    {
      "cell_type": "code",
      "source": [
        "x=\"5\" #str\n",
        "y=5 #int"
      ],
      "metadata": {
        "id": "V4Vrmgvd0lyp"
      },
      "execution_count": null,
      "outputs": []
    },
    {
      "cell_type": "code",
      "source": [
        "x==y"
      ],
      "metadata": {
        "colab": {
          "base_uri": "https://localhost:8080/"
        },
        "id": "o5eBCCsCnt82",
        "outputId": "8d8f483c-dfd3-4866-8be9-ac582cf28194"
      },
      "execution_count": null,
      "outputs": [
        {
          "output_type": "execute_result",
          "data": {
            "text/plain": [
              "False"
            ]
          },
          "metadata": {},
          "execution_count": 13
        }
      ]
    },
    {
      "cell_type": "code",
      "source": [
        "if type(x)==int:\n",
        "  print(\"Bu bir tam sayı\")\n",
        "print(\"Kodlar devam ediyor\")"
      ],
      "metadata": {
        "colab": {
          "base_uri": "https://localhost:8080/"
        },
        "id": "C2iqxw8snulM",
        "outputId": "8ef03685-769a-4c14-fe9a-d413eaca6bd4"
      },
      "execution_count": null,
      "outputs": [
        {
          "output_type": "stream",
          "name": "stdout",
          "text": [
            "Kodlar devam ediyor\n"
          ]
        }
      ]
    },
    {
      "cell_type": "code",
      "source": [
        "isim=\"umut\"\n",
        "if \"ğ\" in isim:\n",
        "  print(\"Bu bir türkçe kelime\")\n",
        "elif \"ş\" in isim:\n",
        "  print(\"Bu bir türkçe kelime\")\n",
        "elif \"ü\" in isim:\n",
        "  print(\"Bu bir türkçe kelime\")\n",
        "else:\n",
        "  print(\"Bu bir türkçe kelime olmayabilir\")"
      ],
      "metadata": {
        "colab": {
          "base_uri": "https://localhost:8080/"
        },
        "id": "2Q86Lp52oMVc",
        "outputId": "57ddbac9-09e2-4737-e532-eb258c641f30"
      },
      "execution_count": null,
      "outputs": [
        {
          "output_type": "stream",
          "name": "stdout",
          "text": [
            "Bu bir türkçe kelime olmayabilir\n"
          ]
        }
      ]
    },
    {
      "cell_type": "code",
      "source": [
        "sayi=int(input(\"Bir sayı giriniz\"))\n",
        "kalan=sayi%2\n",
        "if kalan==0:\n",
        "  print(\"Bu sayı çifttir\")\n",
        "else:\n",
        "  print(\"Bu sayı tektir\")"
      ],
      "metadata": {
        "colab": {
          "base_uri": "https://localhost:8080/"
        },
        "id": "qY-qWFiWn75A",
        "outputId": "bb069748-8cb0-46c7-a1cf-e42172b83229"
      },
      "execution_count": null,
      "outputs": [
        {
          "output_type": "stream",
          "name": "stdout",
          "text": [
            "Bir sayı giriniz87\n",
            "Bu sayı tektir\n"
          ]
        }
      ]
    },
    {
      "cell_type": "code",
      "source": [
        "sayı=\"1790\"\n",
        "if sayı.isnumeric():\n",
        "  print(\"Sayı Numeric\")\n",
        "else:\n",
        "  print(\"Sayı numeric değil\")\n",
        "  "
      ],
      "metadata": {
        "colab": {
          "base_uri": "https://localhost:8080/"
        },
        "id": "_GIifQhxpfUO",
        "outputId": "68960d0e-d009-471e-9daa-43b56dfbe9af"
      },
      "execution_count": null,
      "outputs": [
        {
          "output_type": "stream",
          "name": "stdout",
          "text": [
            "Sayı Numeric\n"
          ]
        }
      ]
    },
    {
      "cell_type": "code",
      "source": [
        "yas=20\n",
        "cinsiyet=\"Erkek\"\n",
        "if yas>18 and cinsiyet==\"Erkek\":\n",
        "  print(\"Askere alındınız\")\n",
        "else:\n",
        "  print(\"Şu an için askere alınmadınız\")"
      ],
      "metadata": {
        "colab": {
          "base_uri": "https://localhost:8080/"
        },
        "id": "o0FUOl_Jpwsv",
        "outputId": "080888e5-90e8-4871-e9d3-f101d482aef3"
      },
      "execution_count": null,
      "outputs": [
        {
          "output_type": "stream",
          "name": "stdout",
          "text": [
            "Askere alındınız\n"
          ]
        }
      ]
    },
    {
      "cell_type": "code",
      "source": [
        "yas=15\n",
        "cinsiyet=\"Erkek\"\n",
        "\n",
        "if yas<18 or cinsiyet==\"Kadın\":\n",
        "  print(\"Şu an için askere alınmadınız\")\n",
        "else:\n",
        "  print(\"Askere alındınız\")\n",
        "\n"
      ],
      "metadata": {
        "colab": {
          "base_uri": "https://localhost:8080/"
        },
        "id": "GH3w8MZOqQhy",
        "outputId": "ad4733e1-8a2c-4c66-d960-a0ce42d2d1c6"
      },
      "execution_count": null,
      "outputs": [
        {
          "output_type": "stream",
          "name": "stdout",
          "text": [
            "Şu an için askere alınmadınız\n"
          ]
        }
      ]
    },
    {
      "cell_type": "markdown",
      "source": [
        "#DERS 14 zip Fonksiyonu"
      ],
      "metadata": {
        "id": "emPZfi5awU2O"
      }
    },
    {
      "cell_type": "code",
      "source": [
        "alman=[\"bmw\",\"audi\",\"mercedes\"]\n",
        "japon=[\"suzuki\",\"toyota\",\"mazda\"]\n",
        "kore=[\"kia\",\"hyundai\",\"ssangyong\"]"
      ],
      "metadata": {
        "id": "xqTsLZ-hxfDl"
      },
      "execution_count": null,
      "outputs": []
    },
    {
      "cell_type": "code",
      "source": [
        "arabalar=zip(alman,japon,kore)"
      ],
      "metadata": {
        "id": "oOfi2wL2yAN0"
      },
      "execution_count": null,
      "outputs": []
    },
    {
      "cell_type": "code",
      "source": [
        "x=tuple(arabalar)"
      ],
      "metadata": {
        "id": "S3PDQ_yiyDJ9"
      },
      "execution_count": null,
      "outputs": []
    },
    {
      "cell_type": "code",
      "source": [
        "x[2]"
      ],
      "metadata": {
        "colab": {
          "base_uri": "https://localhost:8080/"
        },
        "id": "f1Hnvch7yESt",
        "outputId": "8031ef23-4657-46d6-e904-1ce7c6890372"
      },
      "execution_count": null,
      "outputs": [
        {
          "output_type": "execute_result",
          "data": {
            "text/plain": [
              "('mercedes', 'mazda', 'ssangyong')"
            ]
          },
          "metadata": {},
          "execution_count": 101
        }
      ]
    },
    {
      "cell_type": "code",
      "source": [
        "alman=[\"bmw\",\"audi\",\"mercedes\"]\n",
        "japon=[\"suzuki\",\"toyota\",\"mazda\"]\n",
        "kore=[\"kia\",\"hyundai\",\"ssangyong\"]\n",
        "arabalar=zip(alman,japon,kore)"
      ],
      "metadata": {
        "id": "uRH4s13SyOd2"
      },
      "execution_count": null,
      "outputs": []
    },
    {
      "cell_type": "code",
      "source": [
        "a,b,c=arabalar"
      ],
      "metadata": {
        "id": "R3svnspTyiU7"
      },
      "execution_count": null,
      "outputs": []
    },
    {
      "cell_type": "code",
      "source": [
        "a"
      ],
      "metadata": {
        "colab": {
          "base_uri": "https://localhost:8080/"
        },
        "id": "OdWziHiKykhD",
        "outputId": "b986e05c-0958-4ce9-8987-81d0e9917408"
      },
      "execution_count": null,
      "outputs": [
        {
          "output_type": "execute_result",
          "data": {
            "text/plain": [
              "('bmw', 'suzuki', 'kia')"
            ]
          },
          "metadata": {},
          "execution_count": 104
        }
      ]
    },
    {
      "cell_type": "code",
      "source": [
        "b"
      ],
      "metadata": {
        "colab": {
          "base_uri": "https://localhost:8080/"
        },
        "id": "EV4yr0aoylBC",
        "outputId": "2b6aa6f6-9750-48ea-e9c8-c6b9eb088d74"
      },
      "execution_count": null,
      "outputs": [
        {
          "output_type": "execute_result",
          "data": {
            "text/plain": [
              "('audi', 'toyota', 'hyundai')"
            ]
          },
          "metadata": {},
          "execution_count": 105
        }
      ]
    },
    {
      "cell_type": "code",
      "source": [
        "c"
      ],
      "metadata": {
        "colab": {
          "base_uri": "https://localhost:8080/"
        },
        "id": "h5W8079KynAI",
        "outputId": "bcba52a2-59b4-4ec3-9c32-2208a36fdc72"
      },
      "execution_count": null,
      "outputs": [
        {
          "output_type": "execute_result",
          "data": {
            "text/plain": [
              "('mercedes', 'mazda', 'ssangyong')"
            ]
          },
          "metadata": {},
          "execution_count": 106
        }
      ]
    },
    {
      "cell_type": "code",
      "source": [
        "alman=[\"bmw\",\"audi\",\"mercedes\"]\n",
        "japon=[\"suzuki\",\"toyota\",\"mazda\"]\n",
        "kore=[\"kia\",\"hyundai\",\"ssangyong\"]\n",
        "arabalar=zip(alman,japon,kore)"
      ],
      "metadata": {
        "id": "de7vfWnyyokc"
      },
      "execution_count": null,
      "outputs": []
    },
    {
      "cell_type": "code",
      "source": [
        "liste=list(arabalar)"
      ],
      "metadata": {
        "id": "sBeeJQhHyuN6"
      },
      "execution_count": null,
      "outputs": []
    },
    {
      "cell_type": "code",
      "source": [
        "liste"
      ],
      "metadata": {
        "colab": {
          "base_uri": "https://localhost:8080/"
        },
        "id": "vzoIyZTLyv4I",
        "outputId": "65356928-a922-41d5-aa19-194157e3964f"
      },
      "execution_count": null,
      "outputs": [
        {
          "output_type": "execute_result",
          "data": {
            "text/plain": [
              "[('bmw', 'suzuki', 'kia'),\n",
              " ('audi', 'toyota', 'hyundai'),\n",
              " ('mercedes', 'mazda', 'ssangyong')]"
            ]
          },
          "metadata": {},
          "execution_count": 109
        }
      ]
    },
    {
      "cell_type": "markdown",
      "source": [
        "#Ders15 For Döngüsü"
      ],
      "metadata": {
        "id": "A4Z-yYnbzD6T"
      }
    },
    {
      "cell_type": "code",
      "source": [
        "sayilar=[1,2,3,4,5,15,20]"
      ],
      "metadata": {
        "id": "KyKws0uRywls"
      },
      "execution_count": null,
      "outputs": []
    },
    {
      "cell_type": "code",
      "source": [
        "sayilar[0]**2"
      ],
      "metadata": {
        "colab": {
          "base_uri": "https://localhost:8080/"
        },
        "id": "e3KAg_izz56m",
        "outputId": "c674b641-578b-48f9-fea8-840c46f93c67"
      },
      "execution_count": null,
      "outputs": [
        {
          "output_type": "execute_result",
          "data": {
            "text/plain": [
              "1"
            ]
          },
          "metadata": {},
          "execution_count": 111
        }
      ]
    },
    {
      "cell_type": "code",
      "source": [
        "sayilar[1]**2"
      ],
      "metadata": {
        "colab": {
          "base_uri": "https://localhost:8080/"
        },
        "id": "xiZpoj7_z8K7",
        "outputId": "02ef7167-d07d-4896-c381-e5e9ce78d7f7"
      },
      "execution_count": null,
      "outputs": [
        {
          "output_type": "execute_result",
          "data": {
            "text/plain": [
              "4"
            ]
          },
          "metadata": {},
          "execution_count": 112
        }
      ]
    },
    {
      "cell_type": "code",
      "source": [
        "sayilar=[1,2,3,4,5,15,20]"
      ],
      "metadata": {
        "id": "i2ctlZN70IXc"
      },
      "execution_count": null,
      "outputs": []
    },
    {
      "cell_type": "code",
      "source": [
        "for sayi in sayilar:\n",
        "  karesi=sayi**2\n",
        "  print(karesi)"
      ],
      "metadata": {
        "colab": {
          "base_uri": "https://localhost:8080/"
        },
        "id": "foETRnTNz921",
        "outputId": "5da08916-4442-42d2-92dd-f5ad6008a26c"
      },
      "execution_count": null,
      "outputs": [
        {
          "output_type": "stream",
          "name": "stdout",
          "text": [
            "1\n",
            "4\n",
            "9\n",
            "16\n",
            "25\n",
            "225\n",
            "400\n"
          ]
        }
      ]
    },
    {
      "cell_type": "code",
      "source": [
        "users={\n",
        "    \"admin\":True,\n",
        "    \"superadmin\":True,\n",
        "    \"cagri\":False,\n",
        "    \"caner\":True,\n",
        "    \"melis\":False\n",
        "}"
      ],
      "metadata": {
        "id": "LKKuOPub0V7v"
      },
      "execution_count": null,
      "outputs": []
    },
    {
      "cell_type": "code",
      "source": [
        "aktif=[]\n",
        "for user in users.keys():\n",
        "  if users.get(user):\n",
        "    aktif.append(user)"
      ],
      "metadata": {
        "id": "PoLUDoUl0qir"
      },
      "execution_count": null,
      "outputs": []
    },
    {
      "cell_type": "code",
      "source": [
        "aktif"
      ],
      "metadata": {
        "colab": {
          "base_uri": "https://localhost:8080/"
        },
        "id": "FvOCPT5207ON",
        "outputId": "1a96ea83-af52-4281-e441-4377c5e36613"
      },
      "execution_count": null,
      "outputs": [
        {
          "output_type": "execute_result",
          "data": {
            "text/plain": [
              "['admin', 'superadmin', 'caner']"
            ]
          },
          "metadata": {},
          "execution_count": 119
        }
      ]
    },
    {
      "cell_type": "code",
      "source": [
        "for user in users.keys():\n",
        "  if not users.get(user):\n",
        "    print(user)\n",
        "    break"
      ],
      "metadata": {
        "colab": {
          "base_uri": "https://localhost:8080/"
        },
        "id": "nmuvaw4y079q",
        "outputId": "94e57ab4-d011-4c8a-b9e0-e8035881ba7b"
      },
      "execution_count": null,
      "outputs": [
        {
          "output_type": "stream",
          "name": "stdout",
          "text": [
            "cagri\n"
          ]
        }
      ]
    },
    {
      "cell_type": "markdown",
      "source": [
        "#Ders 16 range() Fonksiyonu\n"
      ],
      "metadata": {
        "id": "9134YlPs5_LT"
      }
    },
    {
      "cell_type": "code",
      "source": [
        "x=range(10)"
      ],
      "metadata": {
        "id": "89Xd_J2U1PBy"
      },
      "execution_count": null,
      "outputs": []
    },
    {
      "cell_type": "code",
      "source": [
        "x"
      ],
      "metadata": {
        "colab": {
          "base_uri": "https://localhost:8080/"
        },
        "id": "7KnP9LNU6RIH",
        "outputId": "7db3e2a9-af18-407b-cd73-044910328675"
      },
      "execution_count": null,
      "outputs": [
        {
          "output_type": "execute_result",
          "data": {
            "text/plain": [
              "range(0, 10)"
            ]
          },
          "metadata": {},
          "execution_count": 122
        }
      ]
    },
    {
      "cell_type": "code",
      "source": [
        "y=range(5,20)"
      ],
      "metadata": {
        "id": "ZBOj1VWW6R7X"
      },
      "execution_count": null,
      "outputs": []
    },
    {
      "cell_type": "code",
      "source": [
        "y"
      ],
      "metadata": {
        "colab": {
          "base_uri": "https://localhost:8080/"
        },
        "id": "EDq8yuYg6Uhq",
        "outputId": "ded6b4fb-f68b-4fb0-e69a-f063e3d6f583"
      },
      "execution_count": null,
      "outputs": [
        {
          "output_type": "execute_result",
          "data": {
            "text/plain": [
              "range(5, 20)"
            ]
          },
          "metadata": {},
          "execution_count": 124
        }
      ]
    },
    {
      "cell_type": "code",
      "source": [
        "z=range(5,20,5)"
      ],
      "metadata": {
        "id": "FAANwloC6VNr"
      },
      "execution_count": null,
      "outputs": []
    },
    {
      "cell_type": "code",
      "source": [
        "z"
      ],
      "metadata": {
        "colab": {
          "base_uri": "https://localhost:8080/"
        },
        "id": "5-uCnKrJ6YOB",
        "outputId": "f1f6f926-bf99-436b-a320-68f0341cb2a5"
      },
      "execution_count": null,
      "outputs": [
        {
          "output_type": "execute_result",
          "data": {
            "text/plain": [
              "range(5, 20, 5)"
            ]
          },
          "metadata": {},
          "execution_count": 126
        }
      ]
    },
    {
      "cell_type": "code",
      "source": [
        "for a in range(5):\n",
        "  print(a)"
      ],
      "metadata": {
        "colab": {
          "base_uri": "https://localhost:8080/"
        },
        "id": "zJ7A6WPU6Yzx",
        "outputId": "eeb02df2-9fc3-4366-969e-380d34296422"
      },
      "execution_count": null,
      "outputs": [
        {
          "output_type": "stream",
          "name": "stdout",
          "text": [
            "0\n",
            "1\n",
            "2\n",
            "3\n",
            "4\n"
          ]
        }
      ]
    },
    {
      "cell_type": "code",
      "source": [
        "toplam=0\n",
        "for sayi in range(1,20):\n",
        "  #toplam=toplam+sayi\n",
        "  toplam+=sayi\n",
        "print(toplam)\n"
      ],
      "metadata": {
        "colab": {
          "base_uri": "https://localhost:8080/"
        },
        "id": "C1pqwKqb6hOF",
        "outputId": "d9b9f93b-b72a-427a-a7a1-aeb9fac3b812"
      },
      "execution_count": null,
      "outputs": [
        {
          "output_type": "stream",
          "name": "stdout",
          "text": [
            "190\n"
          ]
        }
      ]
    },
    {
      "cell_type": "code",
      "source": [
        "carpim=1\n",
        "for sayi in range(1,10):\n",
        "  carpim*=sayi\n",
        "print(carpim)"
      ],
      "metadata": {
        "colab": {
          "base_uri": "https://localhost:8080/"
        },
        "id": "xk5hYCKu6u-f",
        "outputId": "8aafa477-3c2f-4388-8ad4-44be2acd3a91"
      },
      "execution_count": null,
      "outputs": [
        {
          "output_type": "stream",
          "name": "stdout",
          "text": [
            "362880\n"
          ]
        }
      ]
    },
    {
      "cell_type": "markdown",
      "source": [
        "# Ders 17 - While Döngüsü"
      ],
      "metadata": {
        "id": "nqUMQOOfA6E6"
      }
    },
    {
      "cell_type": "code",
      "source": [
        "sayilar=[1,2,3]\n",
        "for a in sayilar:\n",
        "  print(a)"
      ],
      "metadata": {
        "colab": {
          "base_uri": "https://localhost:8080/"
        },
        "id": "OoGYPAir6-zD",
        "outputId": "e799bcac-c9c1-41eb-c436-1d4eb85d3712"
      },
      "execution_count": null,
      "outputs": [
        {
          "output_type": "stream",
          "name": "stdout",
          "text": [
            "1\n",
            "2\n",
            "3\n"
          ]
        }
      ]
    },
    {
      "cell_type": "code",
      "source": [
        "#while True:\n",
        "#  print(\"Şampiyon Beşiktaş\")"
      ],
      "metadata": {
        "id": "ggophoWBBHYV"
      },
      "execution_count": null,
      "outputs": []
    },
    {
      "cell_type": "code",
      "source": [
        "parola=input(\"Parola Giriniz\")\n",
        "while parola!=\"1903\":\n",
        "  print(\"Parola Yanlış\")\n",
        "  parola=input(\"Parola Giriniz\")\n",
        "\n",
        "print(\"Hoş Geldiniz\")"
      ],
      "metadata": {
        "colab": {
          "base_uri": "https://localhost:8080/"
        },
        "id": "dB5jjf6jBPh1",
        "outputId": "60af716d-b763-4259-9a02-c0e249ba1dba"
      },
      "execution_count": null,
      "outputs": [
        {
          "output_type": "stream",
          "name": "stdout",
          "text": [
            "Parola Giriniznaber\n",
            "Parola Yanlış\n",
            "Parola Giriniz1903\n",
            "Hoş Geldiniz\n"
          ]
        }
      ]
    },
    {
      "cell_type": "code",
      "source": [
        "parola=input(\"Parola Giriniz\")\n",
        "sayac=0\n",
        "mesaj=\"Hoş Geldiniz\"\n",
        "while parola!=\"1903\":\n",
        "  sayac=sayac+1\n",
        "  if sayac==5:\n",
        "    mesaj=\"Engellendiniz\"\n",
        "    break\n",
        "  print(\"Parola Yanlış\")\n",
        "  parola=input(\"Parola Giriniz\")\n",
        "\n",
        "\n",
        "print(mesaj)"
      ],
      "metadata": {
        "colab": {
          "base_uri": "https://localhost:8080/"
        },
        "id": "f5eNwS52Bido",
        "outputId": "0f580bd8-7f15-4daf-e98f-48a824961a73"
      },
      "execution_count": null,
      "outputs": [
        {
          "output_type": "stream",
          "name": "stdout",
          "text": [
            "Parola Giriniz1905\n",
            "Parola Yanlış\n",
            "Parola Giriniz1903\n",
            "Hoş Geldiniz\n"
          ]
        }
      ]
    },
    {
      "cell_type": "code",
      "source": [
        "sayi=1\n",
        "toplam=0\n",
        "while sayi<30:\n",
        "  sayi=sayi+1\n",
        "  toplam=toplam+sayi\n",
        "  \n",
        "print(toplam)"
      ],
      "metadata": {
        "colab": {
          "base_uri": "https://localhost:8080/"
        },
        "id": "g1A5rcwCB6tY",
        "outputId": "7f022403-63ea-4190-a9f9-a75661497026"
      },
      "execution_count": null,
      "outputs": [
        {
          "output_type": "stream",
          "name": "stdout",
          "text": [
            "464\n"
          ]
        }
      ]
    },
    {
      "cell_type": "markdown",
      "source": [
        "# Ders 18 - sum(),min(),max() Fonksiyonları"
      ],
      "metadata": {
        "id": "hBx8I_jGC5lZ"
      }
    },
    {
      "cell_type": "code",
      "source": [
        "puanlar=[60,80,40,35,90,20]"
      ],
      "metadata": {
        "id": "Bz8ITNAmCTmt"
      },
      "execution_count": null,
      "outputs": []
    },
    {
      "cell_type": "code",
      "source": [
        "toplam=sum(puanlar)\n",
        "print(toplam)"
      ],
      "metadata": {
        "colab": {
          "base_uri": "https://localhost:8080/"
        },
        "id": "oib3o9yTCy-H",
        "outputId": "19c0613c-d581-4517-f0dc-f78572138df4"
      },
      "execution_count": null,
      "outputs": [
        {
          "output_type": "stream",
          "name": "stdout",
          "text": [
            "325\n"
          ]
        }
      ]
    },
    {
      "cell_type": "code",
      "source": [
        "toplam=sum(puanlar)\n",
        "ort=toplam/len(puanlar)\n",
        "print(ort)"
      ],
      "metadata": {
        "colab": {
          "base_uri": "https://localhost:8080/"
        },
        "id": "Q2hk9VghFeyo",
        "outputId": "1a624b56-0245-4ba5-8efa-411d7828ce97"
      },
      "execution_count": null,
      "outputs": [
        {
          "output_type": "stream",
          "name": "stdout",
          "text": [
            "54.166666666666664\n"
          ]
        }
      ]
    },
    {
      "cell_type": "code",
      "source": [
        "max=max(puanlar)\n",
        "print(max)"
      ],
      "metadata": {
        "colab": {
          "base_uri": "https://localhost:8080/"
        },
        "id": "jc7ORhE1Ft7i",
        "outputId": "7430122e-8e62-4d17-9dae-b579c407a478"
      },
      "execution_count": null,
      "outputs": [
        {
          "output_type": "stream",
          "name": "stdout",
          "text": [
            "90\n"
          ]
        }
      ]
    },
    {
      "cell_type": "code",
      "source": [
        "min=min(puanlar)\n",
        "print(min)"
      ],
      "metadata": {
        "colab": {
          "base_uri": "https://localhost:8080/"
        },
        "id": "ptN3eumSFyba",
        "outputId": "4651f14f-6499-428d-ac06-5e2f6cae09e9"
      },
      "execution_count": null,
      "outputs": [
        {
          "output_type": "stream",
          "name": "stdout",
          "text": [
            "20\n"
          ]
        }
      ]
    },
    {
      "cell_type": "markdown",
      "source": [
        "# Ders 19 - Fonksiyonlar"
      ],
      "metadata": {
        "id": "n-3uXEj2F-ra"
      }
    },
    {
      "cell_type": "code",
      "source": [
        "print(\"Selam\")"
      ],
      "metadata": {
        "colab": {
          "base_uri": "https://localhost:8080/"
        },
        "id": "qJYHEj_oF2MX",
        "outputId": "dbd97049-cebf-4ff1-d122-2c940758bc9a"
      },
      "execution_count": null,
      "outputs": [
        {
          "output_type": "stream",
          "name": "stdout",
          "text": [
            "Selam\n"
          ]
        }
      ]
    },
    {
      "cell_type": "code",
      "source": [
        "type(\"Selam\")"
      ],
      "metadata": {
        "colab": {
          "base_uri": "https://localhost:8080/"
        },
        "id": "_cEU7cPzIgLb",
        "outputId": "613a251c-9978-4f7b-dca7-7689026300ec"
      },
      "execution_count": null,
      "outputs": [
        {
          "output_type": "execute_result",
          "data": {
            "text/plain": [
              "str"
            ]
          },
          "metadata": {},
          "execution_count": 160
        }
      ]
    },
    {
      "cell_type": "code",
      "source": [
        "len(\"Selam\")"
      ],
      "metadata": {
        "colab": {
          "base_uri": "https://localhost:8080/"
        },
        "id": "jxMVOI6bIhTo",
        "outputId": "b98a76e2-f59f-4e30-b941-e75c4ac49ab4"
      },
      "execution_count": null,
      "outputs": [
        {
          "output_type": "execute_result",
          "data": {
            "text/plain": [
              "5"
            ]
          },
          "metadata": {},
          "execution_count": 161
        }
      ]
    },
    {
      "cell_type": "code",
      "source": [
        "def isimKisalt(isim):\n",
        "  isimler=isim.split(\" \")\n",
        "  for a in isimler:\n",
        "    print(a[0],end=\".\")"
      ],
      "metadata": {
        "id": "V567esafIipS"
      },
      "execution_count": null,
      "outputs": []
    },
    {
      "cell_type": "code",
      "source": [
        "isimKisalt(\"Çağrı Güngör\")"
      ],
      "metadata": {
        "colab": {
          "base_uri": "https://localhost:8080/"
        },
        "id": "QIs0ga6EJEEv",
        "outputId": "c9485ca2-3f71-4387-f8f4-2cb7fa3c74bf"
      },
      "execution_count": null,
      "outputs": [
        {
          "output_type": "stream",
          "name": "stdout",
          "text": [
            "Ç.G."
          ]
        }
      ]
    },
    {
      "cell_type": "code",
      "source": [
        "isimKisalt(\"Hasan Çağrı Güngör\")"
      ],
      "metadata": {
        "colab": {
          "base_uri": "https://localhost:8080/"
        },
        "id": "0xvGhna1JHgW",
        "outputId": "33c92768-b36e-4765-ce99-db3c6bd78d75"
      },
      "execution_count": null,
      "outputs": [
        {
          "output_type": "stream",
          "name": "stdout",
          "text": [
            "H.Ç.G."
          ]
        }
      ]
    },
    {
      "cell_type": "code",
      "source": [
        "def selamVer():\n",
        "  print(\"Merhaba\")"
      ],
      "metadata": {
        "id": "qeeG6mFFJKFg"
      },
      "execution_count": null,
      "outputs": []
    },
    {
      "cell_type": "code",
      "source": [
        "selamVer()"
      ],
      "metadata": {
        "colab": {
          "base_uri": "https://localhost:8080/"
        },
        "id": "OBDBN7CVJT6o",
        "outputId": "3d9aeada-efc3-447d-93ab-74d15cbd11a7"
      },
      "execution_count": null,
      "outputs": [
        {
          "output_type": "stream",
          "name": "stdout",
          "text": [
            "Merhaba\n"
          ]
        }
      ]
    },
    {
      "cell_type": "code",
      "source": [
        "def ucsayi(sayi1,sayi2,sayi3):\n",
        "  liste=[sayi1,sayi2,sayi3]\n",
        "  global total\n",
        "  toplam=sum(liste)\n",
        "  total=toplam\n",
        "  toplam=toplam-min(liste)\n",
        "  toplam2=total-max(liste)\n",
        "  return toplam,toplam2\n"
      ],
      "metadata": {
        "id": "m6dmhy_0JUzE"
      },
      "execution_count": null,
      "outputs": []
    },
    {
      "cell_type": "code",
      "source": [
        "a,b=ucsayi(10,12,13)"
      ],
      "metadata": {
        "id": "NVSgenqAJpbV"
      },
      "execution_count": null,
      "outputs": []
    },
    {
      "cell_type": "code",
      "source": [
        "total"
      ],
      "metadata": {
        "colab": {
          "base_uri": "https://localhost:8080/"
        },
        "id": "PnH3R0dzKhKM",
        "outputId": "a7417ee4-0b18-470a-9c6b-c80af436f0f0"
      },
      "execution_count": null,
      "outputs": [
        {
          "output_type": "execute_result",
          "data": {
            "text/plain": [
              "35"
            ]
          },
          "metadata": {},
          "execution_count": 28
        }
      ]
    },
    {
      "cell_type": "code",
      "source": [
        "a"
      ],
      "metadata": {
        "colab": {
          "base_uri": "https://localhost:8080/"
        },
        "id": "XgUgjIc6JsPD",
        "outputId": "b40b94d2-a9c6-4271-a996-57567e996288"
      },
      "execution_count": null,
      "outputs": [
        {
          "output_type": "execute_result",
          "data": {
            "text/plain": [
              "25"
            ]
          },
          "metadata": {},
          "execution_count": 29
        }
      ]
    },
    {
      "cell_type": "code",
      "source": [
        "b"
      ],
      "metadata": {
        "colab": {
          "base_uri": "https://localhost:8080/"
        },
        "id": "5NwXzlkpKE15",
        "outputId": "343d860c-8a50-4fc0-8ef0-2be1f0170945"
      },
      "execution_count": null,
      "outputs": [
        {
          "output_type": "execute_result",
          "data": {
            "text/plain": [
              "22"
            ]
          },
          "metadata": {},
          "execution_count": 30
        }
      ]
    },
    {
      "cell_type": "markdown",
      "source": [
        "# Ders 20 - Fonksiyonlarda Default Parametreler"
      ],
      "metadata": {
        "id": "zrTzoLhf6L5o"
      }
    },
    {
      "cell_type": "code",
      "source": [
        "def daireAlan(r=1,pi=3.14):\n",
        "  alan=r*r*pi\n",
        "  return alan"
      ],
      "metadata": {
        "id": "M4SiTa0RKbbP"
      },
      "execution_count": null,
      "outputs": []
    },
    {
      "cell_type": "code",
      "source": [
        "daireAlan(3,3.14)"
      ],
      "metadata": {
        "colab": {
          "base_uri": "https://localhost:8080/"
        },
        "id": "y3I0rsKO6ry_",
        "outputId": "9692f480-2385-45cb-81ad-13d0f0d9772b"
      },
      "execution_count": null,
      "outputs": [
        {
          "output_type": "execute_result",
          "data": {
            "text/plain": [
              "28.26"
            ]
          },
          "metadata": {},
          "execution_count": 9
        }
      ]
    },
    {
      "cell_type": "code",
      "source": [
        "daireAlan(3,3)"
      ],
      "metadata": {
        "colab": {
          "base_uri": "https://localhost:8080/"
        },
        "id": "36C3zWIB64Gm",
        "outputId": "e8527861-9368-44a6-813f-44c6cf3c7ed2"
      },
      "execution_count": null,
      "outputs": [
        {
          "output_type": "execute_result",
          "data": {
            "text/plain": [
              "27"
            ]
          },
          "metadata": {},
          "execution_count": 10
        }
      ]
    },
    {
      "cell_type": "code",
      "source": [
        "daireAlan()"
      ],
      "metadata": {
        "colab": {
          "base_uri": "https://localhost:8080/"
        },
        "id": "4VSqcSpZ66DE",
        "outputId": "bf00f1d7-8605-4ee1-f668-899b9542bcaa"
      },
      "execution_count": null,
      "outputs": [
        {
          "output_type": "execute_result",
          "data": {
            "text/plain": [
              "3.14"
            ]
          },
          "metadata": {},
          "execution_count": 11
        }
      ]
    },
    {
      "cell_type": "markdown",
      "source": [
        "# Ders 21 - Fonksiyonlarda *args ve *kwargs Yapıları"
      ],
      "metadata": {
        "id": "iU7h6kG97bKy"
      }
    },
    {
      "cell_type": "code",
      "source": [
        "def topla(a,b,c):\n",
        "  toplam=a+b+c\n",
        "  return toplam"
      ],
      "metadata": {
        "id": "-jVKmuuR9Kmq"
      },
      "execution_count": null,
      "outputs": []
    },
    {
      "cell_type": "code",
      "source": [
        "topla(20,30,40)"
      ],
      "metadata": {
        "colab": {
          "base_uri": "https://localhost:8080/"
        },
        "id": "FGC6YvtM9wUG",
        "outputId": "70316989-38e3-49ce-cb17-f80b997676b0"
      },
      "execution_count": null,
      "outputs": [
        {
          "output_type": "execute_result",
          "data": {
            "text/plain": [
              "90"
            ]
          },
          "metadata": {},
          "execution_count": 37
        }
      ]
    },
    {
      "cell_type": "code",
      "source": [
        "def multiTopla(*sayilar):\n",
        "  toplam=0\n",
        "  for a in sayilar:\n",
        "    toplam=toplam+a\n",
        "  return toplam"
      ],
      "metadata": {
        "id": "GN7iElE09z0g"
      },
      "execution_count": null,
      "outputs": []
    },
    {
      "cell_type": "code",
      "source": [
        "multiTopla(20,30,40,60)"
      ],
      "metadata": {
        "colab": {
          "base_uri": "https://localhost:8080/"
        },
        "id": "tJ_8c0zF9_ky",
        "outputId": "a9c90041-cb1d-426c-fc22-5ef1952eae06"
      },
      "execution_count": null,
      "outputs": [
        {
          "output_type": "execute_result",
          "data": {
            "text/plain": [
              "150"
            ]
          },
          "metadata": {},
          "execution_count": 44
        }
      ]
    },
    {
      "cell_type": "code",
      "source": [
        "def multiToplaCarp(*sayilar,carp=1):\n",
        "  toplam=0\n",
        "  for a in sayilar:\n",
        "    toplam=toplam+a\n",
        "  return toplam*carp"
      ],
      "metadata": {
        "id": "tVHJQ0hE-BGp"
      },
      "execution_count": null,
      "outputs": []
    },
    {
      "cell_type": "code",
      "source": [
        "multiToplaCarp(30,40,50,carp=5)"
      ],
      "metadata": {
        "colab": {
          "base_uri": "https://localhost:8080/"
        },
        "id": "gN3rYJia-TQz",
        "outputId": "f6cb5818-11f5-4cf3-9176-c026e5129b1b"
      },
      "execution_count": null,
      "outputs": [
        {
          "output_type": "execute_result",
          "data": {
            "text/plain": [
              "600"
            ]
          },
          "metadata": {},
          "execution_count": 48
        }
      ]
    },
    {
      "cell_type": "code",
      "source": [
        "def sinif(**ogrenciler,):\n",
        "  return ogrenciler\n"
      ],
      "metadata": {
        "id": "Jwq8US9w-VpH"
      },
      "execution_count": null,
      "outputs": []
    },
    {
      "cell_type": "code",
      "source": [
        "sinif(a112=\"Çağrı\",a113=\"Hasan\")"
      ],
      "metadata": {
        "colab": {
          "base_uri": "https://localhost:8080/"
        },
        "id": "pVb05RnW-k_I",
        "outputId": "db8ee793-4b70-44cb-b4bc-e9a3112d2cdf"
      },
      "execution_count": null,
      "outputs": [
        {
          "output_type": "execute_result",
          "data": {
            "text/plain": [
              "{'a112': 'Çağrı', 'a113': 'Hasan'}"
            ]
          },
          "metadata": {},
          "execution_count": 52
        }
      ]
    },
    {
      "cell_type": "markdown",
      "source": [
        "#Ders 22 - Python Fonksiyon Açıklamaları"
      ],
      "metadata": {
        "id": "1tfkJY_J_7Z-"
      }
    },
    {
      "cell_type": "code",
      "source": [
        "def kurehacim(pi=3.14,r=1):\n",
        "  \"\"\"\n",
        "  Bu fonksiyon ile herhangi bir kürenin hacmini hesaplayabilirsiniz.\n",
        "  Parameter\n",
        "  ------------\n",
        "  r:float\n",
        "    kürenin yarıçapını belirtir\n",
        "  pi:float\n",
        "    pi sayısı tanımlı değer 3.14\n",
        "\n",
        "  Formula\n",
        "  ------------\n",
        "\n",
        "  Küre Hacim: pi * 4/3 * r**3\n",
        "\n",
        "  Details\n",
        "  ------------\n",
        "\n",
        "  Kanalı lütfen takip edin\n",
        "  instagm: @hasancagrigungor\n",
        "\n",
        "  \"\"\"\n",
        "  hacim=4/3*pi*r*r*r\n",
        "  return hacim"
      ],
      "metadata": {
        "id": "5Xh022SKBeJd"
      },
      "execution_count": 77,
      "outputs": []
    },
    {
      "cell_type": "code",
      "source": [
        "kurehacim(r=10)"
      ],
      "metadata": {
        "colab": {
          "base_uri": "https://localhost:8080/"
        },
        "id": "CZwUV86fPQEY",
        "outputId": "e247ef27-7b9a-40f5-826c-25986ebf582a"
      },
      "execution_count": 75,
      "outputs": [
        {
          "output_type": "execute_result",
          "data": {
            "text/plain": [
              "4186.666666666667"
            ]
          },
          "metadata": {},
          "execution_count": 75
        }
      ]
    },
    {
      "cell_type": "markdown",
      "source": [
        "# Ders 23 - Lambda Fonksiyonu"
      ],
      "metadata": {
        "id": "fEpy4SkBRunr"
      }
    },
    {
      "cell_type": "code",
      "source": [
        "x=lambda a:a**2"
      ],
      "metadata": {
        "id": "tz0NgAk7RptL"
      },
      "execution_count": 87,
      "outputs": []
    },
    {
      "cell_type": "code",
      "source": [
        "x(2)"
      ],
      "metadata": {
        "colab": {
          "base_uri": "https://localhost:8080/"
        },
        "id": "nSCocpk7STwZ",
        "outputId": "124d5af5-39b9-4385-a6ce-a86f04d5c41b"
      },
      "execution_count": 88,
      "outputs": [
        {
          "output_type": "execute_result",
          "data": {
            "text/plain": [
              "4"
            ]
          },
          "metadata": {},
          "execution_count": 88
        }
      ]
    },
    {
      "cell_type": "code",
      "source": [
        "x(3)"
      ],
      "metadata": {
        "colab": {
          "base_uri": "https://localhost:8080/"
        },
        "id": "KhkY4gUgSUuh",
        "outputId": "950e9818-c80f-49b9-d81a-ed22bf877cd9"
      },
      "execution_count": 89,
      "outputs": [
        {
          "output_type": "execute_result",
          "data": {
            "text/plain": [
              "9"
            ]
          },
          "metadata": {},
          "execution_count": 89
        }
      ]
    },
    {
      "cell_type": "code",
      "source": [
        "y=lambda a,b:(a+b)**2"
      ],
      "metadata": {
        "id": "41BcI3rmSVgr"
      },
      "execution_count": 90,
      "outputs": []
    },
    {
      "cell_type": "code",
      "source": [
        "y(3,4)"
      ],
      "metadata": {
        "colab": {
          "base_uri": "https://localhost:8080/"
        },
        "id": "RJVVI3ChScDV",
        "outputId": "90709b9c-f934-46a0-f831-b9add5ebbddd"
      },
      "execution_count": 92,
      "outputs": [
        {
          "output_type": "execute_result",
          "data": {
            "text/plain": [
              "49"
            ]
          },
          "metadata": {},
          "execution_count": 92
        }
      ]
    },
    {
      "cell_type": "code",
      "source": [
        "def toplavecarp(s1,s2):\n",
        "  toplam=s1+s2\n",
        "  return lambda a:toplam*a"
      ],
      "metadata": {
        "id": "PQUljFR2SdVt"
      },
      "execution_count": 93,
      "outputs": []
    },
    {
      "cell_type": "code",
      "source": [
        "z=toplavecarp(5,6)"
      ],
      "metadata": {
        "id": "mTL9AHcVSr7R"
      },
      "execution_count": 95,
      "outputs": []
    },
    {
      "cell_type": "code",
      "source": [
        "z(4)"
      ],
      "metadata": {
        "colab": {
          "base_uri": "https://localhost:8080/"
        },
        "id": "lUTUJmMlSvsn",
        "outputId": "31185a04-2610-4fba-ff30-28261a527d9e"
      },
      "execution_count": 96,
      "outputs": [
        {
          "output_type": "execute_result",
          "data": {
            "text/plain": [
              "44"
            ]
          },
          "metadata": {},
          "execution_count": 96
        }
      ]
    },
    {
      "cell_type": "code",
      "source": [
        "z(5)"
      ],
      "metadata": {
        "colab": {
          "base_uri": "https://localhost:8080/"
        },
        "id": "CeYuVzC6SzsC",
        "outputId": "49621701-1e25-40a3-fa2d-5f1eb5963a14"
      },
      "execution_count": 97,
      "outputs": [
        {
          "output_type": "execute_result",
          "data": {
            "text/plain": [
              "55"
            ]
          },
          "metadata": {},
          "execution_count": 97
        }
      ]
    },
    {
      "cell_type": "markdown",
      "source": [
        "# Ders 24 - Stringlerde Format Yapısı"
      ],
      "metadata": {
        "id": "BzD6HZvfTdxj"
      }
    },
    {
      "cell_type": "code",
      "source": [
        "isim=\"Çağrı\"\n",
        "mesaj=\"Merhaba \"+isim\n",
        "print(mesaj)"
      ],
      "metadata": {
        "colab": {
          "base_uri": "https://localhost:8080/"
        },
        "id": "Vjzh1C7jS0vt",
        "outputId": "2c1ae59f-54a6-4f66-931d-cd8ea05ad6cd"
      },
      "execution_count": 99,
      "outputs": [
        {
          "output_type": "stream",
          "name": "stdout",
          "text": [
            "Merhaba Çağrı\n"
          ]
        }
      ]
    },
    {
      "cell_type": "code",
      "source": [
        "isim=\"Hasan\"\n",
        "kelime=\"Spora\"\n",
        "mesaj=\"Merhaba {}.{} gittin mi\"\n",
        "print(mesaj.format(isim,kelime))"
      ],
      "metadata": {
        "colab": {
          "base_uri": "https://localhost:8080/"
        },
        "id": "6o6IvV13bwRo",
        "outputId": "9ca42d1e-4de0-4a22-cfe3-5db225974038"
      },
      "execution_count": 103,
      "outputs": [
        {
          "output_type": "stream",
          "name": "stdout",
          "text": [
            "Merhaba Hasan.Spora gittin mi\n"
          ]
        }
      ]
    },
    {
      "cell_type": "code",
      "source": [
        "mesaj=\"Merhaba {isim}.{nereye} gittin mi.{isim} lütfen bana cevap ver\"\n",
        "print(mesaj.format(isim=\"Çağrı\",nereye=\"Okula\"))"
      ],
      "metadata": {
        "colab": {
          "base_uri": "https://localhost:8080/"
        },
        "id": "7aU6X-0Nb1pz",
        "outputId": "a8e9a30c-b150-4b95-b026-3885f2dd0b87"
      },
      "execution_count": 105,
      "outputs": [
        {
          "output_type": "stream",
          "name": "stdout",
          "text": [
            "Merhaba Çağrı.Okula gittin mi.Çağrı lütfen bana cevap ver\n"
          ]
        }
      ]
    },
    {
      "cell_type": "code",
      "source": [
        "mesaj=\"Merhaba %s.%s gittin mi\"%(\"Çağrı\",\"Okula\")\n",
        "print(mesaj)"
      ],
      "metadata": {
        "colab": {
          "base_uri": "https://localhost:8080/"
        },
        "id": "ix51DjSqcN5K",
        "outputId": "b3b1778c-51ac-40b8-c1ee-461cd523c2d0"
      },
      "execution_count": 110,
      "outputs": [
        {
          "output_type": "stream",
          "name": "stdout",
          "text": [
            "Merhaba Çağrı.Okula gittin mi\n"
          ]
        }
      ]
    },
    {
      "cell_type": "code",
      "source": [],
      "metadata": {
        "id": "1oVd9CQlcfc_"
      },
      "execution_count": null,
      "outputs": []
    }
  ]
}